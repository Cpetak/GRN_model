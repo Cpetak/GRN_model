{
 "cells": [
  {
   "cell_type": "code",
   "execution_count": 75,
   "metadata": {},
   "outputs": [],
   "source": [
    "import numpy as np\n",
    "import random\n",
    "import matplotlib.pyplot as plt\n",
    "from copy import deepcopy\n",
    "from tqdm import trange\n",
    "from math import e\n",
    "from scipy.stats import beta\n",
    "from scipy.spatial import distance\n",
    "import argparse\n",
    "import hashlib\n",
    "import json\n",
    "import wandb\n",
    "\n",
    "def conf2tag(conf, n=8):\n",
    "    \"\"\"\n",
    "    Creates unique tags for tracking experiments.\n",
    "    \"\"\"\n",
    "    return hashlib.sha1(json.dumps(conf, sort_keys=True).encode(\"utf-8\")).digest().hex()[:n]\n",
    "\n",
    "def generate_optimum(nenvs, neffect):\n",
    "    \"\"\"\n",
    "    Generates optimal expression patterns for different environments.\n",
    "    Parameters:\n",
    "        :int nenvs:         Number of different environments that can come up.\n",
    "        :int neffect:       Number of effector genes, ie genes that matter in fitness function.\n",
    "    Returns:\n",
    "        List of optimal expression patterns.\n",
    "    \"\"\"\n",
    "    envs = []\n",
    "    if nenvs == 2:\n",
    "        x = np.linspace(0,1,100)\n",
    "        a, b = 2, 7\n",
    "        y = beta.pdf(x, a, b) #using probability density function from scipy.stats\n",
    "        y /= y.max()\n",
    "        e=[]\n",
    "        for i in range(neffect):\n",
    "            t = y[int((100/neffect)*i)]\n",
    "            t = np.around(t,2)\n",
    "            e.append(t)\n",
    "        envs.append(np.asarray(e))\n",
    "        envs.append(np.asarray(e[::-1]))\n",
    "    else:\n",
    "        for env in range(nenvs):\n",
    "            x = np.linspace(0,1,100)\n",
    "            a, b = np.random.randint(low=1,high=30,size=1), np.random.randint(low=2,high=30,size=1)\n",
    "            y = beta.pdf(x, a, b)\n",
    "            y /= y.max()\n",
    "            e=[]\n",
    "            for i in range(neffect):\n",
    "                t = y[int((100/neffect)*i)]\n",
    "                t = np.around(t,2)\n",
    "                e.append(t)\n",
    "            envs.append(np.asarray(e))\n",
    "    print(\"created envs\")\n",
    "    return(envs)\n",
    "\n",
    "\n",
    "def fitness_function(grn_out,envs,state,args):\n",
    "    #distance of GRN output to perfect expression in specific environmental state\n",
    "    if np.sum(grn_out) != 0:\n",
    "        grn_out = np.asarray(grn_out)\n",
    "\n",
    "        diff = np.abs(grn_out - envs[state]).sum()\n",
    "        f = 1-diff/args.E\n",
    "    else:\n",
    "        #print('not stable')\n",
    "        f = 0\n",
    "\n",
    "    return(f**3)\n",
    "\n",
    "def calc_strategy(pop, ssize, envs, args):\n",
    "    sample = np.random.choice(pop, ssize, replace=False)\n",
    "    low = 0\n",
    "    high = 0\n",
    "    spec = 0\n",
    "    gen = 0\n",
    "    if args.nenv == 2:\n",
    "        for p in sample:\n",
    "            grn_out = p.grn_output()\n",
    "            first_fitness = fitness_function(grn_out,envs,0,args)\n",
    "            second_fitness = fitness_function(grn_out,envs,1,args)\n",
    "            print(1,first_fitness)\n",
    "            print(2,second_fitness)\n",
    "            if (first_fitness < 0.3 and second_fitness < 0.3) or (0.3 <= first_fitness <= 0.7 and second_fitness < 0.3) or (first_fitness < 0.3 and 0.3 <=second_fitness <= 0.7):\n",
    "                low += 1\n",
    "            if (first_fitness > 0.7 and second_fitness > 0.7) or (0.3 <= first_fitness <= 0.7 and second_fitness > 0.7) or (first_fitness > 0.7 and 0.3 <=second_fitness <= 0.7):\n",
    "                high += 1\n",
    "            if (first_fitness < 0.3 and second_fitness > 0.7) or (first_fitness > 0.7 and second_fitness < 0.3):\n",
    "                spec += 1\n",
    "            if 0.3 <= first_fitness <= 0.7 and 0.3 <= second_fitness <= 0.7:\n",
    "                gen += 1\n",
    "                \n",
    "            print(\"low\",low)\n",
    "            print(\"high\", high)\n",
    "            print(\"spec\",spec)\n",
    "            print(\"gen\",gen)\n",
    "            \n",
    "    return(low, high,spec,gen)   \n",
    "            \n",
    "\n",
    "def calc_rob(pop, ssize, rounds, envs, state, args):\n",
    "    ave_exp_rob = []\n",
    "    ave_fit_rob = []\n",
    "    ave_ben_mut = []\n",
    "    ave_del_mut = []\n",
    "    sample = np.random.choice(pop, ssize, replace=False)\n",
    "    for p in sample:   \n",
    "        exp_rob = 0\n",
    "        fit_rob = 0\n",
    "        ben_mut = 0\n",
    "        del_mut = 0\n",
    "        ori_grn_out = p.grn_output()\n",
    "        ori_fitness = fitness_function(ori_grn_out,envs,state,args)\n",
    "        for mut in range(rounds):\n",
    "            sample_cp = deepcopy(p)\n",
    "            sample_cp.mut_edge()\n",
    "            new_grn_out = sample_cp.grn_output()\n",
    "            new_fitness = fitness_function(new_grn_out,envs,state,args)\n",
    "            if np.array_equal(ori_grn_out,new_grn_out):\n",
    "                exp_rob += 1\n",
    "                fit_rob += 1\n",
    "            else:\n",
    "                if new_fitness > ori_fitness:\n",
    "                    ben_mut +=1\n",
    "                elif new_fitness < ori_fitness:\n",
    "                    del_mut += 1\n",
    "                else:\n",
    "                    fit_rob += 1\n",
    "        if exp_rob > 0:\n",
    "            ave_exp_rob.append(exp_rob/rounds)\n",
    "        else:\n",
    "            ave_exp_rob.append(exp_rob)\n",
    "        if fit_rob > 0:\n",
    "            ave_fit_rob.append(fit_rob/rounds)\n",
    "        else:\n",
    "            ave_fit_rob.append(fit_rob)\n",
    "        if del_mut > 0:\n",
    "            ave_del_mut.append(del_mut/(rounds - fit_rob))\n",
    "        else:\n",
    "            ave_del_mut.append(del_mut)\n",
    "        if ben_mut > 0:\n",
    "            ave_ben_mut.append(ben_mut/(rounds - fit_rob))\n",
    "        else:\n",
    "            ave_ben_mut.append(ben_mut)\n",
    "    return(np.average(ave_exp_rob), np.average(ave_fit_rob), np.average(ave_ben_mut), np.average(ave_del_mut))\n",
    "    \n",
    "\n",
    "def create_pop(args):\n",
    "    pop = []\n",
    "\n",
    "    for i in range(args.pop_size):\n",
    "        t = Agent(i+2, args)\n",
    "        pop.append(t)\n",
    "\n",
    "    print(\"created pop\")\n",
    "    return(pop)\n",
    "\n",
    "class Agent:\n",
    "    def __init__(self,ID,args):\n",
    "        \"\"\"\n",
    "        Initialization of an individual.\n",
    "        Parameters:\n",
    "            :int ID:        Unique ID of the individual.\n",
    "        Returns:\n",
    "            None. Constructor method.\n",
    "        \"\"\"\n",
    "\n",
    "        self.args = args #so that we can run experiments with various parameters\n",
    "\n",
    "        #BUILDING INITIAL GRN\n",
    "        N = self.args.E +1\n",
    "        self.N = N #number of initial nodes, maternal + effectors\n",
    "        self.nodes = list(np.arange(N))\n",
    "        self.adjM = np.zeros((N, N))\n",
    "        self.adjM[0,1:] = 0.1\n",
    "        #initiate with maternal connected to effector genes\n",
    "        self.adjM[0,0] = 1\n",
    "        #and maternal positive feedbackloop (otherwise it turns itself down immediately and so the rest is also repressed)\n",
    "\n",
    "        #OTHER PARAMETERS\n",
    "        self.ID = ID\n",
    "        self.tree = [] #ID and tree for building phylogenic trees\n",
    "        self.alpha = 10 #for sigmoid function - could be mutated later, now constant\n",
    "        self.blacklist = [] #set of deleted genes\n",
    "        self.fitness = 0\n",
    "\n",
    "        self.dn_rate = self.args.dn_rate\n",
    "        self.dup_rate = self.args.dup_rate\n",
    "        self.del_rate = self.args.del_rate\n",
    "        self.edge_rate = self.args.edge_rate\n",
    "        #these rates can later be under selection too\n",
    "\n",
    "\n",
    "    def mutate(self):\n",
    "\n",
    "        if random.uniform(0, 1) < self.dn_rate:\n",
    "            self.add_dn_node()\n",
    "\n",
    "        if random.uniform(0, 1) < self.dup_rate:\n",
    "            self.add_dup_node()\n",
    "\n",
    "        if random.uniform(0, 1) < self.del_rate:\n",
    "            self.del_node()\n",
    "\n",
    "        if random.uniform(0, 1) < self.edge_rate:\n",
    "            self.mut_edge()\n",
    "\n",
    "    def add_dn_node(self):\n",
    "        #de novo gene, no interactions when initiated\n",
    "        self.nodes.append(self.N)\n",
    "\n",
    "        #Make adj matrix bigger\n",
    "        column_to_be_added = np.zeros(self.N)\n",
    "        self.adjM = np.column_stack((self.adjM, column_to_be_added))\n",
    "        self.N += 1\n",
    "\n",
    "        if self.N > 50:\n",
    "            print(\"Number of nodes greater than 50!\")\n",
    "\n",
    "        row_to_be_added = np.zeros(self.N)\n",
    "        self.adjM = np.vstack((self.adjM, row_to_be_added))\n",
    "\n",
    "    def add_dup_node(self):\n",
    "        #duplicate a node with all of its connections\n",
    "        avail = list(set(self.nodes) - set(self.blacklist) - set(self.args.default_nodes))\n",
    "\n",
    "        if len(avail) > 0:\n",
    "            dup_node = np.random.choice(avail)\n",
    "\n",
    "            column_to_be_added = self.adjM[:,dup_node] #duplicate column\n",
    "            self.adjM = np.column_stack((self.adjM, column_to_be_added))\n",
    "\n",
    "            row_to_be_added = self.adjM[dup_node,:] #duplicate row\n",
    "            self.adjM = np.vstack((self.adjM, row_to_be_added))\n",
    "\n",
    "            self.nodes.append(self.N)\n",
    "            self.N += 1\n",
    "\n",
    "            if self.N > 50:\n",
    "                print(\"Number of nodes greater than 50!\")\n",
    "\n",
    "    def del_node(self):\n",
    "        #delete an existing node with is not an effector or maternal gene\n",
    "        #rows/columns in adj matrix are not deleted, all interactions are set to 0 instead\n",
    "        #self.N incudes deleted nodes!\n",
    "        avail = list(set(self.nodes) - set(self.blacklist) - set(self.args.default_nodes))\n",
    "\n",
    "        if len(avail) > 0:\n",
    "\n",
    "            deleted_node = np.random.choice(avail)\n",
    "\n",
    "            self.adjM[deleted_node,:] = np.zeros(self.N)\n",
    "            self.adjM[:,deleted_node] = np.zeros(self.N)\n",
    "\n",
    "            self.blacklist.append(deleted_node)\n",
    "\n",
    "    def mut_edge(self):\n",
    "        #mutate the weight of an edge\n",
    "        avail = list(set(self.nodes) - set(self.blacklist))\n",
    "\n",
    "        mod_avail_from = list(set(avail) - set(self.args.effectors)) #effectors can't regulate\n",
    "        from_nodes = np.random.choice(mod_avail_from)\n",
    "\n",
    "        avail.remove(0) #maternal can't be regulated\n",
    "\n",
    "        if from_nodes != 0: #otherwise I would remove 0 twice\n",
    "            avail.remove(from_nodes) #self loops are not allowed\n",
    "\n",
    "        to_nodes = np.random.choice(avail)\n",
    "\n",
    "        self.adjM[from_nodes,to_nodes] = np.around(np.random.normal(0, 1, 1), 2)\n",
    "\n",
    "\n",
    "    def sigm(self,sum_input):\n",
    "    #adapted from wang 2014\n",
    "        sum_input = sum_input-0.5\n",
    "        x = sum_input * -self.alpha\n",
    "        output = 1/(1 + np.exp(x))\n",
    "        return output\n",
    "\n",
    "    def grn_output(self, debug=False):\n",
    "        a = self.adjM\n",
    "        if debug:\n",
    "            print(a)\n",
    "\n",
    "        step = lambda a,s: self.sigm(s.dot(a)) #a step is matrix multiplication followed by checking on sigmodial function\n",
    "        s = np.zeros(self.N)\n",
    "        s[0] = 1 #starts with only maternal factor on\n",
    "        e=0 #counter for state stability\n",
    "        i=0 #counter for number of GRN updates\n",
    "        ss=[] #stores GRN state for comparision to updated state\n",
    "\n",
    "        while e < 2 and i < 3*(self.N-len(self.blacklist)):\n",
    "            if debug:\n",
    "                print(s) #print expression state\n",
    "            ss.append(s) #only maternal ON at first\n",
    "            s=step(a,s)\n",
    "            s=np.around(s,2)\n",
    "            s[s <=0.01] =0 #otherwise as sigm(0) is 0.01 deleted nodes wouldn't really be deleted\n",
    "            s[s ==0.99] =1 #otherwise maternat impact is not constant but reducing\n",
    "            if np.array_equal(ss[i], s):\n",
    "                if i != 0:\n",
    "                    e+=1\n",
    "            i+=1\n",
    "\n",
    "        if e > 1:\n",
    "            conc_of_effectors = s[1:self.args.E+1]\n",
    "\n",
    "        else:\n",
    "            conc_of_effectors = np.linspace(0,0,self.args.E)\n",
    "            conc_of_effectors = [int(i) for i in conc_of_effectors]\n",
    "        return(conc_of_effectors)\n",
    "\n",
    "\n",
    "def evolve(args):\n",
    "    #gens = number of generations\n",
    "    #season_length = number of generations before environment switches\n",
    "    pop = create_pop(args)\n",
    "    state = 0 # we start with environment 0\n",
    "    envs = generate_optimum(args.nenv,args.E)\n",
    "\n",
    "    average_fitness = [] #for tracking average fitness in pop per generation\n",
    "    ave_grnsize = [] #average GRN size\n",
    "    exp_rob= []\n",
    "    fit_rob= []\n",
    "    ben_mut= []\n",
    "    del_mut= []\n",
    "    low=[]\n",
    "    high=[]\n",
    "    spec=[]\n",
    "    gen=[]\n",
    "\n",
    "    for i in trange(args.gens):\n",
    "        #every generation\n",
    "        #check fitness and generate based on that new population\n",
    "\n",
    "        grn_size=[]\n",
    "\n",
    "        for idx, ind in enumerate(pop): #mutate and change ID\n",
    "            ind.mutate()\n",
    "            if i > 0:\n",
    "                ind.ID = 2+(args.pop_size*i)+idx\n",
    "            ind.tree.append(ind.ID)\n",
    "            grn_size.append(ind.N-len(ind.blacklist))\n",
    "\n",
    "        ave_grnsize.append(np.average(grn_size))\n",
    "        wandb.log({'average_grnsize': np.average(grn_size)}, commit=False)\n",
    "        \n",
    "        ssize = 1#int(args.pop_size/10)\n",
    "        rounds = 50\n",
    "        ave_exp_rob, ave_fit_rob, ave_ben_mut, ave_del_mut=calc_rob(pop, ssize, rounds, envs, state, args)\n",
    "        exp_rob.append(ave_exp_rob)\n",
    "        fit_rob.append(ave_fit_rob)\n",
    "        ben_mut.append(ave_ben_mut)\n",
    "        del_mut.append(ave_del_mut)\n",
    "        \n",
    "        lowt, hight,spect,gent = calc_strategy(pop, ssize, envs, args)\n",
    "        low.append(lowt)\n",
    "        high.append(hight)\n",
    "        spec.append(spect)\n",
    "        gen.append(gent)\n",
    "\n",
    "        for p in pop:\n",
    "            grn_out = p.grn_output()\n",
    "            p.fitness = fitness_function(grn_out,envs,state,args) #will depend on env\n",
    "            cost_of_nodes = (p.N-len(p.blacklist)-(args.E+1))*args.node_cost\n",
    "            if cost_of_nodes <= p.fitness:\n",
    "                p.fitness = p.fitness - cost_of_nodes\n",
    "\n",
    "        pop_fitness = [x.fitness for x in pop]\n",
    "        tot_fitness = np.sum(pop_fitness)\n",
    "        average_fitness.append(np.mean(pop_fitness))\n",
    "        wandb.log({'average_fitness': np.mean(pop_fitness)}, commit=False)\n",
    "\n",
    "        pop_prob = [f/tot_fitness for f in pop_fitness]\n",
    "        new_pop = np.random.choice(pop, args.pop_size, p=pop_prob, replace = True) #same individual can be selected over and over again\n",
    "        pop = [deepcopy(agent) for agent in new_pop]\n",
    "        \n",
    "\n",
    "\n",
    "        rd = (i+1) % args.season_length\n",
    "\n",
    "        if rd == 0:\n",
    "            #print(\"after this changed state\")\n",
    "            if state == 0:\n",
    "                state = 1 #np.random.choice(nenvs)\n",
    "            else:\n",
    "                state = 0\n",
    "\n",
    "    best_agent = max([{\"fitness\" : x.fitness, \"Agent\" : x.adjM} for x in pop], key=lambda x : x[\"fitness\"])[\"Agent\"]\n",
    "\n",
    "    return(pop, average_fitness, ave_grnsize, exp_rob, fit_rob, ben_mut, del_mut, best_agent, high,low,spec,gen)\n",
    "\n",
    "\n"
   ]
  },
  {
   "cell_type": "code",
   "execution_count": 76,
   "metadata": {
    "scrolled": false
   },
   "outputs": [
    {
     "name": "stderr",
     "output_type": "stream",
     "text": [
      "  0%|          | 1/1000 [00:00<02:55,  5.69it/s]"
     ]
    },
    {
     "name": "stdout",
     "output_type": "stream",
     "text": [
      "ANONYMUSef1bc3fd_1\n",
      "running code\n",
      "created pop\n",
      "created envs\n",
      "1 0.47455200000000003\n",
      "2 0.5513679999999999\n",
      "low 0\n",
      "high 0\n",
      "spec 0\n",
      "gen 1\n"
     ]
    },
    {
     "name": "stderr",
     "output_type": "stream",
     "text": [
      "  0%|          | 3/1000 [00:00<02:24,  6.91it/s]"
     ]
    },
    {
     "name": "stdout",
     "output_type": "stream",
     "text": [
      "1 0.14678017187499998\n",
      "2 0.14678017187499998\n",
      "low 1\n",
      "high 0\n",
      "spec 0\n",
      "gen 0\n",
      "1 0.45210067187500014\n",
      "2 0.45210067187500014\n",
      "low 0\n",
      "high 0\n",
      "spec 0\n",
      "gen 1\n",
      "1 0.759798828125\n",
      "2 0.20277929687500001\n",
      "low 0\n",
      "high 0\n",
      "spec 1\n",
      "gen 0\n"
     ]
    },
    {
     "name": "stderr",
     "output_type": "stream",
     "text": [
      "  1%|          | 6/1000 [00:00<02:03,  8.02it/s]"
     ]
    },
    {
     "name": "stdout",
     "output_type": "stream",
     "text": [
      "1 0.46099420312499995\n",
      "2 0.46099420312499995\n",
      "low 0\n",
      "high 0\n",
      "spec 0\n",
      "gen 1\n",
      "1 0.681472\n",
      "2 0.17095387499999995\n",
      "low 1\n",
      "high 0\n",
      "spec 0\n",
      "gen 0\n"
     ]
    },
    {
     "name": "stderr",
     "output_type": "stream",
     "text": [
      "\r",
      "  1%|          | 7/1000 [00:00<02:10,  7.59it/s]"
     ]
    },
    {
     "name": "stdout",
     "output_type": "stream",
     "text": [
      "1 0.747377296875\n",
      "2 0.19764589062500001\n",
      "low 0\n",
      "high 0\n",
      "spec 1\n",
      "gen 0\n",
      "1 0.759798828125\n",
      "2 0.20277929687500001\n",
      "low 0\n",
      "high 0\n",
      "spec 1\n",
      "gen 0\n"
     ]
    },
    {
     "name": "stderr",
     "output_type": "stream",
     "text": [
      "  1%|          | 10/1000 [00:01<02:15,  7.29it/s]"
     ]
    },
    {
     "name": "stdout",
     "output_type": "stream",
     "text": [
      "1 0.7049690000000001\n",
      "2 0.18036212499999996\n",
      "low 0\n",
      "high 0\n",
      "spec 1\n",
      "gen 0\n",
      "1 0.8043569999999999\n",
      "2 0.221445125\n",
      "low 0\n",
      "high 0\n",
      "spec 1\n",
      "gen 0\n"
     ]
    },
    {
     "name": "stderr",
     "output_type": "stream",
     "text": [
      "  1%|          | 12/1000 [00:01<02:17,  7.17it/s]"
     ]
    },
    {
     "name": "stdout",
     "output_type": "stream",
     "text": [
      "1 0.5821828749999999\n",
      "2 0.13265100000000002\n",
      "low 1\n",
      "high 0\n",
      "spec 0\n",
      "gen 0\n",
      "1 0.44332226562499993\n",
      "2 0.44332226562499993\n",
      "low 0\n",
      "high 0\n",
      "spec 0\n",
      "gen 1\n"
     ]
    },
    {
     "name": "stderr",
     "output_type": "stream",
     "text": [
      "\r",
      "  1%|▏         | 13/1000 [00:01<02:40,  6.17it/s]"
     ]
    },
    {
     "name": "stdout",
     "output_type": "stream",
     "text": [
      "1 0.759798828125\n",
      "2 0.20277929687500001\n",
      "low 0\n",
      "high 0\n",
      "spec 1\n",
      "gen 0\n"
     ]
    },
    {
     "name": "stderr",
     "output_type": "stream",
     "text": [
      "  2%|▏         | 15/1000 [00:02<02:38,  6.23it/s]"
     ]
    },
    {
     "name": "stdout",
     "output_type": "stream",
     "text": [
      "1 0.8709838749999999\n",
      "2 0.281011375\n",
      "low 0\n",
      "high 0\n",
      "spec 1\n",
      "gen 0\n",
      "1 0.759798828125\n",
      "2 0.20277929687500001\n",
      "low 0\n",
      "high 0\n",
      "spec 1\n",
      "gen 0\n"
     ]
    },
    {
     "name": "stderr",
     "output_type": "stream",
     "text": [
      "  2%|▏         | 17/1000 [00:02<02:37,  6.26it/s]"
     ]
    },
    {
     "name": "stdout",
     "output_type": "stream",
     "text": [
      "1 0\n",
      "2 0\n",
      "low 1\n",
      "high 0\n",
      "spec 0\n",
      "gen 0\n",
      "1 0.497734578125\n",
      "2 0.497734578125\n",
      "low 0\n",
      "high 0\n",
      "spec 0\n",
      "gen 1\n"
     ]
    },
    {
     "name": "stderr",
     "output_type": "stream",
     "text": [
      "\r",
      "  2%|▏         | 19/1000 [00:02<02:13,  7.36it/s]"
     ]
    },
    {
     "name": "stdout",
     "output_type": "stream",
     "text": [
      "1 0.6141249999999999\n",
      "2 0.5120000000000001\n",
      "low 0\n",
      "high 0\n",
      "spec 0\n",
      "gen 1\n",
      "1 0.46548437500000006\n",
      "2 0.09112499999999997\n",
      "low 1\n",
      "high 0\n",
      "spec 0\n",
      "gen 0\n",
      "1 0.747377296875\n",
      "2 0.19764589062500001\n",
      "low 0\n",
      "high 0\n",
      "spec 1\n",
      "gen 0\n"
     ]
    },
    {
     "name": "stderr",
     "output_type": "stream",
     "text": [
      "  2%|▏         | 21/1000 [00:02<02:06,  7.77it/s]"
     ]
    },
    {
     "name": "stdout",
     "output_type": "stream",
     "text": [
      "1 0.47000360937499996\n",
      "2 0.47000360937499996\n",
      "low 0\n",
      "high 0\n",
      "spec 0\n",
      "gen 1\n",
      "1 0.778688\n",
      "2 0.21064487499999998\n",
      "low 0\n",
      "high 0\n",
      "spec 1\n",
      "gen 0\n",
      "1 0.244140625\n",
      "2 0.121287375\n",
      "low 1\n",
      "high 0\n",
      "spec 0\n",
      "gen 0\n"
     ]
    },
    {
     "name": "stderr",
     "output_type": "stream",
     "text": [
      "  2%|▏         | 24/1000 [00:03<01:55,  8.47it/s]"
     ]
    },
    {
     "name": "stdout",
     "output_type": "stream",
     "text": [
      "1 0.797887671875\n",
      "2 0.21871126562500004\n",
      "low 0\n",
      "high 0\n",
      "spec 1\n",
      "gen 0\n",
      "1 0.8174003750000002\n",
      "2 0.226981\n",
      "low 0\n",
      "high 0\n",
      "spec 1\n",
      "gen 0\n",
      "1 0.759798828125\n",
      "2 0.20277929687500001\n",
      "low 0\n",
      "high 0\n",
      "spec 1\n",
      "gen 0\n"
     ]
    },
    {
     "name": "stderr",
     "output_type": "stream",
     "text": [
      "  3%|▎         | 27/1000 [00:03<02:07,  7.61it/s]"
     ]
    },
    {
     "name": "stdout",
     "output_type": "stream",
     "text": [
      "1 0.3850339218750001\n",
      "2 0.3850339218750001\n",
      "low 0\n",
      "high 0\n",
      "spec 0\n",
      "gen 1\n",
      "1 0.47912964062499996\n",
      "2 0.09575760937500001\n",
      "low 1\n",
      "high 0\n",
      "spec 0\n",
      "gen 0\n"
     ]
    },
    {
     "name": "stderr",
     "output_type": "stream",
     "text": [
      "  3%|▎         | 30/1000 [00:03<01:59,  8.10it/s]"
     ]
    },
    {
     "name": "stdout",
     "output_type": "stream",
     "text": [
      "1 0.39302745312500004\n",
      "2 0.39302745312500004\n",
      "low 0\n",
      "high 0\n",
      "spec 0\n",
      "gen 1\n",
      "1 0.747377296875\n",
      "2 0.19764589062500001\n",
      "low 0\n",
      "high 0\n",
      "spec 1\n",
      "gen 0\n"
     ]
    },
    {
     "name": "stderr",
     "output_type": "stream",
     "text": [
      "\r",
      "  3%|▎         | 31/1000 [00:04<02:16,  7.11it/s]"
     ]
    },
    {
     "name": "stdout",
     "output_type": "stream",
     "text": [
      "1 0.7350918906249999\n",
      "2 0.19764589062500001\n",
      "low 0\n",
      "high 0\n",
      "spec 1\n",
      "gen 0\n",
      "1 0\n",
      "2 0\n",
      "low 1\n",
      "high 0\n",
      "spec 0\n",
      "gen 0\n"
     ]
    },
    {
     "name": "stderr",
     "output_type": "stream",
     "text": [
      "  3%|▎         | 33/1000 [00:04<02:16,  7.07it/s]"
     ]
    },
    {
     "name": "stdout",
     "output_type": "stream",
     "text": [
      "1 0.3771495156249999\n",
      "2 0.516815015625\n",
      "low 0\n",
      "high 0\n",
      "spec 0\n",
      "gen 1\n",
      "1 0.8986321249999999\n",
      "2 0.26214400000000004\n",
      "low 0\n",
      "high 0\n",
      "spec 1\n",
      "gen 0\n",
      "1 0.44332226562499993\n",
      "2 0.083740234375\n",
      "low 1\n",
      "high 0\n",
      "spec 0\n",
      "gen 0\n"
     ]
    },
    {
     "name": "stderr",
     "output_type": "stream",
     "text": [
      "  4%|▎         | 36/1000 [00:04<02:14,  7.17it/s]"
     ]
    },
    {
     "name": "stdout",
     "output_type": "stream",
     "text": [
      "1 0.456533\n",
      "2 0.456533\n",
      "low 0\n",
      "high 0\n",
      "spec 0\n",
      "gen 1\n"
     ]
    },
    {
     "name": "stderr",
     "output_type": "stream",
     "text": [
      "  4%|▍         | 38/1000 [00:05<02:14,  7.15it/s]"
     ]
    },
    {
     "name": "stdout",
     "output_type": "stream",
     "text": [
      "1 0.49303900000000006\n",
      "2 0.49303900000000006\n",
      "low 0\n",
      "high 0\n",
      "spec 0\n",
      "gen 1\n",
      "1 0.7412176250000001\n",
      "2 0.19511199999999995\n",
      "low 0\n",
      "high 0\n",
      "spec 1\n",
      "gen 0\n"
     ]
    },
    {
     "name": "stderr",
     "output_type": "stream",
     "text": [
      "\r",
      "  4%|▍         | 39/1000 [00:05<02:50,  5.65it/s]"
     ]
    },
    {
     "name": "stdout",
     "output_type": "stream",
     "text": [
      "1 0.759798828125\n",
      "2 0.20277929687500001\n",
      "low 0\n",
      "high 0\n",
      "spec 1\n",
      "gen 0\n",
      "1 0.7723572343749999\n",
      "2 0.20800082812500004\n",
      "low 0\n",
      "high 0\n",
      "spec 1\n",
      "gen 0\n"
     ]
    },
    {
     "name": "stderr",
     "output_type": "stream",
     "text": [
      "  4%|▍         | 42/1000 [00:05<02:11,  7.30it/s]"
     ]
    },
    {
     "name": "stdout",
     "output_type": "stream",
     "text": [
      "1 0.5120000000000001\n",
      "2 0.531441\n",
      "low 0\n",
      "high 0\n",
      "spec 0\n",
      "gen 1\n",
      "1 0.47455200000000003\n",
      "2 0.47455200000000003\n",
      "low 0\n",
      "high 0\n",
      "spec 0\n",
      "gen 1\n"
     ]
    },
    {
     "name": "stderr",
     "output_type": "stream",
     "text": [
      "  4%|▍         | 44/1000 [00:05<02:15,  7.04it/s]"
     ]
    },
    {
     "name": "stdout",
     "output_type": "stream",
     "text": [
      "1 0.810861203125\n",
      "2 0.22420167187499992\n",
      "low 0\n",
      "high 0\n",
      "spec 1\n",
      "gen 0\n",
      "1 0.759798828125\n",
      "2 0.20277929687500001\n",
      "low 0\n",
      "high 0\n",
      "spec 1\n",
      "gen 0\n"
     ]
    },
    {
     "name": "stderr",
     "output_type": "stream",
     "text": [
      "\r",
      "  4%|▍         | 45/1000 [00:06<02:33,  6.23it/s]"
     ]
    },
    {
     "name": "stdout",
     "output_type": "stream",
     "text": [
      "1 0.797887671875\n",
      "2 0.21871126562500004\n",
      "low 0\n",
      "high 0\n",
      "spec 1\n",
      "gen 0\n",
      "1 0.310976734375\n",
      "2 0.04380032812500001\n",
      "low 1\n",
      "high 0\n",
      "spec 0\n",
      "gen 0\n"
     ]
    },
    {
     "name": "stderr",
     "output_type": "stream",
     "text": [
      "  5%|▍         | 47/1000 [00:06<02:40,  5.93it/s]"
     ]
    },
    {
     "name": "stdout",
     "output_type": "stream",
     "text": [
      "1 0.7723572343749999\n",
      "2 0.20800082812500004\n",
      "low 0\n",
      "high 0\n",
      "spec 1\n",
      "gen 0\n",
      "1 0.7914531250000001\n",
      "2 0.21599999999999997\n",
      "low 0\n",
      "high 0\n",
      "spec 1\n",
      "gen 0\n"
     ]
    },
    {
     "name": "stderr",
     "output_type": "stream",
     "text": [
      "  5%|▍         | 49/1000 [00:06<03:03,  5.17it/s]"
     ]
    },
    {
     "name": "stdout",
     "output_type": "stream",
     "text": [
      "1 0.747377296875\n",
      "2 0.19764589062500001\n",
      "low 0\n",
      "high 0\n",
      "spec 1\n",
      "gen 0\n",
      "1 0.669921875\n",
      "2 0.46548437500000006\n",
      "low 0\n",
      "high 0\n",
      "spec 0\n",
      "gen 1\n"
     ]
    },
    {
     "name": "stderr",
     "output_type": "stream",
     "text": [
      "  5%|▌         | 52/1000 [00:07<02:29,  6.33it/s]"
     ]
    },
    {
     "name": "stdout",
     "output_type": "stream",
     "text": [
      "1 0.6872965156250002\n",
      "2 0.1732744843750001\n",
      "low 1\n",
      "high 0\n",
      "spec 0\n",
      "gen 0\n",
      "1 0.9556716249999999\n",
      "2 0.30754687500000005\n",
      "low 0\n",
      "high 1\n",
      "spec 0\n",
      "gen 0\n"
     ]
    },
    {
     "name": "stderr",
     "output_type": "stream",
     "text": [
      "  5%|▌         | 54/1000 [00:07<02:18,  6.85it/s]"
     ]
    },
    {
     "name": "stdout",
     "output_type": "stream",
     "text": [
      "1 0.25604787500000004\n",
      "2 0.10717187499999999\n",
      "low 1\n",
      "high 0\n",
      "spec 0\n",
      "gen 0\n",
      "1 0.759798828125\n",
      "2 0.20277929687500001\n",
      "low 0\n",
      "high 0\n",
      "spec 1\n",
      "gen 0\n"
     ]
    },
    {
     "name": "stderr",
     "output_type": "stream",
     "text": [
      "  6%|▌         | 56/1000 [00:07<02:13,  7.08it/s]"
     ]
    },
    {
     "name": "stdout",
     "output_type": "stream",
     "text": [
      "1 0.15966114062499998\n",
      "2 0.18276692187500002\n",
      "low 1\n",
      "high 0\n",
      "spec 0\n",
      "gen 0\n",
      "1 0.5717869999999999\n",
      "2 0.5717869999999999\n",
      "low 0\n",
      "high 0\n",
      "spec 0\n",
      "gen 1\n"
     ]
    },
    {
     "name": "stderr",
     "output_type": "stream",
     "text": [
      "  6%|▌         | 58/1000 [00:08<01:57,  7.99it/s]"
     ]
    },
    {
     "name": "stdout",
     "output_type": "stream",
     "text": [
      "1 0.40934489062500007\n",
      "2 0.40934489062500007\n",
      "low 0\n",
      "high 0\n",
      "spec 0\n",
      "gen 1\n",
      "1 0.3579109999999999\n",
      "2 0.06400000000000002\n",
      "low 1\n",
      "high 0\n",
      "spec 0\n",
      "gen 0\n"
     ]
    },
    {
     "name": "stderr",
     "output_type": "stream",
     "text": [
      "  6%|▌         | 60/1000 [00:08<01:49,  8.57it/s]"
     ]
    },
    {
     "name": "stdout",
     "output_type": "stream",
     "text": [
      "1 0.15528710937499998\n",
      "2 0.15528710937499998\n",
      "low 1\n",
      "high 0\n",
      "spec 0\n",
      "gen 0\n",
      "1 0.3504026250000001\n",
      "2 0.38901699999999995\n",
      "low 0\n",
      "high 0\n",
      "spec 0\n",
      "gen 1\n",
      "1"
     ]
    },
    {
     "name": "stderr",
     "output_type": "stream",
     "text": [
      "  6%|▌         | 62/1000 [00:08<01:53,  8.26it/s]"
     ]
    },
    {
     "name": "stdout",
     "output_type": "stream",
     "text": [
      " 0.8847359999999999\n",
      "2 0.274625\n",
      "low 0\n",
      "high 0\n",
      "spec 1\n",
      "gen 0\n",
      "1 0.47455200000000003\n",
      "2 0.47455200000000003\n",
      "low 0\n",
      "high 0\n",
      "spec 0\n",
      "gen 1\n"
     ]
    },
    {
     "name": "stderr",
     "output_type": "stream",
     "text": [
      "\r",
      "  6%|▋         | 63/1000 [00:08<02:33,  6.12it/s]"
     ]
    },
    {
     "name": "stdout",
     "output_type": "stream",
     "text": [
      "1 0.317912765625\n",
      "2 0.04569073437499997\n",
      "low 1\n",
      "high 0\n",
      "spec 0\n",
      "gen 0\n",
      "1 0.8847359999999999\n",
      "2 0.274625\n",
      "low 0\n",
      "high 0\n",
      "spec 1\n",
      "gen 0\n"
     ]
    },
    {
     "name": "stderr",
     "output_type": "stream",
     "text": [
      "  7%|▋         | 66/1000 [00:09<02:03,  7.54it/s]"
     ]
    },
    {
     "name": "stdout",
     "output_type": "stream",
     "text": [
      "1 0.8847359999999999\n",
      "2 0.274625\n",
      "low 0\n",
      "high 0\n",
      "spec 1\n",
      "gen 0\n",
      "1 0.40934489062500007\n",
      "2 0.40934489062500007\n",
      "low 0\n",
      "high 0\n",
      "spec 0\n",
      "gen 1\n",
      "1 0.8847359999999999\n",
      "2 0.274625\n",
      "low 0\n",
      "high 0\n",
      "spec 1\n",
      "gen 0\n"
     ]
    },
    {
     "name": "stderr",
     "output_type": "stream",
     "text": [
      "  7%|▋         | 69/1000 [00:09<01:46,  8.74it/s]"
     ]
    },
    {
     "name": "stdout",
     "output_type": "stream",
     "text": [
      "1 0.823974609375\n",
      "2 0.22978320312500006\n",
      "low 0\n",
      "high 0\n",
      "spec 1\n",
      "gen 0\n",
      "1 0.44769712500000003\n",
      "2 0.44769712500000003\n",
      "low 0\n",
      "high 0\n",
      "spec 0\n",
      "gen 1\n",
      "1 0.8847359999999999\n",
      "2 0.274625\n",
      "low 0\n",
      "high 0\n",
      "spec 1\n",
      "gen 0\n"
     ]
    },
    {
     "name": "stderr",
     "output_type": "stream",
     "text": [
      "  7%|▋         | 72/1000 [00:09<01:42,  9.04it/s]"
     ]
    },
    {
     "name": "stdout",
     "output_type": "stream",
     "text": [
      "1 0.8847359999999999\n",
      "2 0.274625\n",
      "low 0\n",
      "high 0\n",
      "spec 1\n",
      "gen 0\n",
      "1 0.7169173750000001\n",
      "2 0.281011375\n",
      "low 0\n",
      "high 0\n",
      "spec 1\n",
      "gen 0\n"
     ]
    },
    {
     "name": "stderr",
     "output_type": "stream",
     "text": [
      "\r",
      "  7%|▋         | 73/1000 [00:09<01:52,  8.23it/s]"
     ]
    },
    {
     "name": "stdout",
     "output_type": "stream",
     "text": [
      "1 0.759798828125\n",
      "2 0.20277929687500001\n",
      "low 0\n",
      "high 0\n",
      "spec 1\n",
      "gen 0\n",
      "1 0.3579109999999999\n",
      "2 0.06400000000000002\n",
      "low 1\n",
      "high 0\n",
      "spec 0\n",
      "gen 0\n"
     ]
    },
    {
     "name": "stderr",
     "output_type": "stream",
     "text": [
      "  8%|▊         | 75/1000 [00:10<02:18,  6.70it/s]"
     ]
    },
    {
     "name": "stdout",
     "output_type": "stream",
     "text": [
      "1 0.759798828125\n",
      "2 0.20277929687500001\n",
      "low 0\n",
      "high 0\n",
      "spec 1\n",
      "gen 0\n",
      "1 0.507214984375\n",
      "2 0.11585742187500003\n",
      "low 1\n",
      "high 0\n",
      "spec 0\n",
      "gen 0\n"
     ]
    },
    {
     "name": "stderr",
     "output_type": "stream",
     "text": [
      "  8%|▊         | 77/1000 [00:10<02:19,  6.60it/s]"
     ]
    },
    {
     "name": "stdout",
     "output_type": "stream",
     "text": [
      "1 0.177978515625\n",
      "2 0.6990449218749999\n",
      "low 1\n",
      "high 0\n",
      "spec 0\n",
      "gen 0\n",
      "1 0.8847359999999999\n",
      "2 0.274625\n",
      "low 0\n",
      "high 0\n",
      "spec 1\n",
      "gen 0\n"
     ]
    },
    {
     "name": "stderr",
     "output_type": "stream",
     "text": [
      "  8%|▊         | 80/1000 [00:11<02:16,  6.72it/s]"
     ]
    },
    {
     "name": "stdout",
     "output_type": "stream",
     "text": [
      "1 0.8847359999999999\n",
      "2 0.274625\n",
      "low 0\n",
      "high 0\n",
      "spec 1\n",
      "gen 0\n",
      "1 0.8986321249999999\n",
      "2 0.281011375\n",
      "low 0\n",
      "high 0\n",
      "spec 1\n",
      "gen 0\n"
     ]
    },
    {
     "name": "stderr",
     "output_type": "stream",
     "text": [
      "  8%|▊         | 82/1000 [00:11<01:59,  7.70it/s]"
     ]
    },
    {
     "name": "stdout",
     "output_type": "stream",
     "text": [
      "1 0.759798828125\n",
      "2 0.20277929687500001\n",
      "low 0\n",
      "high 0\n",
      "spec 1\n",
      "gen 0\n",
      "1 0.8847359999999999\n",
      "2 0.274625\n",
      "low 0\n",
      "high 0\n",
      "spec 1\n",
      "gen 0\n"
     ]
    },
    {
     "name": "stderr",
     "output_type": "stream",
     "text": [
      "\r",
      "  8%|▊         | 83/1000 [00:11<02:22,  6.43it/s]"
     ]
    },
    {
     "name": "stdout",
     "output_type": "stream",
     "text": [
      "1 0.9268593749999999\n",
      "2 0.3429999999999999\n",
      "low 0\n",
      "high 1\n",
      "spec 0\n",
      "gen 0\n",
      "1 0.8847359999999999\n",
      "2 0.274625\n",
      "low 0\n",
      "high 0\n",
      "spec 1\n",
      "gen 0\n"
     ]
    },
    {
     "name": "stderr",
     "output_type": "stream",
     "text": [
      "  9%|▊         | 86/1000 [00:11<02:04,  7.35it/s]"
     ]
    },
    {
     "name": "stdout",
     "output_type": "stream",
     "text": [
      "1 0.8847359999999999\n",
      "2 0.274625\n",
      "low 0\n",
      "high 0\n",
      "spec 1\n",
      "gen 0\n",
      "1 0.8847359999999999\n",
      "2 0.274625\n",
      "low 0\n",
      "high 0\n",
      "spec 1\n",
      "gen 0\n"
     ]
    },
    {
     "name": "stderr",
     "output_type": "stream",
     "text": [
      "\r",
      "  9%|▊         | 87/1000 [00:12<01:58,  7.72it/s]"
     ]
    },
    {
     "name": "stdout",
     "output_type": "stream",
     "text": [
      "1 0.8847359999999999\n",
      "2 0.274625\n",
      "low 0\n",
      "high 0\n",
      "spec 1\n",
      "gen 0\n",
      "1 0.759798828125\n",
      "2 0.20277929687500001\n",
      "low 0\n",
      "high 0\n",
      "spec 1\n",
      "gen 0\n"
     ]
    },
    {
     "name": "stderr",
     "output_type": "stream",
     "text": [
      "  9%|▉         | 90/1000 [00:12<02:06,  7.17it/s]"
     ]
    },
    {
     "name": "stdout",
     "output_type": "stream",
     "text": [
      "1 0.5717869999999999\n",
      "2 0.47455200000000003\n",
      "low 0\n",
      "high 0\n",
      "spec 0\n",
      "gen 1\n",
      "1 0.11232901562499994\n",
      "2 0.19764589062500001\n",
      "low 1\n",
      "high 0\n",
      "spec 0\n",
      "gen 0\n"
     ]
    },
    {
     "name": "stderr",
     "output_type": "stream",
     "text": [
      "\r",
      "  9%|▉         | 91/1000 [00:12<02:09,  7.02it/s]"
     ]
    },
    {
     "name": "stdout",
     "output_type": "stream",
     "text": [
      "1 0.497734578125\n",
      "2 0.11232901562499994\n",
      "low 1\n",
      "high 0\n",
      "spec 0\n",
      "gen 0\n",
      "1 0.6990449218749999\n",
      "2 0.324951171875\n",
      "low 0\n",
      "high 0\n",
      "spec 0\n",
      "gen 1\n"
     ]
    },
    {
     "name": "stderr",
     "output_type": "stream",
     "text": [
      "  9%|▉         | 94/1000 [00:13<02:05,  7.22it/s]"
     ]
    },
    {
     "name": "stdout",
     "output_type": "stream",
     "text": [
      "1 0.797887671875\n",
      "2 0.21871126562500004\n",
      "low 0\n",
      "high 0\n",
      "spec 1\n",
      "gen 0\n",
      "1 0.8847359999999999\n",
      "2 0.274625\n",
      "low 0\n",
      "high 0\n",
      "spec 1\n",
      "gen 0\n"
     ]
    },
    {
     "name": "stderr",
     "output_type": "stream",
     "text": [
      " 10%|▉         | 96/1000 [00:13<01:52,  8.01it/s]"
     ]
    },
    {
     "name": "stdout",
     "output_type": "stream",
     "text": [
      "1 0.9268593749999999\n",
      "2 0.29407962500000007\n",
      "low 0\n",
      "high 0\n",
      "spec 1\n",
      "gen 0\n",
      "1 0.810861203125\n",
      "2 0.22420167187500004\n",
      "low 0\n",
      "high 0\n",
      "spec 1\n",
      "gen 0\n"
     ]
    },
    {
     "name": "stderr",
     "output_type": "stream",
     "text": [
      "\r",
      " 10%|▉         | 97/1000 [00:13<01:57,  7.69it/s]"
     ]
    },
    {
     "name": "stdout",
     "output_type": "stream",
     "text": [
      "1 0.8847359999999999\n",
      "2 0.274625\n",
      "low 0\n",
      "high 0\n",
      "spec 1\n",
      "gen 0\n",
      "1 0.7914531250000001\n",
      "2 0.26214400000000004\n",
      "low 0\n",
      "high 0\n",
      "spec 1\n",
      "gen 0\n"
     ]
    },
    {
     "name": "stderr",
     "output_type": "stream",
     "text": [
      " 10%|█         | 100/1000 [00:13<02:02,  7.33it/s]"
     ]
    },
    {
     "name": "stdout",
     "output_type": "stream",
     "text": [
      "1 0.7350918906249999\n",
      "2 0.19259985937500002\n",
      "low 0\n",
      "high 0\n",
      "spec 1\n",
      "gen 0\n",
      "1 0\n",
      "2 0\n",
      "low 1\n",
      "high 0\n",
      "spec 0\n",
      "gen 0\n"
     ]
    },
    {
     "name": "stderr",
     "output_type": "stream",
     "text": [
      "\r",
      " 10%|█         | 101/1000 [00:13<01:58,  7.59it/s]"
     ]
    },
    {
     "name": "stdout",
     "output_type": "stream",
     "text": [
      "1 0.7049690000000001\n",
      "2 0.38901699999999995\n",
      "low 0\n",
      "high 1\n",
      "spec 0\n",
      "gen 0\n",
      "1 0.636056\n",
      "2 0.456533\n",
      "low 0\n",
      "high 0\n",
      "spec 0\n",
      "gen 1\n"
     ]
    },
    {
     "name": "stderr",
     "output_type": "stream",
     "text": [
      " 10%|█         | 103/1000 [00:14<04:00,  3.72it/s]"
     ]
    },
    {
     "name": "stdout",
     "output_type": "stream",
     "text": [
      "1 0.6990449218749999\n",
      "2 0.324951171875\n",
      "low 0\n",
      "high 0\n",
      "spec 0\n",
      "gen 1\n",
      "1 0.7350918906249999\n",
      "2 0.35414354687500005\n",
      "low 0\n",
      "high 1\n",
      "spec 0\n",
      "gen 0\n",
      "1 0.8043569999999999\n",
      "2 0.221445125\n",
      "low 0\n",
      "high 0\n",
      "spec 1\n",
      "gen 0\n"
     ]
    },
    {
     "name": "stderr",
     "output_type": "stream",
     "text": [
      " 11%|█         | 107/1000 [00:15<02:40,  5.57it/s]"
     ]
    },
    {
     "name": "stdout",
     "output_type": "stream",
     "text": [
      "1 0.8439086250000002\n",
      "2 0.23832799999999998\n",
      "low 0\n",
      "high 0\n",
      "spec 1\n",
      "gen 0\n",
      "1 0.810861203125\n",
      "2 0.22420167187500004\n",
      "low 0\n",
      "high 0\n",
      "spec 1\n",
      "gen 0\n"
     ]
    },
    {
     "name": "stderr",
     "output_type": "stream",
     "text": [
      "\r",
      " 11%|█         | 108/1000 [00:15<02:55,  5.08it/s]"
     ]
    },
    {
     "name": "stdout",
     "output_type": "stream",
     "text": [
      "1 0.8986321249999999\n",
      "2 0.281011375\n",
      "low 0\n",
      "high 0\n",
      "spec 1\n",
      "gen 0\n",
      "1 0.6472146249999999\n",
      "2 0.5216601249999999\n",
      "low 0\n",
      "high 0\n",
      "spec 0\n",
      "gen 1\n"
     ]
    },
    {
     "name": "stderr",
     "output_type": "stream",
     "text": [
      " 11%|█         | 111/1000 [00:15<02:15,  6.56it/s]"
     ]
    },
    {
     "name": "stdout",
     "output_type": "stream",
     "text": [
      "1 0.9629667968750001\n",
      "2 0.310976734375\n",
      "low 0\n",
      "high 1\n",
      "spec 0\n",
      "gen 0\n",
      "1 0.837228640625\n",
      "2 0.23545660937499993\n",
      "low 0\n",
      "high 0\n",
      "spec 1\n",
      "gen 0\n"
     ]
    },
    {
     "name": "stderr",
     "output_type": "stream",
     "text": [
      " 11%|█▏        | 113/1000 [00:16<02:06,  7.01it/s]"
     ]
    },
    {
     "name": "stdout",
     "output_type": "stream",
     "text": [
      "1 0.075418890625\n",
      "2 0.075418890625\n",
      "low 1\n",
      "high 0\n",
      "spec 0\n",
      "gen 0\n",
      "1 0.8847359999999999\n",
      "2 0.274625\n",
      "low 0\n",
      "high 0\n",
      "spec 1\n",
      "gen 0\n"
     ]
    },
    {
     "name": "stderr",
     "output_type": "stream",
     "text": [
      "\r",
      " 11%|█▏        | 114/1000 [00:16<02:21,  6.25it/s]"
     ]
    },
    {
     "name": "stdout",
     "output_type": "stream",
     "text": [
      "1 0.759798828125\n",
      "2 0.20277929687500001\n",
      "low 0\n",
      "high 0\n",
      "spec 1\n",
      "gen 0\n",
      "1 0.8986321249999999\n",
      "2 0.26833612500000004\n",
      "low 0\n",
      "high 0\n",
      "spec 1\n",
      "gen 0\n"
     ]
    },
    {
     "name": "stderr",
     "output_type": "stream",
     "text": [
      " 12%|█▏        | 116/1000 [00:16<02:52,  5.11it/s]"
     ]
    },
    {
     "name": "stdout",
     "output_type": "stream",
     "text": [
      "1 0.8847359999999999\n",
      "2 0.274625\n",
      "low 0\n",
      "high 0\n",
      "spec 1\n",
      "gen 0\n"
     ]
    },
    {
     "name": "stderr",
     "output_type": "stream",
     "text": [
      "\r",
      " 12%|█▏        | 117/1000 [00:17<02:51,  5.15it/s]"
     ]
    },
    {
     "name": "stdout",
     "output_type": "stream",
     "text": [
      "1 0.5024598749999999\n",
      "2 0.531441\n",
      "low 0\n",
      "high 0\n",
      "spec 0\n",
      "gen 1\n",
      "1 0.8847359999999999\n",
      "2 0.274625\n",
      "low 0\n",
      "high 0\n",
      "spec 1\n",
      "gen 0\n"
     ]
    },
    {
     "name": "stderr",
     "output_type": "stream",
     "text": [
      " 12%|█▏        | 120/1000 [00:17<02:19,  6.32it/s]"
     ]
    },
    {
     "name": "stdout",
     "output_type": "stream",
     "text": [
      "1 0.759798828125\n",
      "2 0.20277929687500001\n",
      "low 0\n",
      "high 0\n",
      "spec 1\n",
      "gen 0\n",
      "1 0.759798828125\n",
      "2 0.20277929687500001\n",
      "low 0\n",
      "high 0\n",
      "spec 1\n",
      "gen 0\n"
     ]
    },
    {
     "name": "stderr",
     "output_type": "stream",
     "text": [
      "\r",
      " 12%|█▏        | 121/1000 [00:17<02:20,  6.25it/s]"
     ]
    },
    {
     "name": "stdout",
     "output_type": "stream",
     "text": [
      "1 0.7290000000000001\n",
      "2 0.19010937499999997\n",
      "low 0\n",
      "high 0\n",
      "spec 1\n",
      "gen 0\n"
     ]
    },
    {
     "name": "stderr",
     "output_type": "stream",
     "text": [
      "\r",
      " 12%|█▏        | 122/1000 [00:17<02:45,  5.31it/s]"
     ]
    },
    {
     "name": "stdout",
     "output_type": "stream",
     "text": [
      "1 0.8847359999999999\n",
      "2 0.274625\n",
      "low 0\n",
      "high 0\n",
      "spec 1\n",
      "gen 0\n",
      "1 0.46548437500000006\n",
      "2 0.49303900000000006\n",
      "low 0\n",
      "high 0\n",
      "spec 0\n",
      "gen 1\n"
     ]
    },
    {
     "name": "stderr",
     "output_type": "stream",
     "text": [
      " 12%|█▏        | 124/1000 [00:18<02:35,  5.63it/s]"
     ]
    },
    {
     "name": "stdout",
     "output_type": "stream",
     "text": [
      "1 0.8305839999999999\n",
      "2 0.250047\n",
      "low 0\n",
      "high 0\n",
      "spec 1\n",
      "gen 0\n",
      "1 0.497734578125\n",
      "2 0.497734578125\n",
      "low 0\n",
      "high 0\n",
      "spec 0\n",
      "gen 1\n"
     ]
    },
    {
     "name": "stderr",
     "output_type": "stream",
     "text": [
      " 13%|█▎        | 126/1000 [00:18<02:33,  5.69it/s]"
     ]
    },
    {
     "name": "stdout",
     "output_type": "stream",
     "text": [
      "1 0.8847359999999999\n",
      "2 0.274625\n",
      "low 0\n",
      "high 0\n",
      "spec 1\n",
      "gen 0\n"
     ]
    },
    {
     "name": "stderr",
     "output_type": "stream",
     "text": [
      " 13%|█▎        | 128/1000 [00:18<02:24,  6.04it/s]"
     ]
    },
    {
     "name": "stdout",
     "output_type": "stream",
     "text": [
      "1 0.456533\n",
      "2 0.5927039999999999\n",
      "low 0\n",
      "high 0\n",
      "spec 0\n",
      "gen 1\n",
      "1 0.5513680000000001\n",
      "2 0.5513680000000001\n",
      "low 0\n",
      "high 0\n",
      "spec 0\n",
      "gen 1\n"
     ]
    },
    {
     "name": "stderr",
     "output_type": "stream",
     "text": [
      " 13%|█▎        | 130/1000 [00:19<02:01,  7.19it/s]"
     ]
    },
    {
     "name": "stdout",
     "output_type": "stream",
     "text": [
      "1 0.7535710000000001\n",
      "2 0.281011375\n",
      "low 0\n",
      "high 0\n",
      "spec 1\n",
      "gen 0\n",
      "1 0.797887671875\n",
      "2 0.21871126562500004\n",
      "low 0\n",
      "high 0\n",
      "spec 1\n",
      "gen 0\n"
     ]
    },
    {
     "name": "stderr",
     "output_type": "stream",
     "text": [
      "\r",
      " 13%|█▎        | 131/1000 [00:19<02:07,  6.81it/s]"
     ]
    },
    {
     "name": "stdout",
     "output_type": "stream",
     "text": [
      "1 0.430368875\n",
      "2 0.08812112500000004\n",
      "low 1\n",
      "high 0\n",
      "spec 0\n",
      "gen 0\n"
     ]
    },
    {
     "name": "stderr",
     "output_type": "stream",
     "text": [
      "\r",
      " 13%|█▎        | 132/1000 [00:19<02:19,  6.21it/s]"
     ]
    },
    {
     "name": "stdout",
     "output_type": "stream",
     "text": [
      "1 0.47455200000000003\n",
      "2 0.47455200000000003\n",
      "low 0\n",
      "high 0\n",
      "spec 0\n",
      "gen 1\n",
      "1 0.8305839999999999\n",
      "2 0.250047\n",
      "low 0\n",
      "high 0\n",
      "spec 1\n",
      "gen 0\n"
     ]
    },
    {
     "name": "stderr",
     "output_type": "stream",
     "text": [
      " 14%|█▎        | 135/1000 [00:19<01:59,  7.23it/s]"
     ]
    },
    {
     "name": "stdout",
     "output_type": "stream",
     "text": [
      "1 0.837228640625\n",
      "2 0.23545660937499993\n",
      "low 0\n",
      "high 0\n",
      "spec 1\n",
      "gen 0\n",
      "1 0.6641960781250001\n",
      "2 0.177978515625\n",
      "low 1\n",
      "high 0\n",
      "spec 0\n",
      "gen 0\n"
     ]
    },
    {
     "name": "stderr",
     "output_type": "stream",
     "text": [
      "\r",
      " 14%|█▎        | 136/1000 [00:20<02:04,  6.94it/s]"
     ]
    },
    {
     "name": "stdout",
     "output_type": "stream",
     "text": [
      "1 0.837228640625\n",
      "2 0.23545660937499993\n",
      "low 0\n",
      "high 0\n",
      "spec 1\n",
      "gen 0\n",
      "1 0.546340359375\n",
      "2 0.546340359375\n",
      "low 0\n",
      "high 0\n",
      "spec 0\n",
      "gen 1\n"
     ]
    },
    {
     "name": "stderr",
     "output_type": "stream",
     "text": [
      " 14%|█▍        | 139/1000 [00:20<01:57,  7.34it/s]"
     ]
    },
    {
     "name": "stdout",
     "output_type": "stream",
     "text": [
      "1 0.9197479531250001\n",
      "2 0.29077539062499996\n",
      "low 0\n",
      "high 0\n",
      "spec 1\n",
      "gen 0\n",
      "1 0.9197479531250001\n",
      "2 0.29077539062499996\n",
      "low 0\n",
      "high 0\n",
      "spec 1\n",
      "gen 0\n"
     ]
    },
    {
     "name": "stderr",
     "output_type": "stream",
     "text": [
      "\r",
      " 14%|█▍        | 140/1000 [00:20<01:53,  7.54it/s]"
     ]
    },
    {
     "name": "stdout",
     "output_type": "stream",
     "text": [
      "1 0.9197479531250001\n",
      "2 0.29077539062499996\n",
      "low 0\n",
      "high 0\n",
      "spec 1\n",
      "gen 0\n",
      "1 0.8043569999999999\n",
      "2 0.221445125\n",
      "low 0\n",
      "high 0\n",
      "spec 1\n",
      "gen 0\n"
     ]
    },
    {
     "name": "stderr",
     "output_type": "stream",
     "text": [
      " 14%|█▍        | 143/1000 [00:21<02:09,  6.63it/s]"
     ]
    },
    {
     "name": "stdout",
     "output_type": "stream",
     "text": [
      "1 0.8847359999999999\n",
      "2 0.274625\n",
      "low 0\n",
      "high 0\n",
      "spec 1\n",
      "gen 0\n",
      "1 0.797887671875\n",
      "2 0.21871126562500004\n",
      "low 0\n",
      "high 0\n",
      "spec 1\n",
      "gen 0\n"
     ]
    },
    {
     "name": "stderr",
     "output_type": "stream",
     "text": [
      "\r",
      " 14%|█▍        | 144/1000 [00:21<02:06,  6.76it/s]"
     ]
    },
    {
     "name": "stdout",
     "output_type": "stream",
     "text": [
      "1 0.8305839999999999\n",
      "2 0.250047\n",
      "low 0\n",
      "high 0\n",
      "spec 1\n",
      "gen 0\n",
      "1 0.785053265625\n",
      "2 0.21331123437500002\n",
      "low 0\n",
      "high 0\n",
      "spec 1\n",
      "gen 0\n"
     ]
    },
    {
     "name": "stderr",
     "output_type": "stream",
     "text": [
      " 15%|█▍        | 146/1000 [00:21<02:17,  6.23it/s]"
     ]
    },
    {
     "name": "stdout",
     "output_type": "stream",
     "text": [
      "1 0.9197479531250001\n",
      "2 0.29077539062499996\n",
      "low 0\n",
      "high 0\n",
      "spec 1\n",
      "gen 0\n",
      "1 0\n",
      "2 0\n",
      "low 1\n",
      "high 0\n",
      "spec 0\n",
      "gen 0\n"
     ]
    },
    {
     "name": "stderr",
     "output_type": "stream",
     "text": [
      " 15%|█▍        | 149/1000 [00:22<02:20,  6.06it/s]"
     ]
    },
    {
     "name": "stdout",
     "output_type": "stream",
     "text": [
      "1 0.8847359999999999\n",
      "2 0.274625\n",
      "low 0\n",
      "high 0\n",
      "spec 1\n",
      "gen 0\n",
      "1 0.8847359999999999\n",
      "2 0.274625\n",
      "low 0\n",
      "high 0\n",
      "spec 1\n",
      "gen 0\n"
     ]
    },
    {
     "name": "stderr",
     "output_type": "stream",
     "text": [
      " 15%|█▌        | 151/1000 [00:22<02:04,  6.80it/s]"
     ]
    },
    {
     "name": "stdout",
     "output_type": "stream",
     "text": [
      "1 0.8847359999999999\n",
      "2 0.274625\n",
      "low 0\n",
      "high 0\n",
      "spec 1\n",
      "gen 0\n",
      "1 0.778688\n",
      "2 0.226981\n",
      "low 0\n",
      "high 0\n",
      "spec 1\n",
      "gen 0\n"
     ]
    },
    {
     "name": "stderr",
     "output_type": "stream",
     "text": [
      " 15%|█▌        | 153/1000 [00:22<01:55,  7.33it/s]"
     ]
    },
    {
     "name": "stdout",
     "output_type": "stream",
     "text": [
      "1 0.970299\n",
      "2 0.3214191250000001\n",
      "low 0\n",
      "high 1\n",
      "spec 0\n",
      "gen 0\n",
      "1 0.891666015625\n",
      "2 0.27780595312499995\n",
      "low 0\n",
      "high 0\n",
      "spec 1\n",
      "gen 0\n"
     ]
    },
    {
     "name": "stderr",
     "output_type": "stream",
     "text": [
      " 16%|█▌        | 155/1000 [00:22<01:58,  7.15it/s]"
     ]
    },
    {
     "name": "stdout",
     "output_type": "stream",
     "text": [
      "1 0.9197479531250001\n",
      "2 0.29077539062499996\n",
      "low 0\n",
      "high 0\n",
      "spec 1\n",
      "gen 0\n",
      "1 0.9197479531250001\n",
      "2 0.29077539062499996\n",
      "low 0\n",
      "high 0\n",
      "spec 1\n",
      "gen 0\n"
     ]
    },
    {
     "name": "stderr",
     "output_type": "stream",
     "text": [
      "\r",
      " 16%|█▌        | 156/1000 [00:23<01:55,  7.32it/s]"
     ]
    },
    {
     "name": "stdout",
     "output_type": "stream",
     "text": [
      "1 0.8847359999999999\n",
      "2 0.274625\n",
      "low 0\n",
      "high 0\n",
      "spec 1\n",
      "gen 0\n",
      "1 0.8847359999999999\n",
      "2 0.274625\n",
      "low 0\n",
      "high 0\n",
      "spec 1\n",
      "gen 0\n"
     ]
    },
    {
     "name": "stderr",
     "output_type": "stream",
     "text": [
      " 16%|█▌        | 159/1000 [00:23<02:03,  6.78it/s]"
     ]
    },
    {
     "name": "stdout",
     "output_type": "stream",
     "text": [
      "1 0.759798828125\n",
      "2 0.20277929687500001\n",
      "low 0\n",
      "high 0\n",
      "spec 1\n",
      "gen 0\n",
      "1 0.8847359999999999\n",
      "2 0.274625\n",
      "low 0\n",
      "high 0\n",
      "spec 1\n",
      "gen 0\n"
     ]
    },
    {
     "name": "stderr",
     "output_type": "stream",
     "text": [
      "\r",
      " 16%|█▌        | 160/1000 [00:23<02:00,  6.97it/s]"
     ]
    },
    {
     "name": "stdout",
     "output_type": "stream",
     "text": [
      "1 0.3850339218750001\n",
      "2 0.07277285937499998\n",
      "low 1\n",
      "high 0\n",
      "spec 0\n",
      "gen 0\n"
     ]
    },
    {
     "name": "stderr",
     "output_type": "stream",
     "text": [
      "\r",
      " 16%|█▌        | 161/1000 [00:24<02:31,  5.54it/s]"
     ]
    },
    {
     "name": "stdout",
     "output_type": "stream",
     "text": [
      "1 0.6990449218749999\n",
      "2 0.48837304687499994\n",
      "low 0\n",
      "high 0\n",
      "spec 0\n",
      "gen 1\n",
      "1 0.3579109999999999\n",
      "2 0.06399999999999996\n",
      "low 1\n",
      "high 0\n",
      "spec 0\n",
      "gen 0\n"
     ]
    },
    {
     "name": "stderr",
     "output_type": "stream",
     "text": [
      "\r",
      " 16%|█▋        | 163/1000 [00:24<02:13,  6.26it/s]"
     ]
    },
    {
     "name": "stdout",
     "output_type": "stream",
     "text": [
      "1 0.413493625\n",
      "2 0.413493625\n",
      "low 0\n",
      "high 0\n",
      "spec 0\n",
      "gen 1\n",
      "1 0.9197479531250001\n",
      "2 0.29077539062499996\n",
      "low 0\n",
      "high 0\n",
      "spec 1\n",
      "gen 0\n"
     ]
    },
    {
     "name": "stderr",
     "output_type": "stream",
     "text": [
      " 17%|█▋        | 166/1000 [00:24<02:03,  6.73it/s]"
     ]
    },
    {
     "name": "stdout",
     "output_type": "stream",
     "text": [
      "1 0.507214984375\n",
      "2 0.507214984375\n",
      "low 0\n",
      "high 0\n",
      "spec 0\n",
      "gen 1\n",
      "1 0.8847359999999999\n",
      "2 0.274625\n",
      "low 0\n",
      "high 0\n",
      "spec 1\n",
      "gen 0\n"
     ]
    },
    {
     "name": "stderr",
     "output_type": "stream",
     "text": [
      " 17%|█▋        | 168/1000 [00:24<01:57,  7.10it/s]"
     ]
    },
    {
     "name": "stdout",
     "output_type": "stream",
     "text": [
      "1 0.9197479531250001\n",
      "2 0.29077539062499996\n",
      "low 0\n",
      "high 0\n",
      "spec 1\n",
      "gen 0\n",
      "1 0.8847359999999999\n",
      "2 0.274625\n",
      "low 0\n",
      "high 0\n",
      "spec 1\n",
      "gen 0\n"
     ]
    },
    {
     "name": "stderr",
     "output_type": "stream",
     "text": [
      "\r",
      " 17%|█▋        | 169/1000 [00:25<01:55,  7.18it/s]"
     ]
    },
    {
     "name": "stdout",
     "output_type": "stream",
     "text": [
      "1 0.9056344218750001\n",
      "2 0.27780595312499995\n",
      "low 0\n",
      "high 0\n",
      "spec 1\n",
      "gen 0\n",
      "1 0.48373662500000003\n",
      "2 0.48373662500000003\n",
      "low 0\n",
      "high 0\n",
      "spec 0\n",
      "gen 1\n"
     ]
    },
    {
     "name": "stderr",
     "output_type": "stream",
     "text": [
      " 17%|█▋        | 171/1000 [00:25<02:15,  6.14it/s]"
     ]
    },
    {
     "name": "stdout",
     "output_type": "stream",
     "text": [
      "1 0.8847359999999999\n",
      "2 0.25604787500000004\n",
      "low 0\n",
      "high 0\n",
      "spec 1\n",
      "gen 0\n",
      "1 0.9056344218750001\n",
      "2 0.27780595312499995\n",
      "low 0\n",
      "high 0\n",
      "spec 1\n",
      "gen 0\n"
     ]
    },
    {
     "name": "stderr",
     "output_type": "stream",
     "text": [
      " 17%|█▋        | 173/1000 [00:25<02:06,  6.54it/s]"
     ]
    },
    {
     "name": "stdout",
     "output_type": "stream",
     "text": [
      "1 0.891666015625\n",
      "2 0.25908398437499996\n",
      "low 0\n",
      "high 0\n",
      "spec 1\n",
      "gen 0\n",
      "1 0.9197479531250001\n",
      "2 0.29077539062499996\n",
      "low 0\n",
      "high 0\n",
      "spec 1\n",
      "gen 0\n"
     ]
    },
    {
     "name": "stderr",
     "output_type": "stream",
     "text": [
      " 18%|█▊        | 176/1000 [00:26<01:49,  7.50it/s]"
     ]
    },
    {
     "name": "stdout",
     "output_type": "stream",
     "text": [
      "1 0.6087221718750001\n",
      "2 0.566635796875\n",
      "low 0\n",
      "high 0\n",
      "spec 0\n",
      "gen 1\n",
      "1 0.8573749999999999\n",
      "2 0.28749600000000003\n",
      "low 0\n",
      "high 0\n",
      "spec 1\n",
      "gen 0\n"
     ]
    },
    {
     "name": "stderr",
     "output_type": "stream",
     "text": [
      " 18%|█▊        | 178/1000 [00:26<01:44,  7.89it/s]"
     ]
    },
    {
     "name": "stdout",
     "output_type": "stream",
     "text": [
      "1 0\n",
      "2 0\n",
      "low 1\n",
      "high 0\n",
      "spec 0\n",
      "gen 0\n",
      "1 0.864161578125\n",
      "2 0.2652280156249999\n",
      "low 0\n",
      "high 0\n",
      "spec 1\n",
      "gen 0\n"
     ]
    },
    {
     "name": "stderr",
     "output_type": "stream",
     "text": [
      "\r",
      " 18%|█▊        | 179/1000 [00:26<01:44,  7.85it/s]"
     ]
    },
    {
     "name": "stdout",
     "output_type": "stream",
     "text": [
      "1 0.9197479531250001\n",
      "2 0.29077539062499996\n",
      "low 0\n",
      "high 0\n",
      "spec 1\n",
      "gen 0\n",
      "1 0.9197479531250001\n",
      "2 0.29077539062499996\n",
      "low 0\n",
      "high 0\n",
      "spec 1\n",
      "gen 0\n"
     ]
    },
    {
     "name": "stderr",
     "output_type": "stream",
     "text": [
      " 18%|█▊        | 181/1000 [00:26<01:54,  7.15it/s]"
     ]
    },
    {
     "name": "stdout",
     "output_type": "stream",
     "text": [
      "1 0.9197479531250001\n",
      "2 0.29077539062499996\n",
      "low 0\n",
      "high 0\n",
      "spec 1\n",
      "gen 0\n",
      "1 0.9197479531250001\n",
      "2 0.29077539062499996\n",
      "low 0\n",
      "high 0\n",
      "spec 1\n",
      "gen 0\n"
     ]
    },
    {
     "name": "stderr",
     "output_type": "stream",
     "text": [
      " 18%|█▊        | 184/1000 [00:27<01:45,  7.70it/s]"
     ]
    },
    {
     "name": "stdout",
     "output_type": "stream",
     "text": [
      "1 0.48373662499999986\n",
      "2 0.48373662499999986\n",
      "low 0\n",
      "high 0\n",
      "spec 0\n",
      "gen 1\n",
      "1 0.850624046875\n",
      "2 0.24122264062500007\n",
      "low 0\n",
      "high 0\n",
      "spec 1\n",
      "gen 0\n"
     ]
    },
    {
     "name": "stderr",
     "output_type": "stream",
     "text": [
      " 19%|█▊        | 186/1000 [00:27<01:41,  8.00it/s]"
     ]
    },
    {
     "name": "stdout",
     "output_type": "stream",
     "text": [
      "1 0.9197479531250001\n",
      "2 0.29077539062499996\n",
      "low 0\n",
      "high 0\n",
      "spec 1\n",
      "gen 0\n",
      "1 0.8986321249999999\n",
      "2 0.281011375\n",
      "low 0\n",
      "high 0\n",
      "spec 1\n",
      "gen 0\n"
     ]
    },
    {
     "name": "stderr",
     "output_type": "stream",
     "text": [
      " 19%|█▉        | 188/1000 [00:27<01:44,  7.74it/s]"
     ]
    },
    {
     "name": "stdout",
     "output_type": "stream",
     "text": [
      "1 0.8986321249999999\n",
      "2 0.281011375\n",
      "low 0\n",
      "high 0\n",
      "spec 1\n",
      "gen 0\n",
      "1 0.850624046875\n",
      "2 0.24122264062500007\n",
      "low 0\n",
      "high 0\n",
      "spec 1\n",
      "gen 0\n"
     ]
    },
    {
     "name": "stderr",
     "output_type": "stream",
     "text": [
      " 19%|█▉        | 190/1000 [00:27<01:46,  7.57it/s]"
     ]
    },
    {
     "name": "stdout",
     "output_type": "stream",
     "text": [
      "1 0.9197479531250001\n",
      "2 0.29077539062499996\n",
      "low 0\n",
      "high 0\n",
      "spec 1\n",
      "gen 0\n",
      "1 0.9197479531250001\n",
      "2 0.29077539062499996\n",
      "low 0\n",
      "high 0\n",
      "spec 1\n",
      "gen 0\n"
     ]
    },
    {
     "name": "stderr",
     "output_type": "stream",
     "text": [
      " 19%|█▉        | 192/1000 [00:28<01:46,  7.61it/s]"
     ]
    },
    {
     "name": "stdout",
     "output_type": "stream",
     "text": [
      "1 0.9197479531250001\n",
      "2 0.29077539062499996\n",
      "low 0\n",
      "high 0\n",
      "spec 1\n",
      "gen 0\n",
      "1 0.9197479531250001\n",
      "2 0.29077539062499996\n",
      "low 0\n",
      "high 0\n",
      "spec 1\n",
      "gen 0\n"
     ]
    },
    {
     "name": "stderr",
     "output_type": "stream",
     "text": [
      " 19%|█▉        | 194/1000 [00:28<01:46,  7.60it/s]"
     ]
    },
    {
     "name": "stdout",
     "output_type": "stream",
     "text": [
      "1 0.9197479531250001\n",
      "2 0.29077539062499996\n",
      "low 0\n",
      "high 0\n",
      "spec 1\n",
      "gen 0\n",
      "1 0.310976734375\n",
      "2 0.04380032812500001\n",
      "low 1\n",
      "high 0\n",
      "spec 0\n",
      "gen 0\n"
     ]
    },
    {
     "name": "stderr",
     "output_type": "stream",
     "text": [
      "\r",
      " 20%|█▉        | 195/1000 [00:28<01:45,  7.65it/s]"
     ]
    },
    {
     "name": "stdout",
     "output_type": "stream",
     "text": [
      "1 0.9197479531250001\n",
      "2 0.29077539062499996\n",
      "low 0\n",
      "high 0\n",
      "spec 1\n",
      "gen 0\n",
      "1 0.864161578125\n",
      "2 0.37714951562500004\n",
      "low 0\n",
      "high 1\n",
      "spec 0\n",
      "gen 0\n"
     ]
    },
    {
     "name": "stderr",
     "output_type": "stream",
     "text": [
      " 20%|█▉        | 198/1000 [00:29<01:45,  7.58it/s]"
     ]
    },
    {
     "name": "stdout",
     "output_type": "stream",
     "text": [
      "1 0.9197479531250001\n",
      "2 0.29077539062499996\n",
      "low 0\n",
      "high 0\n",
      "spec 1\n",
      "gen 0\n",
      "1 0.864161578125\n",
      "2 0.37714951562500004\n",
      "low 0\n",
      "high 1\n",
      "spec 0\n",
      "gen 0\n"
     ]
    },
    {
     "name": "stderr",
     "output_type": "stream",
     "text": [
      " 20%|██        | 200/1000 [00:29<01:44,  7.66it/s]"
     ]
    },
    {
     "name": "stdout",
     "output_type": "stream",
     "text": [
      "1 0.9197479531250001\n",
      "2 0.29077539062499996\n",
      "low 0\n",
      "high 0\n",
      "spec 1\n",
      "gen 0\n",
      "1 0.8573749999999999\n",
      "2 0.381078125\n",
      "low 0\n",
      "high 1\n",
      "spec 0\n",
      "gen 0\n"
     ]
    },
    {
     "name": "stderr",
     "output_type": "stream",
     "text": [
      " 20%|██        | 202/1000 [00:29<01:40,  7.98it/s]"
     ]
    },
    {
     "name": "stdout",
     "output_type": "stream",
     "text": [
      "1 0.8847359999999999\n",
      "2 0.274625\n",
      "low 0\n",
      "high 0\n",
      "spec 1\n",
      "gen 0\n",
      "1 0.9197479531250001\n",
      "2 0.29077539062499996\n",
      "low 0\n",
      "high 0\n",
      "spec 1\n",
      "gen 0\n"
     ]
    },
    {
     "name": "stderr",
     "output_type": "stream",
     "text": [
      "\r",
      " 20%|██        | 203/1000 [00:29<01:41,  7.87it/s]"
     ]
    },
    {
     "name": "stdout",
     "output_type": "stream",
     "text": [
      "1 0.7169173750000001\n",
      "2 0.18519299999999994\n",
      "low 0\n",
      "high 0\n",
      "spec 1\n",
      "gen 0\n",
      "1 0.759798828125\n",
      "2 0.20277929687500001\n",
      "low 0\n",
      "high 0\n",
      "spec 1\n",
      "gen 0\n"
     ]
    },
    {
     "name": "stderr",
     "output_type": "stream",
     "text": [
      " 21%|██        | 206/1000 [00:30<01:45,  7.51it/s]"
     ]
    },
    {
     "name": "stdout",
     "output_type": "stream",
     "text": [
      "1 0.864161578125\n",
      "2 0.37714951562500004\n",
      "low 0\n",
      "high 1\n",
      "spec 0\n",
      "gen 0\n",
      "1 0.8847359999999999\n",
      "2 0.274625\n",
      "low 0\n",
      "high 0\n",
      "spec 1\n",
      "gen 0\n"
     ]
    },
    {
     "name": "stderr",
     "output_type": "stream",
     "text": [
      " 21%|██        | 208/1000 [00:30<01:43,  7.65it/s]"
     ]
    },
    {
     "name": "stdout",
     "output_type": "stream",
     "text": [
      "1 0.7914531250000001\n",
      "2 0.21599999999999997\n",
      "low 0\n",
      "high 0\n",
      "spec 1\n",
      "gen 0\n",
      "1 0.912673\n",
      "2 0.26833612500000004\n",
      "low 0\n",
      "high 0\n",
      "spec 1\n",
      "gen 0\n"
     ]
    },
    {
     "name": "stderr",
     "output_type": "stream",
     "text": [
      " 21%|██        | 210/1000 [00:30<01:45,  7.50it/s]"
     ]
    },
    {
     "name": "stdout",
     "output_type": "stream",
     "text": [
      "1 0.970299\n",
      "2 0.3214191250000001\n",
      "low 0\n",
      "high 1\n",
      "spec 0\n",
      "gen 0\n",
      "1 0.9197479531250001\n",
      "2 0.29077539062499996\n",
      "low 0\n",
      "high 0\n",
      "spec 1\n",
      "gen 0\n"
     ]
    },
    {
     "name": "stderr",
     "output_type": "stream",
     "text": [
      "\r",
      " 21%|██        | 211/1000 [00:30<01:47,  7.33it/s]"
     ]
    },
    {
     "name": "stdout",
     "output_type": "stream",
     "text": [
      "1 0.9197479531250001\n",
      "2 0.29077539062499996\n",
      "low 0\n",
      "high 0\n",
      "spec 1\n",
      "gen 0\n",
      "1 0.9197479531250001\n",
      "2 0.29077539062499996\n",
      "low 0\n",
      "high 0\n",
      "spec 1\n",
      "gen 0\n"
     ]
    },
    {
     "name": "stderr",
     "output_type": "stream",
     "text": [
      " 21%|██▏       | 214/1000 [00:31<01:46,  7.37it/s]"
     ]
    },
    {
     "name": "stdout",
     "output_type": "stream",
     "text": [
      "1 0.9197479531250001\n",
      "2 0.29077539062499996\n",
      "low 0\n",
      "high 0\n",
      "spec 1\n",
      "gen 0\n",
      "1 0.7786879999999998\n",
      "2 0.32850899999999994\n",
      "low 0\n",
      "high 1\n",
      "spec 0\n",
      "gen 0\n"
     ]
    },
    {
     "name": "stderr",
     "output_type": "stream",
     "text": [
      " 22%|██▏       | 216/1000 [00:31<01:44,  7.53it/s]"
     ]
    },
    {
     "name": "stdout",
     "output_type": "stream",
     "text": [
      "1 0.8847359999999999\n",
      "2 0.274625\n",
      "low 0\n",
      "high 0\n",
      "spec 1\n",
      "gen 0\n",
      "1 0.7786879999999998\n",
      "2 0.430368875\n",
      "low 0\n",
      "high 1\n",
      "spec 0\n",
      "gen 0\n"
     ]
    },
    {
     "name": "stderr",
     "output_type": "stream",
     "text": [
      " 22%|██▏       | 218/1000 [00:31<01:40,  7.76it/s]"
     ]
    },
    {
     "name": "stdout",
     "output_type": "stream",
     "text": [
      "1 0.8847359999999999\n",
      "2 0.25604787500000004\n",
      "low 0\n",
      "high 0\n",
      "spec 1\n",
      "gen 0\n",
      "1 0.8439086249999999\n",
      "2 0.25604787500000004\n",
      "low 0\n",
      "high 0\n",
      "spec 1\n",
      "gen 0\n"
     ]
    },
    {
     "name": "stderr",
     "output_type": "stream",
     "text": [
      "\r",
      " 22%|██▏       | 219/1000 [00:31<01:48,  7.20it/s]"
     ]
    },
    {
     "name": "stdout",
     "output_type": "stream",
     "text": [
      "1 0.7786879999999998\n",
      "2 0.430368875\n",
      "low 0\n",
      "high 1\n",
      "spec 0\n",
      "gen 0\n",
      "1 0.9197479531250001\n",
      "2 0.29077539062499996\n",
      "low 0\n",
      "high 0\n",
      "spec 1\n",
      "gen 0\n"
     ]
    },
    {
     "name": "stderr",
     "output_type": "stream",
     "text": [
      " 22%|██▏       | 222/1000 [00:32<01:43,  7.55it/s]"
     ]
    },
    {
     "name": "stdout",
     "output_type": "stream",
     "text": [
      "1 0.9197479531250001\n",
      "2 0.29077539062499996\n",
      "low 0\n",
      "high 0\n",
      "spec 1\n",
      "gen 0\n",
      "1 0.9197479531250001\n",
      "2 0.29077539062499996\n",
      "low 0\n",
      "high 0\n",
      "spec 1\n",
      "gen 0\n"
     ]
    },
    {
     "name": "stderr",
     "output_type": "stream",
     "text": [
      " 22%|██▏       | 224/1000 [00:32<01:41,  7.67it/s]"
     ]
    },
    {
     "name": "stdout",
     "output_type": "stream",
     "text": [
      "1 0.9411919999999999\n",
      "2 0.3007629999999999\n",
      "low 0\n",
      "high 1\n",
      "spec 0\n",
      "gen 0\n",
      "1 0.49303900000000006\n",
      "2 0.49303900000000006\n",
      "low 0\n",
      "high 0\n",
      "spec 0\n",
      "gen 1\n"
     ]
    },
    {
     "name": "stderr",
     "output_type": "stream",
     "text": [
      "\r",
      " 22%|██▎       | 225/1000 [00:32<01:46,  7.28it/s]"
     ]
    },
    {
     "name": "stdout",
     "output_type": "stream",
     "text": [
      "1 0.9197479531250001\n",
      "2 0.29077539062499996\n",
      "low 0\n",
      "high 0\n",
      "spec 1\n",
      "gen 0\n",
      "1 0.9411919999999999\n",
      "2 0.3007629999999999\n",
      "low 0\n",
      "high 1\n",
      "spec 0\n",
      "gen 0\n"
     ]
    },
    {
     "name": "stderr",
     "output_type": "stream",
     "text": [
      " 23%|██▎       | 228/1000 [00:33<01:44,  7.42it/s]"
     ]
    },
    {
     "name": "stdout",
     "output_type": "stream",
     "text": [
      "1 0.8847359999999999\n",
      "2 0.274625\n",
      "low 0\n",
      "high 0\n",
      "spec 1\n",
      "gen 0\n",
      "1 0.7169173750000001\n",
      "2 0.47455200000000003\n",
      "low 0\n",
      "high 1\n",
      "spec 0\n",
      "gen 0\n"
     ]
    },
    {
     "name": "stderr",
     "output_type": "stream",
     "text": [
      "\r",
      " 23%|██▎       | 229/1000 [00:33<01:44,  7.39it/s]"
     ]
    },
    {
     "name": "stdout",
     "output_type": "stream",
     "text": [
      "1 0.250047\n",
      "2 0.140608\n",
      "low 1\n",
      "high 0\n",
      "spec 0\n",
      "gen 0\n",
      "1 0.23260837499999998\n",
      "2 0.12878762500000002\n",
      "low 1\n",
      "high 0\n",
      "spec 0\n",
      "gen 0\n"
     ]
    },
    {
     "name": "stderr",
     "output_type": "stream",
     "text": [
      " 23%|██▎       | 232/1000 [00:33<01:53,  6.77it/s]"
     ]
    },
    {
     "name": "stdout",
     "output_type": "stream",
     "text": [
      "1 0.7412176250000001\n",
      "2 0.19511199999999995\n",
      "low 0\n",
      "high 0\n",
      "spec 1\n",
      "gen 0\n",
      "1 0.430368875\n",
      "2 0.08812112499999997\n",
      "low 1\n",
      "high 0\n",
      "spec 0\n",
      "gen 0\n"
     ]
    },
    {
     "name": "stderr",
     "output_type": "stream",
     "text": [
      "\r",
      " 23%|██▎       | 233/1000 [00:33<01:55,  6.67it/s]"
     ]
    },
    {
     "name": "stdout",
     "output_type": "stream",
     "text": [
      "1 0.3771495156249999\n",
      "2 0.070189453125\n",
      "low 1\n",
      "high 0\n",
      "spec 0\n",
      "gen 0\n",
      "1 0.8847359999999999\n",
      "2 0.274625\n",
      "low 0\n",
      "high 0\n",
      "spec 1\n",
      "gen 0\n"
     ]
    },
    {
     "name": "stderr",
     "output_type": "stream",
     "text": [
      " 24%|██▎       | 236/1000 [00:34<01:44,  7.34it/s]"
     ]
    },
    {
     "name": "stdout",
     "output_type": "stream",
     "text": [
      "1 0.9556716249999999\n",
      "2 0.30754687500000005\n",
      "low 0\n",
      "high 1\n",
      "spec 0\n",
      "gen 0\n",
      "1 0.9197479531250001\n",
      "2 0.29077539062499996\n",
      "low 0\n",
      "high 0\n",
      "spec 1\n",
      "gen 0\n"
     ]
    },
    {
     "name": "stderr",
     "output_type": "stream",
     "text": [
      "\r",
      " 24%|██▎       | 237/1000 [00:34<01:44,  7.27it/s]"
     ]
    },
    {
     "name": "stdout",
     "output_type": "stream",
     "text": [
      "1 0.38901699999999995\n",
      "2 0.07408799999999996\n",
      "low 1\n",
      "high 0\n",
      "spec 0\n",
      "gen 0\n",
      "1 0.759798828125\n",
      "2 0.20277929687500001\n",
      "low 0\n",
      "high 0\n",
      "spec 1\n",
      "gen 0\n"
     ]
    },
    {
     "name": "stderr",
     "output_type": "stream",
     "text": [
      " 24%|██▍       | 239/1000 [00:34<01:44,  7.31it/s]"
     ]
    },
    {
     "name": "stdout",
     "output_type": "stream",
     "text": [
      "1 0.9197479531250001\n",
      "2 0.29077539062499996\n",
      "low 0\n",
      "high 0\n",
      "spec 1\n",
      "gen 0\n",
      "1 0.9056344218750001\n",
      "2 0.2652280156250001\n",
      "low 0\n",
      "high 0\n",
      "spec 1\n",
      "gen 0\n"
     ]
    },
    {
     "name": "stderr",
     "output_type": "stream",
     "text": [
      " 24%|██▍       | 241/1000 [00:34<01:50,  6.88it/s]"
     ]
    },
    {
     "name": "stdout",
     "output_type": "stream",
     "text": [
      "1 0.9197479531250001\n",
      "2 0.29077539062499996\n",
      "low 0\n",
      "high 0\n",
      "spec 1\n",
      "gen 0\n",
      "1 0.9056344218750001\n",
      "2 0.28424135937499995\n",
      "low 0\n",
      "high 0\n",
      "spec 1\n",
      "gen 0\n"
     ]
    },
    {
     "name": "stderr",
     "output_type": "stream",
     "text": [
      " 24%|██▍       | 243/1000 [00:35<01:49,  6.90it/s]"
     ]
    },
    {
     "name": "stdout",
     "output_type": "stream",
     "text": [
      "1 0.9197479531250001\n",
      "2 0.29077539062499996\n",
      "low 0\n",
      "high 0\n",
      "spec 1\n",
      "gen 0\n",
      "1 0.9411919999999999\n",
      "2 0.281011375\n",
      "low 0\n",
      "high 0\n",
      "spec 1\n",
      "gen 0\n"
     ]
    },
    {
     "name": "stderr",
     "output_type": "stream",
     "text": [
      " 24%|██▍       | 245/1000 [00:35<01:46,  7.09it/s]"
     ]
    },
    {
     "name": "stdout",
     "output_type": "stream",
     "text": [
      "1 0.9268593749999999\n",
      "2 0.274625\n",
      "low 0\n",
      "high 0\n",
      "spec 1\n",
      "gen 0\n",
      "1 0.9411919999999999\n",
      "2 0.281011375\n",
      "low 0\n",
      "high 0\n",
      "spec 1\n",
      "gen 0\n"
     ]
    },
    {
     "name": "stderr",
     "output_type": "stream",
     "text": [
      " 25%|██▍       | 247/1000 [00:35<01:51,  6.73it/s]"
     ]
    },
    {
     "name": "stdout",
     "output_type": "stream",
     "text": [
      "1 0.9268593749999999\n",
      "2 0.274625\n",
      "low 0\n",
      "high 0\n",
      "spec 1\n",
      "gen 0\n",
      "1 0.9411919999999999\n",
      "2 0.281011375\n",
      "low 0\n",
      "high 0\n",
      "spec 1\n",
      "gen 0\n"
     ]
    },
    {
     "name": "stderr",
     "output_type": "stream",
     "text": [
      " 25%|██▍       | 249/1000 [00:36<01:48,  6.90it/s]"
     ]
    },
    {
     "name": "stdout",
     "output_type": "stream",
     "text": [
      "1 0.970299\n",
      "2 0.29407962500000007\n",
      "low 0\n",
      "high 0\n",
      "spec 1\n",
      "gen 0\n",
      "1 0.9197479531250001\n",
      "2 0.29077539062499996\n",
      "low 0\n",
      "high 0\n",
      "spec 1\n",
      "gen 0\n"
     ]
    },
    {
     "name": "stderr",
     "output_type": "stream",
     "text": [
      " 25%|██▌       | 251/1000 [00:36<01:46,  7.04it/s]"
     ]
    },
    {
     "name": "stdout",
     "output_type": "stream",
     "text": [
      "1 0.9411919999999999\n",
      "2 0.281011375\n",
      "low 0\n",
      "high 0\n",
      "spec 1\n",
      "gen 0\n",
      "1 0.9411919999999999\n",
      "2 0.281011375\n",
      "low 0\n",
      "high 0\n",
      "spec 1\n",
      "gen 0\n"
     ]
    },
    {
     "name": "stderr",
     "output_type": "stream",
     "text": [
      " 25%|██▌       | 253/1000 [00:36<01:47,  6.98it/s]"
     ]
    },
    {
     "name": "stdout",
     "output_type": "stream",
     "text": [
      "1 0.9197479531250001\n",
      "2 0.29077539062499996\n",
      "low 0\n",
      "high 0\n",
      "spec 1\n",
      "gen 0\n",
      "1 0.9411919999999999\n",
      "2 0.281011375\n",
      "low 0\n",
      "high 0\n",
      "spec 1\n",
      "gen 0\n"
     ]
    },
    {
     "name": "stderr",
     "output_type": "stream",
     "text": [
      " 26%|██▌       | 255/1000 [00:36<01:52,  6.60it/s]"
     ]
    },
    {
     "name": "stdout",
     "output_type": "stream",
     "text": [
      "1 0.9411919999999999\n",
      "2 0.281011375\n",
      "low 0\n",
      "high 0\n",
      "spec 1\n",
      "gen 0\n",
      "1 0.8439086250000002\n",
      "2 0.30754687500000005\n",
      "low 0\n",
      "high 1\n",
      "spec 0\n",
      "gen 0\n"
     ]
    },
    {
     "name": "stderr",
     "output_type": "stream",
     "text": [
      " 26%|██▌       | 257/1000 [00:37<02:02,  6.06it/s]"
     ]
    },
    {
     "name": "stdout",
     "output_type": "stream",
     "text": [
      "1 0.9197479531250001\n",
      "2 0.271468421875\n",
      "low 0\n",
      "high 0\n",
      "spec 1\n",
      "gen 0\n"
     ]
    },
    {
     "name": "stderr",
     "output_type": "stream",
     "text": [
      "\r",
      " 26%|██▌       | 258/1000 [00:37<02:11,  5.63it/s]"
     ]
    },
    {
     "name": "stdout",
     "output_type": "stream",
     "text": [
      "1 0.7535710000000001\n",
      "2 0.21599999999999997\n",
      "low 0\n",
      "high 0\n",
      "spec 1\n",
      "gen 0\n",
      "1 0.8439086250000002\n",
      "2 0.30754687500000005\n",
      "low 0\n",
      "high 1\n",
      "spec 0\n",
      "gen 0\n"
     ]
    },
    {
     "name": "stderr",
     "output_type": "stream",
     "text": [
      " 26%|██▌       | 260/1000 [00:37<02:30,  4.93it/s]"
     ]
    },
    {
     "name": "stdout",
     "output_type": "stream",
     "text": [
      "1 0.8439086250000002\n",
      "2 0.30754687500000005\n",
      "low 0\n",
      "high 1\n",
      "spec 0\n",
      "gen 0\n"
     ]
    },
    {
     "name": "stderr",
     "output_type": "stream",
     "text": [
      "\r",
      " 26%|██▌       | 261/1000 [00:38<02:32,  4.85it/s]"
     ]
    },
    {
     "name": "stdout",
     "output_type": "stream",
     "text": [
      "1 0.9197479531250001\n",
      "2 0.29077539062499996\n",
      "low 0\n",
      "high 0\n",
      "spec 1\n",
      "gen 0\n",
      "1 0.9197479531250001\n",
      "2 0.29077539062499996\n",
      "low 0\n",
      "high 0\n",
      "spec 1\n",
      "gen 0\n"
     ]
    },
    {
     "name": "stderr",
     "output_type": "stream",
     "text": [
      " 26%|██▋       | 263/1000 [00:38<02:20,  5.25it/s]"
     ]
    },
    {
     "name": "stdout",
     "output_type": "stream",
     "text": [
      "1 0.8439086250000002\n",
      "2 0.30754687500000005\n",
      "low 0\n",
      "high 1\n",
      "spec 0\n",
      "gen 0\n",
      "1 0.9197479531250001\n",
      "2 0.29077539062499996\n",
      "low 0\n",
      "high 0\n",
      "spec 1\n",
      "gen 0\n"
     ]
    },
    {
     "name": "stderr",
     "output_type": "stream",
     "text": [
      " 26%|██▋       | 265/1000 [00:38<02:08,  5.72it/s]"
     ]
    },
    {
     "name": "stdout",
     "output_type": "stream",
     "text": [
      "1 0.9268593749999999\n",
      "2 0.28749600000000003\n",
      "low 0\n",
      "high 0\n",
      "spec 1\n",
      "gen 0\n",
      "1 0.912673\n",
      "2 0.29407962500000007\n",
      "low 0\n",
      "high 0\n",
      "spec 1\n",
      "gen 0\n"
     ]
    },
    {
     "name": "stderr",
     "output_type": "stream",
     "text": [
      " 27%|██▋       | 267/1000 [00:39<01:58,  6.18it/s]"
     ]
    },
    {
     "name": "stdout",
     "output_type": "stream",
     "text": [
      "1 0.9197479531250001\n",
      "2 0.29077539062499996\n",
      "low 0\n",
      "high 0\n",
      "spec 1\n",
      "gen 0\n",
      "1 0.877841984375\n",
      "2 0.27780595312499995\n",
      "low 0\n",
      "high 0\n",
      "spec 1\n",
      "gen 0\n"
     ]
    },
    {
     "name": "stderr",
     "output_type": "stream",
     "text": [
      " 27%|██▋       | 269/1000 [00:39<02:03,  5.90it/s]"
     ]
    },
    {
     "name": "stdout",
     "output_type": "stream",
     "text": [
      "1 0.912673\n",
      "2 0.29407962500000007\n",
      "low 0\n",
      "high 0\n",
      "spec 1\n",
      "gen 0\n",
      "1 0.9197479531250001\n",
      "2 0.29077539062499996\n",
      "low 0\n",
      "high 0\n",
      "spec 1\n",
      "gen 0\n"
     ]
    },
    {
     "name": "stderr",
     "output_type": "stream",
     "text": [
      " 27%|██▋       | 271/1000 [00:39<02:03,  5.92it/s]"
     ]
    },
    {
     "name": "stdout",
     "output_type": "stream",
     "text": [
      "1 0.9411919999999999\n",
      "2 0.30754687500000005\n",
      "low 0\n",
      "high 1\n",
      "spec 0\n",
      "gen 0\n"
     ]
    },
    {
     "name": "stderr",
     "output_type": "stream",
     "text": [
      "\r",
      " 27%|██▋       | 272/1000 [00:40<02:09,  5.63it/s]"
     ]
    },
    {
     "name": "stdout",
     "output_type": "stream",
     "text": [
      "1 0.912673\n",
      "2 0.29407962500000007\n",
      "low 0\n",
      "high 0\n",
      "spec 1\n",
      "gen 0\n",
      "1 0.405224\n",
      "2 0.10382299999999998\n",
      "low 1\n",
      "high 0\n",
      "spec 0\n",
      "gen 0\n"
     ]
    },
    {
     "name": "stderr",
     "output_type": "stream",
     "text": [
      " 28%|██▊       | 275/1000 [00:40<01:51,  6.47it/s]"
     ]
    },
    {
     "name": "stdout",
     "output_type": "stream",
     "text": [
      "1 0.9197479531250001\n",
      "2 0.29077539062499996\n",
      "low 0\n",
      "high 0\n",
      "spec 1\n",
      "gen 0\n",
      "1 0.912673\n",
      "2 0.29407962500000007\n",
      "low 0\n",
      "high 0\n",
      "spec 1\n",
      "gen 0\n"
     ]
    },
    {
     "name": "stderr",
     "output_type": "stream",
     "text": [
      "\r",
      " 28%|██▊       | 276/1000 [00:40<01:52,  6.46it/s]"
     ]
    },
    {
     "name": "stdout",
     "output_type": "stream",
     "text": [
      "1 0.9411919999999999\n",
      "2 0.281011375\n",
      "low 0\n",
      "high 0\n",
      "spec 1\n",
      "gen 0\n",
      "1 0.9197479531250001\n",
      "2 0.29077539062499996\n",
      "low 0\n",
      "high 0\n",
      "spec 1\n",
      "gen 0\n"
     ]
    },
    {
     "name": "stderr",
     "output_type": "stream",
     "text": [
      " 28%|██▊       | 278/1000 [00:40<01:57,  6.16it/s]"
     ]
    },
    {
     "name": "stdout",
     "output_type": "stream",
     "text": [
      "1 0.9268593749999999\n",
      "2 0.274625\n",
      "low 0\n",
      "high 0\n",
      "spec 1\n",
      "gen 0\n",
      "1 0.9197479531250001\n",
      "2 0.29077539062499996\n",
      "low 0\n",
      "high 0\n",
      "spec 1\n",
      "gen 0\n"
     ]
    },
    {
     "name": "stderr",
     "output_type": "stream",
     "text": [
      " 28%|██▊       | 280/1000 [00:41<01:51,  6.48it/s]"
     ]
    },
    {
     "name": "stdout",
     "output_type": "stream",
     "text": [
      "1 0.9411919999999999\n",
      "2 0.281011375\n",
      "low 0\n",
      "high 0\n",
      "spec 1\n",
      "gen 0\n",
      "1 0.9484133906250001\n",
      "2 0.28424135937499995\n",
      "low 0\n",
      "high 0\n",
      "spec 1\n",
      "gen 0\n"
     ]
    },
    {
     "name": "stderr",
     "output_type": "stream",
     "text": [
      " 28%|██▊       | 282/1000 [00:41<01:52,  6.36it/s]"
     ]
    },
    {
     "name": "stdout",
     "output_type": "stream",
     "text": [
      "1 0.9411919999999999\n",
      "2 0.281011375\n",
      "low 0\n",
      "high 0\n",
      "spec 1\n",
      "gen 0\n",
      "1 0.912673\n",
      "2 0.29407962500000007\n",
      "low 0\n",
      "high 0\n",
      "spec 1\n",
      "gen 0\n"
     ]
    },
    {
     "name": "stderr",
     "output_type": "stream",
     "text": [
      " 28%|██▊       | 284/1000 [00:41<01:56,  6.16it/s]"
     ]
    },
    {
     "name": "stdout",
     "output_type": "stream",
     "text": [
      "1 0.9411919999999999\n",
      "2 0.281011375\n",
      "low 0\n",
      "high 0\n",
      "spec 1\n",
      "gen 0\n",
      "1 0.9268593749999999\n",
      "2 0.29407962500000007\n",
      "low 0\n",
      "high 0\n",
      "spec 1\n",
      "gen 0\n"
     ]
    },
    {
     "name": "stderr",
     "output_type": "stream",
     "text": [
      " 29%|██▊       | 286/1000 [00:42<01:50,  6.44it/s]"
     ]
    },
    {
     "name": "stdout",
     "output_type": "stream",
     "text": [
      "1 0.9340073593750001\n",
      "2 0.27780595312499995\n",
      "low 0\n",
      "high 0\n",
      "spec 1\n",
      "gen 0\n",
      "1 0.9197479531250001\n",
      "2 0.29077539062499996\n",
      "low 0\n",
      "high 0\n",
      "spec 1\n",
      "gen 0\n"
     ]
    },
    {
     "name": "stderr",
     "output_type": "stream",
     "text": [
      " 29%|██▉       | 288/1000 [00:42<01:44,  6.80it/s]"
     ]
    },
    {
     "name": "stdout",
     "output_type": "stream",
     "text": [
      "1 0.7229418593749999\n",
      "2 0.4261078281249999\n",
      "low 0\n",
      "high 1\n",
      "spec 0\n",
      "gen 0\n",
      "1 0.9340073593750001\n",
      "2 0.29077539062499996\n",
      "low 0\n",
      "high 0\n",
      "spec 1\n",
      "gen 0\n"
     ]
    },
    {
     "name": "stderr",
     "output_type": "stream",
     "text": [
      " 29%|██▉       | 290/1000 [00:42<01:43,  6.85it/s]"
     ]
    },
    {
     "name": "stdout",
     "output_type": "stream",
     "text": [
      "1 0.864161578125\n",
      "2 0.35414354687500005\n",
      "low 0\n",
      "high 1\n",
      "spec 0\n",
      "gen 0\n",
      "1 0.7914531250000001\n",
      "2 0.21599999999999997\n",
      "low 0\n",
      "high 0\n",
      "spec 1\n",
      "gen 0\n"
     ]
    },
    {
     "name": "stderr",
     "output_type": "stream",
     "text": [
      " 29%|██▉       | 292/1000 [00:43<01:39,  7.11it/s]"
     ]
    },
    {
     "name": "stdout",
     "output_type": "stream",
     "text": [
      "1 0.864161578125\n",
      "2 0.35414354687500005\n",
      "low 0\n",
      "high 1\n",
      "spec 0\n",
      "gen 0\n",
      "1 0.9197479531250001\n",
      "2 0.29077539062499996\n",
      "low 0\n",
      "high 0\n",
      "spec 1\n",
      "gen 0\n"
     ]
    },
    {
     "name": "stderr",
     "output_type": "stream",
     "text": [
      " 30%|██▉       | 295/1000 [00:43<01:32,  7.66it/s]"
     ]
    },
    {
     "name": "stdout",
     "output_type": "stream",
     "text": [
      "1 0.8847359999999999\n",
      "2 0.25604787500000004\n",
      "low 0\n",
      "high 0\n",
      "spec 1\n",
      "gen 0\n",
      "1 0.912673\n",
      "2 0.29407962500000007\n",
      "low 0\n",
      "high 0\n",
      "spec 1\n",
      "gen 0\n"
     ]
    },
    {
     "name": "stderr",
     "output_type": "stream",
     "text": [
      "\r",
      " 30%|██▉       | 296/1000 [00:43<01:31,  7.74it/s]"
     ]
    },
    {
     "name": "stdout",
     "output_type": "stream",
     "text": [
      "1 0.9197479531250001\n",
      "2 0.29077539062499996\n",
      "low 0\n",
      "high 0\n",
      "spec 1\n",
      "gen 0\n",
      "1 0.20277929687500001\n",
      "2 0.759798828125\n",
      "low 0\n",
      "high 0\n",
      "spec 1\n",
      "gen 0\n"
     ]
    },
    {
     "name": "stderr",
     "output_type": "stream",
     "text": [
      " 30%|██▉       | 298/1000 [00:43<01:35,  7.36it/s]"
     ]
    },
    {
     "name": "stdout",
     "output_type": "stream",
     "text": [
      "1 0.9268593749999999\n",
      "2 0.2874959999999999\n",
      "low 0\n",
      "high 0\n",
      "spec 1\n",
      "gen 0\n",
      "1 0.9197479531250001\n",
      "2 0.29077539062499996\n",
      "low 0\n",
      "high 0\n",
      "spec 1\n",
      "gen 0\n"
     ]
    },
    {
     "name": "stderr",
     "output_type": "stream",
     "text": [
      " 30%|███       | 301/1000 [00:44<01:34,  7.36it/s]"
     ]
    },
    {
     "name": "stdout",
     "output_type": "stream",
     "text": [
      "1 0.9340073593750001\n",
      "2 0.27780595312499995\n",
      "low 0\n",
      "high 0\n",
      "spec 1\n",
      "gen 0\n",
      "1 0.912673\n",
      "2 0.29407962500000007\n",
      "low 0\n",
      "high 0\n",
      "spec 1\n",
      "gen 0\n"
     ]
    },
    {
     "name": "stderr",
     "output_type": "stream",
     "text": [
      " 30%|███       | 303/1000 [00:44<01:31,  7.66it/s]"
     ]
    },
    {
     "name": "stdout",
     "output_type": "stream",
     "text": [
      "1 0.9925187343750002\n",
      "2 0.310976734375\n",
      "low 0\n",
      "high 1\n",
      "spec 0\n",
      "gen 0\n",
      "1 0.7914531250000001\n",
      "2 0.21599999999999997\n",
      "low 0\n",
      "high 0\n",
      "spec 1\n",
      "gen 0\n"
     ]
    },
    {
     "name": "stderr",
     "output_type": "stream",
     "text": [
      "\r",
      " 30%|███       | 304/1000 [00:44<01:33,  7.41it/s]"
     ]
    },
    {
     "name": "stdout",
     "output_type": "stream",
     "text": [
      "1 0.9197479531250001\n",
      "2 0.29077539062499996\n",
      "low 0\n",
      "high 0\n",
      "spec 1\n",
      "gen 0\n",
      "1 0.785053265625\n",
      "2 0.22420167187499992\n",
      "low 0\n",
      "high 0\n",
      "spec 1\n",
      "gen 0\n"
     ]
    },
    {
     "name": "stderr",
     "output_type": "stream",
     "text": [
      " 31%|███       | 306/1000 [00:44<01:38,  7.04it/s]"
     ]
    },
    {
     "name": "stdout",
     "output_type": "stream",
     "text": [
      "1 0.9197479531250001\n",
      "2 0.29077539062499996\n",
      "low 0\n",
      "high 0\n",
      "spec 1\n",
      "gen 0\n",
      "1 0.912673\n",
      "2 0.26833612500000004\n",
      "low 0\n",
      "high 0\n",
      "spec 1\n",
      "gen 0\n"
     ]
    },
    {
     "name": "stderr",
     "output_type": "stream",
     "text": [
      " 31%|███       | 308/1000 [00:45<01:41,  6.81it/s]"
     ]
    },
    {
     "name": "stdout",
     "output_type": "stream",
     "text": [
      "1 0.8573749999999999\n",
      "2 0.30754687500000005\n",
      "low 0\n",
      "high 1\n",
      "spec 0\n",
      "gen 0\n",
      "1 0.8847359999999999\n",
      "2 0.274625\n",
      "low 0\n",
      "high 0\n",
      "spec 1\n",
      "gen 0\n"
     ]
    },
    {
     "name": "stderr",
     "output_type": "stream",
     "text": [
      " 31%|███       | 310/1000 [00:45<01:44,  6.63it/s]"
     ]
    },
    {
     "name": "stdout",
     "output_type": "stream",
     "text": [
      "1 0.9411919999999999\n",
      "2 0.281011375\n",
      "low 0\n",
      "high 0\n",
      "spec 1\n",
      "gen 0\n",
      "1 0.8174003750000002\n",
      "2 0.32850899999999994\n",
      "low 0\n",
      "high 1\n",
      "spec 0\n",
      "gen 0\n"
     ]
    },
    {
     "name": "stderr",
     "output_type": "stream",
     "text": [
      " 31%|███       | 312/1000 [00:45<01:47,  6.37it/s]"
     ]
    },
    {
     "name": "stdout",
     "output_type": "stream",
     "text": [
      "1 0.9411919999999999\n",
      "2 0.281011375\n",
      "low 0\n",
      "high 0\n",
      "spec 1\n",
      "gen 0\n",
      "1 0.9411919999999999\n",
      "2 0.281011375\n",
      "low 0\n",
      "high 0\n",
      "spec 1\n",
      "gen 0\n"
     ]
    },
    {
     "name": "stderr",
     "output_type": "stream",
     "text": [
      " 31%|███▏      | 314/1000 [00:46<01:42,  6.70it/s]"
     ]
    },
    {
     "name": "stdout",
     "output_type": "stream",
     "text": [
      "1 0.9411919999999999\n",
      "2 0.281011375\n",
      "low 0\n",
      "high 0\n",
      "spec 1\n",
      "gen 0\n",
      "1 0.9484133906250001\n",
      "2 0.332092703125\n",
      "low 0\n",
      "high 1\n",
      "spec 0\n",
      "gen 0\n"
     ]
    },
    {
     "name": "stderr",
     "output_type": "stream",
     "text": [
      " 32%|███▏      | 316/1000 [00:46<01:43,  6.61it/s]"
     ]
    },
    {
     "name": "stdout",
     "output_type": "stream",
     "text": [
      "1 0.9340073593750001\n",
      "2 0.27780595312499995\n",
      "low 0\n",
      "high 0\n",
      "spec 1\n",
      "gen 0\n",
      "1 0.9197479531250001\n",
      "2 0.29077539062499996\n",
      "low 0\n",
      "high 0\n",
      "spec 1\n",
      "gen 0\n"
     ]
    },
    {
     "name": "stderr",
     "output_type": "stream",
     "text": [
      " 32%|███▏      | 318/1000 [00:46<01:52,  6.08it/s]"
     ]
    },
    {
     "name": "stdout",
     "output_type": "stream",
     "text": [
      "1 0.9197479531250001\n",
      "2 0.29077539062499996\n",
      "low 0\n",
      "high 0\n",
      "spec 1\n",
      "gen 0\n"
     ]
    },
    {
     "name": "stderr",
     "output_type": "stream",
     "text": [
      "\r",
      " 32%|███▏      | 319/1000 [00:47<01:57,  5.77it/s]"
     ]
    },
    {
     "name": "stdout",
     "output_type": "stream",
     "text": [
      "1 0.9197479531250001\n",
      "2 0.29077539062499996\n",
      "low 0\n",
      "high 0\n",
      "spec 1\n",
      "gen 0\n",
      "1 0.912673\n",
      "2 0.26833612500000004\n",
      "low 0\n",
      "high 0\n",
      "spec 1\n",
      "gen 0\n"
     ]
    },
    {
     "name": "stderr",
     "output_type": "stream",
     "text": [
      " 32%|███▏      | 321/1000 [00:47<01:49,  6.20it/s]"
     ]
    },
    {
     "name": "stdout",
     "output_type": "stream",
     "text": [
      "1 0.9197479531250001\n",
      "2 0.29077539062499996\n",
      "low 0\n",
      "high 0\n",
      "spec 1\n",
      "gen 0\n",
      "1 0.9056344218750001\n",
      "2 0.2652280156249999\n",
      "low 0\n",
      "high 0\n",
      "spec 1\n",
      "gen 0\n"
     ]
    },
    {
     "name": "stderr",
     "output_type": "stream",
     "text": [
      " 32%|███▏      | 323/1000 [00:47<01:48,  6.23it/s]"
     ]
    },
    {
     "name": "stdout",
     "output_type": "stream",
     "text": [
      "1 0.877841984375\n",
      "2 0.271468421875\n",
      "low 0\n",
      "high 0\n",
      "spec 1\n",
      "gen 0\n",
      "1 0.9484133906250001\n",
      "2 0.332092703125\n",
      "low 0\n",
      "high 1\n",
      "spec 0\n",
      "gen 0\n"
     ]
    },
    {
     "name": "stderr",
     "output_type": "stream",
     "text": [
      " 32%|███▎      | 325/1000 [00:47<01:46,  6.34it/s]"
     ]
    },
    {
     "name": "stdout",
     "output_type": "stream",
     "text": [
      "1 0.9056344218750001\n",
      "2 0.2652280156249999\n",
      "low 0\n",
      "high 0\n",
      "spec 1\n",
      "gen 0\n",
      "1 0.7350918906249999\n",
      "2 0.27780595312499995\n",
      "low 0\n",
      "high 0\n",
      "spec 1\n",
      "gen 0\n"
     ]
    },
    {
     "name": "stderr",
     "output_type": "stream",
     "text": [
      " 33%|███▎      | 327/1000 [00:48<01:41,  6.62it/s]"
     ]
    },
    {
     "name": "stdout",
     "output_type": "stream",
     "text": [
      "1 0.9340073593750001\n",
      "2 0.27780595312499995\n",
      "low 0\n",
      "high 0\n",
      "spec 1\n",
      "gen 0\n",
      "1 0.9197479531250001\n",
      "2 0.29077539062499996\n",
      "low 0\n",
      "high 0\n",
      "spec 1\n",
      "gen 0\n"
     ]
    },
    {
     "name": "stderr",
     "output_type": "stream",
     "text": [
      " 33%|███▎      | 329/1000 [00:48<01:49,  6.12it/s]"
     ]
    },
    {
     "name": "stdout",
     "output_type": "stream",
     "text": [
      "1 0.9197479531250001\n",
      "2 0.317912765625\n",
      "low 0\n",
      "high 1\n",
      "spec 0\n",
      "gen 0\n",
      "1 0.985074875\n",
      "2 0.31443199999999993\n",
      "low 0\n",
      "high 1\n",
      "spec 0\n",
      "gen 0\n"
     ]
    },
    {
     "name": "stderr",
     "output_type": "stream",
     "text": [
      " 33%|███▎      | 331/1000 [00:48<01:50,  6.05it/s]"
     ]
    },
    {
     "name": "stdout",
     "output_type": "stream",
     "text": [
      "1 0.9197479531250001\n",
      "2 0.29077539062499996\n",
      "low 0\n",
      "high 0\n",
      "spec 1\n",
      "gen 0\n"
     ]
    },
    {
     "name": "stderr",
     "output_type": "stream",
     "text": [
      "\r",
      " 33%|███▎      | 332/1000 [00:49<01:58,  5.62it/s]"
     ]
    },
    {
     "name": "stdout",
     "output_type": "stream",
     "text": [
      "1 0.9484133906250001\n",
      "2 0.332092703125\n",
      "low 0\n",
      "high 1\n",
      "spec 0\n",
      "gen 0\n",
      "1 0.8986321249999999\n",
      "2 0.26214400000000004\n",
      "low 0\n",
      "high 0\n",
      "spec 1\n",
      "gen 0\n"
     ]
    },
    {
     "name": "stderr",
     "output_type": "stream",
     "text": [
      " 33%|███▎      | 334/1000 [00:49<01:47,  6.22it/s]"
     ]
    },
    {
     "name": "stdout",
     "output_type": "stream",
     "text": [
      "1 0.9411919999999999\n",
      "2 0.281011375\n",
      "low 0\n",
      "high 0\n",
      "spec 1\n",
      "gen 0\n",
      "1 0.8986321249999999\n",
      "2 0.26214400000000004\n",
      "low 0\n",
      "high 0\n",
      "spec 1\n",
      "gen 0\n"
     ]
    },
    {
     "name": "stderr",
     "output_type": "stream",
     "text": [
      " 34%|███▎      | 336/1000 [00:49<01:39,  6.67it/s]"
     ]
    },
    {
     "name": "stdout",
     "output_type": "stream",
     "text": [
      "1 0.9484133906250001\n",
      "2 0.332092703125\n",
      "low 0\n",
      "high 1\n",
      "spec 0\n",
      "gen 0\n",
      "1 0.985074875\n",
      "2 0.31443199999999993\n",
      "low 0\n",
      "high 1\n",
      "spec 0\n",
      "gen 0\n"
     ]
    },
    {
     "name": "stderr",
     "output_type": "stream",
     "text": [
      " 34%|███▍      | 338/1000 [00:50<01:42,  6.45it/s]"
     ]
    },
    {
     "name": "stdout",
     "output_type": "stream",
     "text": [
      "1 0.985074875\n",
      "2 0.31443199999999993\n",
      "low 0\n",
      "high 1\n",
      "spec 0\n",
      "gen 0\n",
      "1 0.8986321249999999\n",
      "2 0.26214400000000004\n",
      "low 0\n",
      "high 0\n",
      "spec 1\n",
      "gen 0\n"
     ]
    },
    {
     "name": "stderr",
     "output_type": "stream",
     "text": [
      " 34%|███▍      | 340/1000 [00:50<01:39,  6.64it/s]"
     ]
    },
    {
     "name": "stdout",
     "output_type": "stream",
     "text": [
      "1 0.9197479531250001\n",
      "2 0.29077539062499996\n",
      "low 0\n",
      "high 0\n",
      "spec 1\n",
      "gen 0\n",
      "1 0.9197479531250001\n",
      "2 0.29077539062499996\n",
      "low 0\n",
      "high 0\n",
      "spec 1\n",
      "gen 0\n"
     ]
    },
    {
     "name": "stderr",
     "output_type": "stream",
     "text": [
      " 34%|███▍      | 342/1000 [00:50<01:39,  6.58it/s]"
     ]
    },
    {
     "name": "stdout",
     "output_type": "stream",
     "text": [
      "1 0.9268593749999999\n",
      "2 0.274625\n",
      "low 0\n",
      "high 0\n",
      "spec 1\n",
      "gen 0\n",
      "1 0.985074875\n",
      "2 0.31443199999999993\n",
      "low 0\n",
      "high 1\n",
      "spec 0\n",
      "gen 0\n"
     ]
    },
    {
     "name": "stderr",
     "output_type": "stream",
     "text": [
      " 34%|███▍      | 344/1000 [00:50<01:45,  6.21it/s]"
     ]
    },
    {
     "name": "stdout",
     "output_type": "stream",
     "text": [
      "1 0.9484133906250001\n",
      "2 0.332092703125\n",
      "low 0\n",
      "high 1\n",
      "spec 0\n",
      "gen 0\n",
      "1 0.9484133906250001\n",
      "2 0.332092703125\n",
      "low 0\n",
      "high 1\n",
      "spec 0\n",
      "gen 0\n"
     ]
    },
    {
     "name": "stderr",
     "output_type": "stream",
     "text": [
      " 35%|███▍      | 346/1000 [00:51<01:40,  6.49it/s]"
     ]
    },
    {
     "name": "stdout",
     "output_type": "stream",
     "text": [
      "1 0.985074875\n",
      "2 0.31443199999999993\n",
      "low 0\n",
      "high 1\n",
      "spec 0\n",
      "gen 0\n",
      "1 0.823974609375\n",
      "2 0.24122264062500007\n",
      "low 0\n",
      "high 0\n",
      "spec 1\n",
      "gen 0\n"
     ]
    },
    {
     "name": "stderr",
     "output_type": "stream",
     "text": [
      " 35%|███▍      | 348/1000 [00:51<01:40,  6.50it/s]"
     ]
    },
    {
     "name": "stdout",
     "output_type": "stream",
     "text": [
      "1 0.8439086249999999\n",
      "2 0.32850899999999994\n",
      "low 0\n",
      "high 1\n",
      "spec 0\n",
      "gen 0\n",
      "1 0.823974609375\n",
      "2 0.24122264062500007\n",
      "low 0\n",
      "high 0\n",
      "spec 1\n",
      "gen 0\n"
     ]
    },
    {
     "name": "stderr",
     "output_type": "stream",
     "text": [
      " 35%|███▌      | 350/1000 [00:51<01:49,  5.95it/s]"
     ]
    },
    {
     "name": "stdout",
     "output_type": "stream",
     "text": [
      "1 0.9484133906250001\n",
      "2 0.332092703125\n",
      "low 0\n",
      "high 1\n",
      "spec 0\n",
      "gen 0\n"
     ]
    },
    {
     "name": "stderr",
     "output_type": "stream",
     "text": [
      "\r",
      " 35%|███▌      | 351/1000 [00:52<01:58,  5.46it/s]"
     ]
    },
    {
     "name": "stdout",
     "output_type": "stream",
     "text": [
      "1 0.9056344218750001\n",
      "2 0.2652280156249999\n",
      "low 0\n",
      "high 0\n",
      "spec 1\n",
      "gen 0\n",
      "1 0.985074875\n",
      "2 0.31443199999999993\n",
      "low 0\n",
      "high 1\n",
      "spec 0\n",
      "gen 0\n"
     ]
    },
    {
     "name": "stderr",
     "output_type": "stream",
     "text": [
      " 35%|███▌      | 353/1000 [00:52<02:13,  4.84it/s]"
     ]
    },
    {
     "name": "stdout",
     "output_type": "stream",
     "text": [
      "1 0.9197479531250001\n",
      "2 0.29077539062499996\n",
      "low 0\n",
      "high 0\n",
      "spec 1\n",
      "gen 0\n"
     ]
    },
    {
     "name": "stderr",
     "output_type": "stream",
     "text": [
      "\r",
      " 35%|███▌      | 354/1000 [00:52<02:13,  4.85it/s]"
     ]
    },
    {
     "name": "stdout",
     "output_type": "stream",
     "text": [
      "1 0.8439086249999999\n",
      "2 0.32850899999999994\n",
      "low 0\n",
      "high 1\n",
      "spec 0\n",
      "gen 0\n"
     ]
    },
    {
     "name": "stderr",
     "output_type": "stream",
     "text": [
      "\r",
      " 36%|███▌      | 355/1000 [00:52<02:08,  5.02it/s]"
     ]
    },
    {
     "name": "stdout",
     "output_type": "stream",
     "text": [
      "1 0.8986321249999999\n",
      "2 0.26214400000000004\n",
      "low 0\n",
      "high 0\n",
      "spec 1\n",
      "gen 0\n"
     ]
    },
    {
     "name": "stderr",
     "output_type": "stream",
     "text": [
      "\r",
      " 36%|███▌      | 356/1000 [00:53<02:16,  4.71it/s]"
     ]
    },
    {
     "name": "stdout",
     "output_type": "stream",
     "text": [
      "1 0.9197479531250001\n",
      "2 0.29077539062499996\n",
      "low 0\n",
      "high 0\n",
      "spec 1\n",
      "gen 0\n",
      "1 0.36937348437500006\n",
      "2 0.06046707812499998\n",
      "low 1\n",
      "high 0\n",
      "spec 0\n",
      "gen 0\n"
     ]
    },
    {
     "name": "stderr",
     "output_type": "stream",
     "text": [
      " 36%|███▌      | 358/1000 [00:53<02:15,  4.73it/s]"
     ]
    },
    {
     "name": "stdout",
     "output_type": "stream",
     "text": [
      "1 0.970299\n",
      "2 0.3214191250000001\n",
      "low 0\n",
      "high 1\n",
      "spec 0\n",
      "gen 0\n"
     ]
    },
    {
     "name": "stderr",
     "output_type": "stream",
     "text": [
      "\r",
      " 36%|███▌      | 359/1000 [00:53<02:06,  5.07it/s]"
     ]
    },
    {
     "name": "stdout",
     "output_type": "stream",
     "text": [
      "1 0.5821828749999999\n",
      "2 0.5927039999999999\n",
      "low 0\n",
      "high 0\n",
      "spec 0\n",
      "gen 1\n",
      "1 0.8847359999999999\n",
      "2 0.274625\n",
      "low 0\n",
      "high 0\n",
      "spec 1\n",
      "gen 0\n"
     ]
    },
    {
     "name": "stderr",
     "output_type": "stream",
     "text": [
      " 36%|███▌      | 361/1000 [00:54<02:07,  5.02it/s]"
     ]
    },
    {
     "name": "stdout",
     "output_type": "stream",
     "text": [
      "1 0.8847359999999999\n",
      "2 0.274625\n",
      "low 0\n",
      "high 0\n",
      "spec 1\n",
      "gen 0\n",
      "1 0.9925187343750002\n",
      "2 0.30414232812499997\n",
      "low 0\n",
      "high 1\n",
      "spec 0\n",
      "gen 0\n"
     ]
    },
    {
     "name": "stderr",
     "output_type": "stream",
     "text": [
      " 36%|███▋      | 363/1000 [00:54<02:10,  4.87it/s]"
     ]
    },
    {
     "name": "stdout",
     "output_type": "stream",
     "text": [
      "1 0.9197479531250001\n",
      "2 0.29077539062499996\n",
      "low 0\n",
      "high 0\n",
      "spec 1\n",
      "gen 0\n"
     ]
    },
    {
     "name": "stderr",
     "output_type": "stream",
     "text": [
      "\r",
      " 36%|███▋      | 364/1000 [00:54<02:06,  5.02it/s]"
     ]
    },
    {
     "name": "stdout",
     "output_type": "stream",
     "text": [
      "1 0.759798828125\n",
      "2 0.20277929687500001\n",
      "low 0\n",
      "high 0\n",
      "spec 1\n",
      "gen 0\n",
      "1 0.9197479531250001\n",
      "2 0.29077539062499996\n",
      "low 0\n",
      "high 0\n",
      "spec 1\n",
      "gen 0\n"
     ]
    },
    {
     "name": "stderr",
     "output_type": "stream",
     "text": [
      " 37%|███▋      | 366/1000 [00:55<01:57,  5.42it/s]"
     ]
    },
    {
     "name": "stdout",
     "output_type": "stream",
     "text": [
      "1 0.9197479531250001\n",
      "2 0.29077539062499996\n",
      "low 0\n",
      "high 0\n",
      "spec 1\n",
      "gen 0\n",
      "1 0.8174003750000002\n",
      "2 0.226981\n",
      "low 0\n",
      "high 0\n",
      "spec 1\n",
      "gen 0\n"
     ]
    },
    {
     "name": "stderr",
     "output_type": "stream",
     "text": [
      " 37%|███▋      | 368/1000 [00:55<01:53,  5.57it/s]"
     ]
    },
    {
     "name": "stdout",
     "output_type": "stream",
     "text": [
      "1 0.9197479531250001\n",
      "2 0.29077539062499996\n",
      "low 0\n",
      "high 0\n",
      "spec 1\n",
      "gen 0\n",
      "1 0.837228640625\n",
      "2 0.24122264062500007\n",
      "low 0\n",
      "high 0\n",
      "spec 1\n",
      "gen 0\n"
     ]
    },
    {
     "name": "stderr",
     "output_type": "stream",
     "text": [
      " 37%|███▋      | 370/1000 [00:55<01:55,  5.44it/s]"
     ]
    },
    {
     "name": "stdout",
     "output_type": "stream",
     "text": [
      "1 0.823974609375\n",
      "2 0.22978320312500006\n",
      "low 0\n",
      "high 0\n",
      "spec 1\n",
      "gen 0\n"
     ]
    },
    {
     "name": "stderr",
     "output_type": "stream",
     "text": [
      "\r",
      " 37%|███▋      | 371/1000 [00:56<01:56,  5.40it/s]"
     ]
    },
    {
     "name": "stdout",
     "output_type": "stream",
     "text": [
      "1 0.8174003750000002\n",
      "2 0.226981\n",
      "low 0\n",
      "high 0\n",
      "spec 1\n",
      "gen 0\n",
      "1 0.9411919999999999\n",
      "2 0.3007629999999999\n",
      "low 0\n",
      "high 1\n",
      "spec 0\n",
      "gen 0\n"
     ]
    },
    {
     "name": "stderr",
     "output_type": "stream",
     "text": [
      " 37%|███▋      | 373/1000 [00:56<01:46,  5.86it/s]"
     ]
    },
    {
     "name": "stdout",
     "output_type": "stream",
     "text": [
      "1 0.9197479531250001\n",
      "2 0.29077539062499996\n",
      "low 0\n",
      "high 0\n",
      "spec 1\n",
      "gen 0\n"
     ]
    },
    {
     "name": "stderr",
     "output_type": "stream",
     "text": [
      " 38%|███▊      | 375/1000 [00:56<01:57,  5.30it/s]"
     ]
    },
    {
     "name": "stdout",
     "output_type": "stream",
     "text": [
      "1 0.9411919999999999\n",
      "2 0.3007629999999999\n",
      "low 0\n",
      "high 1\n",
      "spec 0\n",
      "gen 0\n",
      "1 0.891666015625\n",
      "2 0.27780595312499995\n",
      "low 0\n",
      "high 0\n",
      "spec 1\n",
      "gen 0\n"
     ]
    },
    {
     "name": "stderr",
     "output_type": "stream",
     "text": [
      "\r",
      " 38%|███▊      | 376/1000 [00:56<01:56,  5.35it/s]"
     ]
    },
    {
     "name": "stdout",
     "output_type": "stream",
     "text": [
      "1 0.9340073593750001\n",
      "2 0.27780595312499995\n",
      "low 0\n",
      "high 0\n",
      "spec 1\n",
      "gen 0\n",
      "1 0.49303900000000006\n",
      "2 0.5024598750000001\n",
      "low 0\n",
      "high 0\n",
      "spec 0\n",
      "gen 1\n"
     ]
    },
    {
     "name": "stderr",
     "output_type": "stream",
     "text": [
      " 38%|███▊      | 378/1000 [00:57<01:47,  5.77it/s]"
     ]
    },
    {
     "name": "stdout",
     "output_type": "stream",
     "text": [
      "1 0.9197479531250001\n",
      "2 0.271468421875\n",
      "low 0\n",
      "high 0\n",
      "spec 1\n",
      "gen 0\n",
      "1 0.823974609375\n",
      "2 0.22978320312500006\n",
      "low 0\n",
      "high 0\n",
      "spec 1\n",
      "gen 0\n"
     ]
    },
    {
     "name": "stderr",
     "output_type": "stream",
     "text": [
      " 38%|███▊      | 380/1000 [00:57<01:44,  5.93it/s]"
     ]
    },
    {
     "name": "stdout",
     "output_type": "stream",
     "text": [
      "1 0.9197479531250001\n",
      "2 0.29077539062499996\n",
      "low 0\n",
      "high 0\n",
      "spec 1\n",
      "gen 0\n",
      "1 0.546340359375\n",
      "2 0.13070979687500006\n",
      "low 1\n",
      "high 0\n",
      "spec 0\n",
      "gen 0\n"
     ]
    },
    {
     "name": "stderr",
     "output_type": "stream",
     "text": [
      " 38%|███▊      | 382/1000 [00:57<01:54,  5.40it/s]"
     ]
    },
    {
     "name": "stdout",
     "output_type": "stream",
     "text": [
      "1 0\n",
      "2 0\n",
      "low 1\n",
      "high 0\n",
      "spec 0\n",
      "gen 0\n",
      "1 0.9197479531250001\n",
      "2 0.29077539062499996\n",
      "low 0\n",
      "high 0\n",
      "spec 1\n",
      "gen 0\n"
     ]
    },
    {
     "name": "stderr",
     "output_type": "stream",
     "text": [
      " 38%|███▊      | 384/1000 [00:58<01:45,  5.82it/s]"
     ]
    },
    {
     "name": "stdout",
     "output_type": "stream",
     "text": [
      "1 0.5024598749999999\n",
      "2 0.5024598750000001\n",
      "low 0\n",
      "high 0\n",
      "spec 0\n",
      "gen 1\n",
      "1 0.46548437500000006\n",
      "2 0.49303900000000006\n",
      "low 0\n",
      "high 0\n",
      "spec 0\n",
      "gen 1\n"
     ]
    },
    {
     "name": "stderr",
     "output_type": "stream",
     "text": [
      " 39%|███▊      | 386/1000 [00:58<01:39,  6.15it/s]"
     ]
    },
    {
     "name": "stdout",
     "output_type": "stream",
     "text": [
      "1 0.6416191406250001\n",
      "2 0.536376953125\n",
      "low 0\n",
      "high 0\n",
      "spec 0\n",
      "gen 1\n",
      "1 0.9197479531250001\n",
      "2 0.34668814062500003\n",
      "low 0\n",
      "high 1\n",
      "spec 0\n",
      "gen 0\n"
     ]
    },
    {
     "name": "stderr",
     "output_type": "stream",
     "text": [
      " 39%|███▉      | 388/1000 [00:58<01:41,  6.02it/s]"
     ]
    },
    {
     "name": "stdout",
     "output_type": "stream",
     "text": [
      "1 0.912673\n",
      "2 0.29407962500000007\n",
      "low 0\n",
      "high 0\n",
      "spec 1\n",
      "gen 0\n",
      "1 0.9197479531250001\n",
      "2 0.29077539062499996\n",
      "low 0\n",
      "high 0\n",
      "spec 1\n",
      "gen 0\n"
     ]
    },
    {
     "name": "stderr",
     "output_type": "stream",
     "text": [
      " 39%|███▉      | 390/1000 [00:59<01:38,  6.22it/s]"
     ]
    },
    {
     "name": "stdout",
     "output_type": "stream",
     "text": [
      "1 0.8174003750000002\n",
      "2 0.250047\n",
      "low 0\n",
      "high 0\n",
      "spec 1\n",
      "gen 0\n",
      "1 0.9056344218750001\n",
      "2 0.2652280156250001\n",
      "low 0\n",
      "high 0\n",
      "spec 1\n",
      "gen 0\n"
     ]
    },
    {
     "name": "stderr",
     "output_type": "stream",
     "text": [
      " 39%|███▉      | 392/1000 [00:59<01:52,  5.39it/s]"
     ]
    },
    {
     "name": "stdout",
     "output_type": "stream",
     "text": [
      "1 0.8847359999999999\n",
      "2 0.274625\n",
      "low 0\n",
      "high 0\n",
      "spec 1\n",
      "gen 0\n"
     ]
    },
    {
     "name": "stderr",
     "output_type": "stream",
     "text": [
      "\r",
      " 39%|███▉      | 393/1000 [01:00<02:37,  3.84it/s]"
     ]
    },
    {
     "name": "stdout",
     "output_type": "stream",
     "text": [
      "1 0.823974609375\n",
      "2 0.22978320312500006\n",
      "low 0\n",
      "high 0\n",
      "spec 1\n",
      "gen 0\n"
     ]
    },
    {
     "name": "stderr",
     "output_type": "stream",
     "text": [
      "\r",
      " 39%|███▉      | 394/1000 [01:00<02:26,  4.14it/s]"
     ]
    },
    {
     "name": "stdout",
     "output_type": "stream",
     "text": [
      "1 0.877841984375\n",
      "2 0.25303557812499994\n",
      "low 0\n",
      "high 0\n",
      "spec 1\n",
      "gen 0\n",
      "1 0.864161578125\n",
      "2 0.37714951562500004\n",
      "low 0\n",
      "high 1\n",
      "spec 0\n",
      "gen 0\n"
     ]
    },
    {
     "name": "stderr",
     "output_type": "stream",
     "text": [
      " 40%|███▉      | 396/1000 [01:00<01:59,  5.06it/s]"
     ]
    },
    {
     "name": "stdout",
     "output_type": "stream",
     "text": [
      "1 0.9556716249999999\n",
      "2 0.30076300000000006\n",
      "low 0\n",
      "high 1\n",
      "spec 0\n",
      "gen 0\n",
      "1 0.48837304687499994\n",
      "2 0.48837304687499994\n",
      "low 0\n",
      "high 0\n",
      "spec 0\n",
      "gen 1\n"
     ]
    },
    {
     "name": "stderr",
     "output_type": "stream",
     "text": [
      " 40%|███▉      | 398/1000 [01:01<02:22,  4.23it/s]"
     ]
    },
    {
     "name": "stdout",
     "output_type": "stream",
     "text": [
      "1 0.823974609375\n",
      "2 0.22978320312500006\n",
      "low 0\n",
      "high 0\n",
      "spec 1\n",
      "gen 0\n"
     ]
    },
    {
     "name": "stderr",
     "output_type": "stream",
     "text": [
      "\r",
      " 40%|███▉      | 399/1000 [01:01<02:32,  3.94it/s]"
     ]
    },
    {
     "name": "stdout",
     "output_type": "stream",
     "text": [
      "1 0.823974609375\n",
      "2 0.22978320312500006\n",
      "low 0\n",
      "high 0\n",
      "spec 1\n",
      "gen 0\n"
     ]
    },
    {
     "name": "stderr",
     "output_type": "stream",
     "text": [
      "\r",
      " 40%|████      | 400/1000 [01:01<02:27,  4.08it/s]"
     ]
    },
    {
     "name": "stdout",
     "output_type": "stream",
     "text": [
      "1 0.8986321249999999\n",
      "2 0.26833612500000004\n",
      "low 0\n",
      "high 0\n",
      "spec 1\n",
      "gen 0\n",
      "1 0.9197479531250001\n",
      "2 0.29077539062499996\n",
      "low 0\n",
      "high 0\n",
      "spec 1\n",
      "gen 0\n"
     ]
    },
    {
     "name": "stderr",
     "output_type": "stream",
     "text": [
      "\r",
      " 40%|████      | 401/1000 [01:02<03:48,  2.62it/s]"
     ]
    },
    {
     "name": "stdout",
     "output_type": "stream",
     "text": [
      "1 0.9340073593750001\n",
      "2 0.27780595312499995\n",
      "low 0\n",
      "high 0\n",
      "spec 1\n",
      "gen 0\n"
     ]
    },
    {
     "name": "stderr",
     "output_type": "stream",
     "text": [
      " 40%|████      | 403/1000 [01:03<05:01,  1.98it/s]"
     ]
    },
    {
     "name": "stdout",
     "output_type": "stream",
     "text": [
      "1 0.891666015625\n",
      "2 0.271468421875\n",
      "low 0\n",
      "high 0\n",
      "spec 1\n",
      "gen 0\n"
     ]
    },
    {
     "name": "stderr",
     "output_type": "stream",
     "text": [
      "\r",
      " 40%|████      | 404/1000 [01:04<04:24,  2.25it/s]"
     ]
    },
    {
     "name": "stdout",
     "output_type": "stream",
     "text": [
      "1 0.823974609375\n",
      "2 0.22978320312500006\n",
      "low 0\n",
      "high 0\n",
      "spec 1\n",
      "gen 0\n"
     ]
    },
    {
     "name": "stderr",
     "output_type": "stream",
     "text": [
      "\r",
      " 40%|████      | 405/1000 [01:04<03:47,  2.61it/s]"
     ]
    },
    {
     "name": "stdout",
     "output_type": "stream",
     "text": [
      "1 0.810861203125\n",
      "2 0.4093448906249999\n",
      "low 0\n",
      "high 1\n",
      "spec 0\n",
      "gen 0\n"
     ]
    },
    {
     "name": "stderr",
     "output_type": "stream",
     "text": [
      "\r",
      " 41%|████      | 406/1000 [01:04<03:36,  2.74it/s]"
     ]
    },
    {
     "name": "stdout",
     "output_type": "stream",
     "text": [
      "1 0.9556716249999999\n",
      "2 0.30076300000000006\n",
      "low 0\n",
      "high 1\n",
      "spec 0\n",
      "gen 0\n",
      "1 0.8847359999999999\n",
      "2 0.274625\n",
      "low 0\n",
      "high 0\n",
      "spec 1\n",
      "gen 0\n"
     ]
    },
    {
     "name": "stderr",
     "output_type": "stream",
     "text": [
      " 41%|████      | 408/1000 [01:05<03:34,  2.76it/s]"
     ]
    },
    {
     "name": "stdout",
     "output_type": "stream",
     "text": [
      "1 0.9340073593750001\n",
      "2 0.27780595312499995\n",
      "low 0\n",
      "high 0\n",
      "spec 1\n",
      "gen 0\n"
     ]
    },
    {
     "name": "stderr",
     "output_type": "stream",
     "text": [
      "\r",
      " 41%|████      | 409/1000 [01:05<03:00,  3.27it/s]"
     ]
    },
    {
     "name": "stdout",
     "output_type": "stream",
     "text": [
      "1 0.9268593749999999\n",
      "2 0.274625\n",
      "low 0\n",
      "high 0\n",
      "spec 1\n",
      "gen 0\n",
      "1 0.8986321249999999\n",
      "2 0.26833612500000004\n",
      "low 0\n",
      "high 0\n",
      "spec 1\n",
      "gen 0\n"
     ]
    },
    {
     "name": "stderr",
     "output_type": "stream",
     "text": [
      " 41%|████      | 411/1000 [01:06<03:25,  2.87it/s]"
     ]
    },
    {
     "name": "stdout",
     "output_type": "stream",
     "text": [
      "1 0.9484133906250001\n",
      "2 0.28424135937499995\n",
      "low 0\n",
      "high 0\n",
      "spec 1\n",
      "gen 0\n"
     ]
    },
    {
     "name": "stderr",
     "output_type": "stream",
     "text": [
      "\r",
      " 41%|████      | 412/1000 [01:06<02:59,  3.28it/s]"
     ]
    },
    {
     "name": "stdout",
     "output_type": "stream",
     "text": [
      "1 0.810861203125\n",
      "2 0.4093448906249999\n",
      "low 0\n",
      "high 1\n",
      "spec 0\n",
      "gen 0\n",
      "1 0.9484133906250001\n",
      "2 0.29077539062499996\n",
      "low 0\n",
      "high 0\n",
      "spec 1\n",
      "gen 0\n"
     ]
    },
    {
     "name": "stderr",
     "output_type": "stream",
     "text": [
      " 41%|████▏     | 414/1000 [01:07<02:58,  3.28it/s]"
     ]
    },
    {
     "name": "stdout",
     "output_type": "stream",
     "text": [
      "1 0.778688\n",
      "2 0.21064487499999998\n",
      "low 0\n",
      "high 0\n",
      "spec 1\n",
      "gen 0\n"
     ]
    },
    {
     "name": "stderr",
     "output_type": "stream",
     "text": [
      "\r",
      " 42%|████▏     | 415/1000 [01:07<02:52,  3.39it/s]"
     ]
    },
    {
     "name": "stdout",
     "output_type": "stream",
     "text": [
      "1 0.9056344218750001\n",
      "2 0.2652280156249999\n",
      "low 0\n",
      "high 0\n",
      "spec 1\n",
      "gen 0\n"
     ]
    },
    {
     "name": "stderr",
     "output_type": "stream",
     "text": [
      "\r",
      " 42%|████▏     | 416/1000 [01:07<02:45,  3.52it/s]"
     ]
    },
    {
     "name": "stdout",
     "output_type": "stream",
     "text": [
      "1 0.516815015625\n",
      "2 0.516815015625\n",
      "low 0\n",
      "high 0\n",
      "spec 0\n",
      "gen 1\n",
      "1 0.9056344218750001\n",
      "2 0.2652280156249999\n",
      "low 0\n",
      "high 0\n",
      "spec 1\n",
      "gen 0\n"
     ]
    },
    {
     "name": "stderr",
     "output_type": "stream",
     "text": [
      " 42%|████▏     | 418/1000 [01:08<02:33,  3.78it/s]"
     ]
    },
    {
     "name": "stdout",
     "output_type": "stream",
     "text": [
      "1 0.810861203125\n",
      "2 0.4093448906249999\n",
      "low 0\n",
      "high 1\n",
      "spec 0\n",
      "gen 0\n"
     ]
    },
    {
     "name": "stderr",
     "output_type": "stream",
     "text": [
      "\r",
      " 42%|████▏     | 419/1000 [01:08<02:51,  3.39it/s]"
     ]
    },
    {
     "name": "stdout",
     "output_type": "stream",
     "text": [
      "1 0.8847359999999999\n",
      "2 0.3214191250000001\n",
      "low 0\n",
      "high 1\n",
      "spec 0\n",
      "gen 0\n"
     ]
    },
    {
     "name": "stderr",
     "output_type": "stream",
     "text": [
      "\r",
      " 42%|████▏     | 420/1000 [01:08<02:40,  3.62it/s]"
     ]
    },
    {
     "name": "stdout",
     "output_type": "stream",
     "text": [
      "1 0.8043570000000001\n",
      "2 0.221445125\n",
      "low 0\n",
      "high 0\n",
      "spec 1\n",
      "gen 0\n",
      "1 0.8847359999999999\n",
      "2 0.25604787500000004\n",
      "low 0\n",
      "high 0\n",
      "spec 1\n",
      "gen 0\n"
     ]
    },
    {
     "name": "stderr",
     "output_type": "stream",
     "text": [
      " 42%|████▏     | 422/1000 [01:09<02:14,  4.30it/s]"
     ]
    },
    {
     "name": "stdout",
     "output_type": "stream",
     "text": [
      "1 0.9268593749999999\n",
      "2 0.274625\n",
      "low 0\n",
      "high 0\n",
      "spec 1\n",
      "gen 0\n"
     ]
    },
    {
     "name": "stderr",
     "output_type": "stream",
     "text": [
      "\r",
      " 42%|████▏     | 423/1000 [01:09<02:12,  4.36it/s]"
     ]
    },
    {
     "name": "stdout",
     "output_type": "stream",
     "text": [
      "1 0.8847359999999999\n",
      "2 0.29407962500000007\n",
      "low 0\n",
      "high 0\n",
      "spec 1\n",
      "gen 0\n",
      "1 0.9268593749999999\n",
      "2 0.274625\n",
      "low 0\n",
      "high 0\n",
      "spec 1\n",
      "gen 0\n"
     ]
    },
    {
     "name": "stderr",
     "output_type": "stream",
     "text": [
      " 42%|████▎     | 425/1000 [01:09<01:56,  4.93it/s]"
     ]
    },
    {
     "name": "stdout",
     "output_type": "stream",
     "text": [
      "1 0.8847359999999999\n",
      "2 0.25604787500000004\n",
      "low 0\n",
      "high 0\n",
      "spec 1\n",
      "gen 0\n",
      "1 0.810861203125\n",
      "2 0.34668814062500003\n",
      "low 0\n",
      "high 1\n",
      "spec 0\n",
      "gen 0\n"
     ]
    },
    {
     "name": "stderr",
     "output_type": "stream",
     "text": [
      " 43%|████▎     | 427/1000 [01:10<02:02,  4.67it/s]"
     ]
    },
    {
     "name": "stdout",
     "output_type": "stream",
     "text": [
      "1 0.8847359999999999\n",
      "2 0.274625\n",
      "low 0\n",
      "high 0\n",
      "spec 1\n",
      "gen 0\n",
      "1 0.759798828125\n",
      "2 0.20277929687500001\n",
      "low 0\n",
      "high 0\n",
      "spec 1\n",
      "gen 0\n"
     ]
    },
    {
     "name": "stderr",
     "output_type": "stream",
     "text": [
      " 43%|████▎     | 429/1000 [01:10<01:50,  5.15it/s]"
     ]
    },
    {
     "name": "stdout",
     "output_type": "stream",
     "text": [
      "1 0.912673\n",
      "2 0.30076300000000006\n",
      "low 0\n",
      "high 1\n",
      "spec 0\n",
      "gen 0\n",
      "1 0.8847359999999999\n",
      "2 0.25604787500000004\n",
      "low 0\n",
      "high 0\n",
      "spec 1\n",
      "gen 0\n"
     ]
    },
    {
     "name": "stderr",
     "output_type": "stream",
     "text": [
      " 43%|████▎     | 431/1000 [01:10<01:43,  5.50it/s]"
     ]
    },
    {
     "name": "stdout",
     "output_type": "stream",
     "text": [
      "1 0.9197479531250001\n",
      "2 0.29077539062499996\n",
      "low 0\n",
      "high 0\n",
      "spec 1\n",
      "gen 0\n"
     ]
    },
    {
     "name": "stderr",
     "output_type": "stream",
     "text": [
      "\r",
      " 43%|████▎     | 432/1000 [01:11<01:49,  5.19it/s]"
     ]
    },
    {
     "name": "stdout",
     "output_type": "stream",
     "text": [
      "1 0.8573749999999999\n",
      "2 0.244140625\n",
      "low 0\n",
      "high 0\n",
      "spec 1\n",
      "gen 0\n",
      "1 0.8709838749999999\n",
      "2 0.250047\n",
      "low 0\n",
      "high 0\n",
      "spec 1\n",
      "gen 0\n"
     ]
    },
    {
     "name": "stderr",
     "output_type": "stream",
     "text": [
      " 43%|████▎     | 434/1000 [01:11<01:43,  5.46it/s]"
     ]
    },
    {
     "name": "stdout",
     "output_type": "stream",
     "text": [
      "1 0.8847359999999999\n",
      "2 0.274625\n",
      "low 0\n",
      "high 0\n",
      "spec 1\n",
      "gen 0\n",
      "1 0.8986321249999999\n",
      "2 0.30754687500000005\n",
      "low 0\n",
      "high 1\n",
      "spec 0\n",
      "gen 0\n"
     ]
    },
    {
     "name": "stderr",
     "output_type": "stream",
     "text": [
      " 44%|████▎     | 436/1000 [01:11<01:42,  5.51it/s]"
     ]
    },
    {
     "name": "stdout",
     "output_type": "stream",
     "text": [
      "1 0.8986321249999999\n",
      "2 0.26214400000000004\n",
      "low 0\n",
      "high 0\n",
      "spec 1\n",
      "gen 0\n",
      "1 0.9484133906250001\n",
      "2 0.297408796875\n",
      "low 0\n",
      "high 0\n",
      "spec 1\n",
      "gen 0\n"
     ]
    },
    {
     "name": "stderr",
     "output_type": "stream",
     "text": [
      " 44%|████▍     | 438/1000 [01:12<02:16,  4.12it/s]"
     ]
    },
    {
     "name": "stdout",
     "output_type": "stream",
     "text": [
      "1 0.8986321249999999\n",
      "2 0.30754687500000005\n",
      "low 0\n",
      "high 1\n",
      "spec 0\n",
      "gen 0\n",
      "1 0.9056344218750001\n",
      "2 0.28424135937499995\n",
      "low 0\n",
      "high 0\n",
      "spec 1\n",
      "gen 0\n"
     ]
    },
    {
     "name": "stderr",
     "output_type": "stream",
     "text": [
      " 44%|████▍     | 440/1000 [01:12<01:56,  4.81it/s]"
     ]
    },
    {
     "name": "stdout",
     "output_type": "stream",
     "text": [
      "1 0.8847359999999999\n",
      "2 0.25604787500000004\n",
      "low 0\n",
      "high 0\n",
      "spec 1\n",
      "gen 0\n",
      "1 0.8847359999999999\n",
      "2 0.274625\n",
      "low 0\n",
      "high 0\n",
      "spec 1\n",
      "gen 0\n"
     ]
    },
    {
     "name": "stderr",
     "output_type": "stream",
     "text": [
      " 44%|████▍     | 442/1000 [01:13<01:48,  5.13it/s]"
     ]
    },
    {
     "name": "stdout",
     "output_type": "stream",
     "text": [
      "1 0.8305839999999999\n",
      "2 0.23832799999999998\n",
      "low 0\n",
      "high 0\n",
      "spec 1\n",
      "gen 0\n",
      "1 0.8986321249999999\n",
      "2 0.26214400000000004\n",
      "low 0\n",
      "high 0\n",
      "spec 1\n",
      "gen 0\n"
     ]
    },
    {
     "name": "stderr",
     "output_type": "stream",
     "text": [
      " 44%|████▍     | 444/1000 [01:13<01:41,  5.48it/s]"
     ]
    },
    {
     "name": "stdout",
     "output_type": "stream",
     "text": [
      "1 0.9484133906250001\n",
      "2 0.297408796875\n",
      "low 0\n",
      "high 0\n",
      "spec 1\n",
      "gen 0\n",
      "1 0.8439086249999999\n",
      "2 0.23832799999999998\n",
      "low 0\n",
      "high 0\n",
      "spec 1\n",
      "gen 0\n"
     ]
    },
    {
     "name": "stderr",
     "output_type": "stream",
     "text": [
      " 45%|████▍     | 446/1000 [01:13<01:36,  5.76it/s]"
     ]
    },
    {
     "name": "stdout",
     "output_type": "stream",
     "text": [
      "1 0.9340073593750001\n",
      "2 0.27780595312499995\n",
      "low 0\n",
      "high 0\n",
      "spec 1\n",
      "gen 0\n",
      "1 0.9484133906250001\n",
      "2 0.297408796875\n",
      "low 0\n",
      "high 0\n",
      "spec 1\n",
      "gen 0\n"
     ]
    },
    {
     "name": "stderr",
     "output_type": "stream",
     "text": [
      " 45%|████▍     | 448/1000 [01:14<01:35,  5.78it/s]"
     ]
    },
    {
     "name": "stdout",
     "output_type": "stream",
     "text": [
      "1 0.9197479531250001\n",
      "2 0.28424135937499995\n",
      "low 0\n",
      "high 0\n",
      "spec 1\n",
      "gen 0\n",
      "1 0.891666015625\n",
      "2 0.28424135937499995\n",
      "low 0\n",
      "high 0\n",
      "spec 1\n",
      "gen 0\n"
     ]
    },
    {
     "name": "stderr",
     "output_type": "stream",
     "text": [
      " 45%|████▌     | 450/1000 [01:14<01:34,  5.79it/s]"
     ]
    },
    {
     "name": "stdout",
     "output_type": "stream",
     "text": [
      "1 0.8986321249999999\n",
      "2 0.26214400000000004\n",
      "low 0\n",
      "high 0\n",
      "spec 1\n",
      "gen 0\n",
      "1 0.20277929687500001\n",
      "2 0.759798828125\n",
      "low 0\n",
      "high 0\n",
      "spec 1\n",
      "gen 0\n"
     ]
    },
    {
     "name": "stderr",
     "output_type": "stream",
     "text": [
      " 45%|████▌     | 452/1000 [01:14<01:32,  5.92it/s]"
     ]
    },
    {
     "name": "stdout",
     "output_type": "stream",
     "text": [
      "1 0.44769712500000003\n",
      "2 0.44769712500000003\n",
      "low 0\n",
      "high 0\n",
      "spec 0\n",
      "gen 1\n",
      "1 0.9484133906250001\n",
      "2 0.297408796875\n",
      "low 0\n",
      "high 0\n",
      "spec 1\n",
      "gen 0\n"
     ]
    },
    {
     "name": "stderr",
     "output_type": "stream",
     "text": [
      " 45%|████▌     | 454/1000 [01:15<01:33,  5.83it/s]"
     ]
    },
    {
     "name": "stdout",
     "output_type": "stream",
     "text": [
      "1 0.891666015625\n",
      "2 0.27780595312499995\n",
      "low 0\n",
      "high 0\n",
      "spec 1\n",
      "gen 0\n",
      "1 0.8439086249999999\n",
      "2 0.29407962500000007\n",
      "low 0\n",
      "high 0\n",
      "spec 1\n",
      "gen 0\n"
     ]
    },
    {
     "name": "stderr",
     "output_type": "stream",
     "text": [
      " 46%|████▌     | 456/1000 [01:15<01:30,  5.99it/s]"
     ]
    },
    {
     "name": "stdout",
     "output_type": "stream",
     "text": [
      "1 0.9197479531250001\n",
      "2 0.28424135937499995\n",
      "low 0\n",
      "high 0\n",
      "spec 1\n",
      "gen 0\n",
      "1 0.8573749999999999\n",
      "2 0.29407962500000007\n",
      "low 0\n",
      "high 0\n",
      "spec 1\n",
      "gen 0\n"
     ]
    },
    {
     "name": "stderr",
     "output_type": "stream",
     "text": [
      " 46%|████▌     | 458/1000 [01:15<01:29,  6.08it/s]"
     ]
    },
    {
     "name": "stdout",
     "output_type": "stream",
     "text": [
      "1 0.850624046875\n",
      "2 0.24122264062500007\n",
      "low 0\n",
      "high 0\n",
      "spec 1\n",
      "gen 0\n",
      "1 0.9484133906250001\n",
      "2 0.297408796875\n",
      "low 0\n",
      "high 0\n",
      "spec 1\n",
      "gen 0\n"
     ]
    },
    {
     "name": "stderr",
     "output_type": "stream",
     "text": [
      " 46%|████▌     | 460/1000 [01:16<01:35,  5.64it/s]"
     ]
    },
    {
     "name": "stdout",
     "output_type": "stream",
     "text": [
      "1 0.9197479531250001\n",
      "2 0.28424135937499995\n",
      "low 0\n",
      "high 0\n",
      "spec 1\n",
      "gen 0\n",
      "1 0.9197479531250001\n",
      "2 0.29077539062499996\n",
      "low 0\n",
      "high 0\n",
      "spec 1\n",
      "gen 0\n"
     ]
    },
    {
     "name": "stderr",
     "output_type": "stream",
     "text": [
      " 46%|████▌     | 462/1000 [01:16<01:31,  5.85it/s]"
     ]
    },
    {
     "name": "stdout",
     "output_type": "stream",
     "text": [
      "1 0.850624046875\n",
      "2 0.29077539062499996\n",
      "low 0\n",
      "high 0\n",
      "spec 1\n",
      "gen 0\n",
      "1 0.8847359999999999\n",
      "2 0.274625\n",
      "low 0\n",
      "high 0\n",
      "spec 1\n",
      "gen 0\n"
     ]
    },
    {
     "name": "stderr",
     "output_type": "stream",
     "text": [
      " 46%|████▋     | 464/1000 [01:16<01:48,  4.93it/s]"
     ]
    },
    {
     "name": "stdout",
     "output_type": "stream",
     "text": [
      "1 0.9556716249999999\n",
      "2 0.30754687500000005\n",
      "low 0\n",
      "high 1\n",
      "spec 0\n",
      "gen 0\n"
     ]
    },
    {
     "name": "stderr",
     "output_type": "stream",
     "text": [
      "\r",
      " 46%|████▋     | 465/1000 [01:17<01:53,  4.71it/s]"
     ]
    },
    {
     "name": "stdout",
     "output_type": "stream",
     "text": [
      "1 0.8986321249999999\n",
      "2 0.26214400000000004\n",
      "low 0\n",
      "high 0\n",
      "spec 1\n",
      "gen 0\n",
      "1 0.8305839999999999\n",
      "2 0.3007629999999999\n",
      "low 0\n",
      "high 1\n",
      "spec 0\n",
      "gen 0\n"
     ]
    },
    {
     "name": "stderr",
     "output_type": "stream",
     "text": [
      " 47%|████▋     | 467/1000 [01:17<01:39,  5.34it/s]"
     ]
    },
    {
     "name": "stdout",
     "output_type": "stream",
     "text": [
      "1 0.8847359999999999\n",
      "2 0.274625\n",
      "low 0\n",
      "high 0\n",
      "spec 1\n",
      "gen 0\n",
      "1 0.891666015625\n",
      "2 0.310976734375\n",
      "low 0\n",
      "high 1\n",
      "spec 0\n",
      "gen 0\n"
     ]
    },
    {
     "name": "stderr",
     "output_type": "stream",
     "text": [
      " 47%|████▋     | 469/1000 [01:17<01:38,  5.39it/s]"
     ]
    },
    {
     "name": "stdout",
     "output_type": "stream",
     "text": [
      "1 0.8847359999999999\n",
      "2 0.274625\n",
      "low 0\n",
      "high 0\n",
      "spec 1\n",
      "gen 0\n",
      "1 0.9197479531250001\n",
      "2 0.29077539062499996\n",
      "low 0\n",
      "high 0\n",
      "spec 1\n",
      "gen 0\n"
     ]
    },
    {
     "name": "stderr",
     "output_type": "stream",
     "text": [
      " 47%|████▋     | 471/1000 [01:18<01:36,  5.47it/s]"
     ]
    },
    {
     "name": "stdout",
     "output_type": "stream",
     "text": [
      "1 0.9197479531250001\n",
      "2 0.29077539062499996\n",
      "low 0\n",
      "high 0\n",
      "spec 1\n",
      "gen 0\n",
      "1 0.8709838749999999\n",
      "2 0.281011375\n",
      "low 0\n",
      "high 0\n",
      "spec 1\n",
      "gen 0\n"
     ]
    },
    {
     "name": "stderr",
     "output_type": "stream",
     "text": [
      " 47%|████▋     | 473/1000 [01:18<01:30,  5.80it/s]"
     ]
    },
    {
     "name": "stdout",
     "output_type": "stream",
     "text": [
      "1 0.9197479531250001\n",
      "2 0.29077539062499996\n",
      "low 0\n",
      "high 0\n",
      "spec 1\n",
      "gen 0\n",
      "1 0.8986321249999999\n",
      "2 0.26214400000000004\n",
      "low 0\n",
      "high 0\n",
      "spec 1\n",
      "gen 0\n"
     ]
    },
    {
     "name": "stderr",
     "output_type": "stream",
     "text": [
      " 48%|████▊     | 475/1000 [01:18<01:34,  5.54it/s]"
     ]
    },
    {
     "name": "stdout",
     "output_type": "stream",
     "text": [
      "1 0.877841984375\n",
      "2 0.36937348437500006\n",
      "low 0\n",
      "high 1\n",
      "spec 0\n",
      "gen 0\n",
      "1"
     ]
    },
    {
     "name": "stderr",
     "output_type": "stream",
     "text": [
      "\r",
      " 48%|████▊     | 476/1000 [01:19<01:34,  5.55it/s]"
     ]
    },
    {
     "name": "stdout",
     "output_type": "stream",
     "text": [
      " 0.891666015625\n",
      "2 0.271468421875\n",
      "low 0\n",
      "high 0\n",
      "spec 1\n",
      "gen 0\n",
      "1 0.8043570000000001\n",
      "2 0.36552587499999994\n",
      "low 0\n",
      "high 1\n",
      "spec 0\n",
      "gen 0\n"
     ]
    },
    {
     "name": "stderr",
     "output_type": "stream",
     "text": [
      " 48%|████▊     | 478/1000 [01:19<01:33,  5.61it/s]"
     ]
    },
    {
     "name": "stdout",
     "output_type": "stream",
     "text": [
      "1 0.9197479531250001\n",
      "2 0.29077539062499996\n",
      "low 0\n",
      "high 0\n",
      "spec 1\n",
      "gen 0\n",
      "1 0.9197479531250001\n",
      "2 0.29077539062499996\n",
      "low 0\n",
      "high 0\n",
      "spec 1\n",
      "gen 0\n"
     ]
    },
    {
     "name": "stderr",
     "output_type": "stream",
     "text": [
      " 48%|████▊     | 480/1000 [01:19<01:31,  5.66it/s]"
     ]
    },
    {
     "name": "stdout",
     "output_type": "stream",
     "text": [
      "1 0.9197479531250001\n",
      "2 0.29077539062499996\n",
      "low 0\n",
      "high 0\n",
      "spec 1\n",
      "gen 0\n",
      "1 0.8847359999999999\n",
      "2 0.36552587499999994\n",
      "low 0\n",
      "high 1\n",
      "spec 0\n",
      "gen 0\n"
     ]
    },
    {
     "name": "stderr",
     "output_type": "stream",
     "text": [
      " 48%|████▊     | 482/1000 [01:20<01:33,  5.54it/s]"
     ]
    },
    {
     "name": "stdout",
     "output_type": "stream",
     "text": [
      "1 0.9556716249999999\n",
      "2 0.32850899999999994\n",
      "low 0\n",
      "high 1\n",
      "spec 0\n",
      "gen 0\n",
      "1 0.8986321249999999\n",
      "2 0.26214400000000004\n",
      "low 0\n",
      "high 0\n",
      "spec 1\n",
      "gen 0\n"
     ]
    },
    {
     "name": "stderr",
     "output_type": "stream",
     "text": [
      " 48%|████▊     | 484/1000 [01:20<01:31,  5.63it/s]"
     ]
    },
    {
     "name": "stdout",
     "output_type": "stream",
     "text": [
      "1 0.8986321249999999\n",
      "2 0.26214400000000004\n",
      "low 0\n",
      "high 0\n",
      "spec 1\n",
      "gen 0\n",
      "1 0.15966114062499998\n",
      "2 0.6528425468749999\n",
      "low 1\n",
      "high 0\n",
      "spec 0\n",
      "gen 0\n"
     ]
    },
    {
     "name": "stderr",
     "output_type": "stream",
     "text": [
      " 49%|████▊     | 486/1000 [01:20<01:38,  5.21it/s]"
     ]
    },
    {
     "name": "stdout",
     "output_type": "stream",
     "text": [
      "1 0.9556716249999999\n",
      "2 0.29407962500000007\n",
      "low 0\n",
      "high 0\n",
      "spec 1\n",
      "gen 0\n"
     ]
    },
    {
     "name": "stderr",
     "output_type": "stream",
     "text": [
      "\r",
      " 49%|████▊     | 487/1000 [01:21<01:37,  5.28it/s]"
     ]
    },
    {
     "name": "stdout",
     "output_type": "stream",
     "text": [
      "1 0.877841984375\n",
      "2 0.36937348437500006\n",
      "low 0\n",
      "high 1\n",
      "spec 0\n",
      "gen 0\n",
      "1 0.9197479531250001\n",
      "2 0.29077539062499996\n",
      "low 0\n",
      "high 0\n",
      "spec 1\n",
      "gen 0\n"
     ]
    },
    {
     "name": "stderr",
     "output_type": "stream",
     "text": [
      " 49%|████▉     | 489/1000 [01:21<01:31,  5.58it/s]"
     ]
    },
    {
     "name": "stdout",
     "output_type": "stream",
     "text": [
      "1 0.9197479531250001\n",
      "2 0.29077539062499996\n",
      "low 0\n",
      "high 0\n",
      "spec 1\n",
      "gen 0\n",
      "1 0.9197479531250001\n",
      "2 0.29077539062499996\n",
      "low 0\n",
      "high 0\n",
      "spec 1\n",
      "gen 0\n"
     ]
    },
    {
     "name": "stderr",
     "output_type": "stream",
     "text": [
      " 49%|████▉     | 491/1000 [01:21<01:32,  5.48it/s]"
     ]
    },
    {
     "name": "stdout",
     "output_type": "stream",
     "text": [
      "1 0.9197479531250001\n",
      "2 0.29077539062499996\n",
      "low 0\n",
      "high 0\n",
      "spec 1\n",
      "gen 0\n"
     ]
    },
    {
     "name": "stderr",
     "output_type": "stream",
     "text": [
      "\r",
      " 49%|████▉     | 492/1000 [01:22<01:34,  5.39it/s]"
     ]
    },
    {
     "name": "stdout",
     "output_type": "stream",
     "text": [
      "1 0.9197479531250001\n",
      "2 0.29077539062499996\n",
      "low 0\n",
      "high 0\n",
      "spec 1\n",
      "gen 0\n",
      "1 0.8847359999999999\n",
      "2 0.274625\n",
      "low 0\n",
      "high 0\n",
      "spec 1\n",
      "gen 0\n"
     ]
    },
    {
     "name": "stderr",
     "output_type": "stream",
     "text": [
      " 49%|████▉     | 494/1000 [01:22<01:31,  5.56it/s]"
     ]
    },
    {
     "name": "stdout",
     "output_type": "stream",
     "text": [
      "1 0.9056344218750001\n",
      "2 0.28424135937499995\n",
      "low 0\n",
      "high 0\n",
      "spec 1\n",
      "gen 0\n",
      "1 0.778688\n",
      "2 0.21064487499999998\n",
      "low 0\n",
      "high 0\n",
      "spec 1\n",
      "gen 0\n"
     ]
    },
    {
     "name": "stderr",
     "output_type": "stream",
     "text": [
      " 50%|████▉     | 496/1000 [01:22<01:31,  5.54it/s]"
     ]
    },
    {
     "name": "stdout",
     "output_type": "stream",
     "text": [
      "1 0.9268593749999999\n",
      "2 0.32850899999999994\n",
      "low 0\n",
      "high 1\n",
      "spec 0\n",
      "gen 0\n",
      "1 0.9197479531250001\n",
      "2 0.29077539062499996\n",
      "low 0\n",
      "high 0\n",
      "spec 1\n",
      "gen 0\n"
     ]
    },
    {
     "name": "stderr",
     "output_type": "stream",
     "text": [
      " 50%|████▉     | 498/1000 [01:23<01:29,  5.61it/s]"
     ]
    },
    {
     "name": "stdout",
     "output_type": "stream",
     "text": [
      "1 0.9925187343750002\n",
      "2 0.30414232812499997\n",
      "low 0\n",
      "high 1\n",
      "spec 0\n",
      "gen 0\n",
      "1 0.9056344218750001\n",
      "2 0.28424135937499995\n",
      "low 0\n",
      "high 0\n",
      "spec 1\n",
      "gen 0\n"
     ]
    },
    {
     "name": "stderr",
     "output_type": "stream",
     "text": [
      " 50%|█████     | 500/1000 [01:23<01:26,  5.81it/s]"
     ]
    },
    {
     "name": "stdout",
     "output_type": "stream",
     "text": [
      "1 0.9056344218750001\n",
      "2 0.28424135937499995\n",
      "low 0\n",
      "high 0\n",
      "spec 1\n",
      "gen 0\n",
      "1 0.9056344218750001\n",
      "2 0.28424135937499995\n",
      "low 0\n",
      "high 0\n",
      "spec 1\n",
      "gen 0\n"
     ]
    },
    {
     "name": "stderr",
     "output_type": "stream",
     "text": [
      " 50%|█████     | 502/1000 [01:23<01:25,  5.79it/s]"
     ]
    },
    {
     "name": "stdout",
     "output_type": "stream",
     "text": [
      "1 0.9056344218750001\n",
      "2 0.28424135937499995\n",
      "low 0\n",
      "high 0\n",
      "spec 1\n",
      "gen 0\n",
      "1 0.9056344218750001\n",
      "2 0.28424135937499995\n",
      "low 0\n",
      "high 0\n",
      "spec 1\n",
      "gen 0\n"
     ]
    },
    {
     "name": "stderr",
     "output_type": "stream",
     "text": [
      " 50%|█████     | 504/1000 [01:24<01:26,  5.74it/s]"
     ]
    },
    {
     "name": "stdout",
     "output_type": "stream",
     "text": [
      "1 0.8573749999999999\n",
      "2 0.381078125\n",
      "low 0\n",
      "high 1\n",
      "spec 0\n",
      "gen 0\n",
      "1 0.9056344218750001\n",
      "2 0.28424135937499995\n",
      "low 0\n",
      "high 0\n",
      "spec 1\n",
      "gen 0\n"
     ]
    },
    {
     "name": "stderr",
     "output_type": "stream",
     "text": [
      " 51%|█████     | 506/1000 [01:24<01:25,  5.80it/s]"
     ]
    },
    {
     "name": "stdout",
     "output_type": "stream",
     "text": [
      "1 0.8709838749999999\n",
      "2 0.26833612500000004\n",
      "low 0\n",
      "high 0\n",
      "spec 1\n",
      "gen 0\n",
      "1 0.36937348437500006\n",
      "2 0.06766792187499998\n",
      "low 1\n",
      "high 0\n",
      "spec 0\n",
      "gen 0\n"
     ]
    },
    {
     "name": "stderr",
     "output_type": "stream",
     "text": [
      " 51%|█████     | 508/1000 [01:24<01:25,  5.75it/s]"
     ]
    },
    {
     "name": "stdout",
     "output_type": "stream",
     "text": [
      "1 0.9056344218750001\n",
      "2 0.28424135937499995\n",
      "low 0\n",
      "high 0\n",
      "spec 1\n",
      "gen 0\n",
      "1 0.9056344218750001\n",
      "2 0.28424135937499995\n",
      "low 0\n",
      "high 0\n",
      "spec 1\n",
      "gen 0\n"
     ]
    },
    {
     "name": "stderr",
     "output_type": "stream",
     "text": [
      " 51%|█████     | 510/1000 [01:25<01:28,  5.55it/s]"
     ]
    },
    {
     "name": "stdout",
     "output_type": "stream",
     "text": [
      "1 0.9268593749999999\n",
      "2 0.32850899999999994\n",
      "low 0\n",
      "high 1\n",
      "spec 0\n",
      "gen 0\n",
      "1 0.9056344218750001\n",
      "2 0.28424135937499995\n",
      "low 0\n",
      "high 0\n",
      "spec 1\n",
      "gen 0\n"
     ]
    },
    {
     "name": "stderr",
     "output_type": "stream",
     "text": [
      " 51%|█████     | 512/1000 [01:25<01:25,  5.69it/s]"
     ]
    },
    {
     "name": "stdout",
     "output_type": "stream",
     "text": [
      "1 0.9197479531250001\n",
      "2 0.27780595312499995\n",
      "low 0\n",
      "high 0\n",
      "spec 1\n",
      "gen 0\n",
      "1 0.9056344218750001\n",
      "2 0.28424135937499995\n",
      "low 0\n",
      "high 0\n",
      "spec 1\n",
      "gen 0\n"
     ]
    },
    {
     "name": "stderr",
     "output_type": "stream",
     "text": [
      " 51%|█████▏    | 514/1000 [01:25<01:29,  5.41it/s]"
     ]
    },
    {
     "name": "stdout",
     "output_type": "stream",
     "text": [
      "1 0.8709838749999999\n",
      "2 0.26833612500000004\n",
      "low 0\n",
      "high 0\n",
      "spec 1\n",
      "gen 0\n"
     ]
    },
    {
     "name": "stderr",
     "output_type": "stream",
     "text": [
      "\r",
      " 52%|█████▏    | 515/1000 [01:26<01:27,  5.57it/s]"
     ]
    },
    {
     "name": "stdout",
     "output_type": "stream",
     "text": [
      "1 0.9056344218750001\n",
      "2 0.28424135937499995\n",
      "low 0\n",
      "high 0\n",
      "spec 1\n",
      "gen 0\n",
      "1 0.9056344218750001\n",
      "2 0.28424135937499995\n",
      "low 0\n",
      "high 0\n",
      "spec 1\n",
      "gen 0\n"
     ]
    },
    {
     "name": "stderr",
     "output_type": "stream",
     "text": [
      " 52%|█████▏    | 517/1000 [01:26<01:29,  5.40it/s]"
     ]
    },
    {
     "name": "stdout",
     "output_type": "stream",
     "text": [
      "1 0.9056344218750001\n",
      "2 0.28424135937499995\n",
      "low 0\n",
      "high 0\n",
      "spec 1\n",
      "gen 0\n",
      "1 0.9197479531250001\n",
      "2 0.29077539062499996\n",
      "low 0\n",
      "high 0\n",
      "spec 1\n",
      "gen 0\n"
     ]
    },
    {
     "name": "stderr",
     "output_type": "stream",
     "text": [
      " 52%|█████▏    | 519/1000 [01:26<01:39,  4.85it/s]"
     ]
    },
    {
     "name": "stdout",
     "output_type": "stream",
     "text": [
      "1 0.9056344218750001\n",
      "2 0.28424135937499995\n",
      "low 0\n",
      "high 0\n",
      "spec 1\n",
      "gen 0\n",
      "1 0.9056344218750001\n",
      "2 0.28424135937499995\n",
      "low 0\n",
      "high 0\n",
      "spec 1\n",
      "gen 0\n"
     ]
    },
    {
     "name": "stderr",
     "output_type": "stream",
     "text": [
      " 52%|█████▏    | 521/1000 [01:27<02:05,  3.81it/s]"
     ]
    },
    {
     "name": "stdout",
     "output_type": "stream",
     "text": [
      "1 0.9056344218750001\n",
      "2 0.28424135937499995\n",
      "low 0\n",
      "high 0\n",
      "spec 1\n",
      "gen 0\n",
      "1 0.9056344218750001\n",
      "2 0.28424135937499995\n",
      "low 0\n",
      "high 0\n",
      "spec 1\n",
      "gen 0\n"
     ]
    },
    {
     "name": "stderr",
     "output_type": "stream",
     "text": [
      " 52%|█████▏    | 523/1000 [01:27<01:46,  4.47it/s]"
     ]
    },
    {
     "name": "stdout",
     "output_type": "stream",
     "text": [
      "1 0.9056344218750001\n",
      "2 0.28424135937499995\n",
      "low 0\n",
      "high 0\n",
      "spec 1\n",
      "gen 0\n",
      "1 0.912673\n",
      "2 0.281011375\n",
      "low 0\n",
      "high 0\n",
      "spec 1\n",
      "gen 0\n"
     ]
    },
    {
     "name": "stderr",
     "output_type": "stream",
     "text": [
      " 52%|█████▎    | 525/1000 [01:28<01:31,  5.19it/s]"
     ]
    },
    {
     "name": "stdout",
     "output_type": "stream",
     "text": [
      "1 0.8709838749999999\n",
      "2 0.26833612500000004\n",
      "low 0\n",
      "high 0\n",
      "spec 1\n",
      "gen 0\n",
      "1 0.9056344218750001\n",
      "2 0.28424135937499995\n",
      "low 0\n",
      "high 0\n",
      "spec 1\n",
      "gen 0\n"
     ]
    },
    {
     "name": "stderr",
     "output_type": "stream",
     "text": [
      " 53%|█████▎    | 527/1000 [01:28<01:27,  5.44it/s]"
     ]
    },
    {
     "name": "stdout",
     "output_type": "stream",
     "text": [
      "1 0.8709838749999999\n",
      "2 0.26833612500000004\n",
      "low 0\n",
      "high 0\n",
      "spec 1\n",
      "gen 0\n",
      "1 0.9197479531250001\n",
      "2 0.271468421875\n",
      "low 0\n",
      "high 0\n",
      "spec 1\n",
      "gen 0\n"
     ]
    },
    {
     "name": "stderr",
     "output_type": "stream",
     "text": [
      " 53%|█████▎    | 529/1000 [01:29<01:32,  5.09it/s]"
     ]
    },
    {
     "name": "stdout",
     "output_type": "stream",
     "text": [
      "1 0.9056344218750001\n",
      "2 0.28424135937499995\n",
      "low 0\n",
      "high 0\n",
      "spec 1\n",
      "gen 0\n"
     ]
    },
    {
     "name": "stderr",
     "output_type": "stream",
     "text": [
      "\r",
      " 53%|█████▎    | 530/1000 [01:29<01:40,  4.69it/s]"
     ]
    },
    {
     "name": "stdout",
     "output_type": "stream",
     "text": [
      "1 0.9056344218750001\n",
      "2 0.28424135937499995\n",
      "low 0\n",
      "high 0\n",
      "spec 1\n",
      "gen 0\n"
     ]
    },
    {
     "name": "stderr",
     "output_type": "stream",
     "text": [
      "\r",
      " 53%|█████▎    | 531/1000 [01:29<01:36,  4.88it/s]"
     ]
    },
    {
     "name": "stdout",
     "output_type": "stream",
     "text": [
      "1 0.9056344218750001\n",
      "2 0.28424135937499995\n",
      "low 0\n",
      "high 0\n",
      "spec 1\n",
      "gen 0\n",
      "1 0.891666015625\n",
      "2 0.27780595312499995\n",
      "low 0\n",
      "high 0\n",
      "spec 1\n",
      "gen 0\n"
     ]
    },
    {
     "name": "stderr",
     "output_type": "stream",
     "text": [
      " 53%|█████▎    | 533/1000 [01:29<01:28,  5.30it/s]"
     ]
    },
    {
     "name": "stdout",
     "output_type": "stream",
     "text": [
      "1 0.8174003750000002\n",
      "2 0.226981\n",
      "low 0\n",
      "high 0\n",
      "spec 1\n",
      "gen 0\n",
      "1 0.9056344218750001\n",
      "2 0.28424135937499995\n",
      "low 0\n",
      "high 0\n",
      "spec 1\n",
      "gen 0\n"
     ]
    },
    {
     "name": "stderr",
     "output_type": "stream",
     "text": [
      " 54%|█████▎    | 535/1000 [01:30<01:33,  5.00it/s]"
     ]
    },
    {
     "name": "stdout",
     "output_type": "stream",
     "text": [
      "1 0.9056344218750001\n",
      "2 0.28424135937499995\n",
      "low 0\n",
      "high 0\n",
      "spec 1\n",
      "gen 0\n",
      "1 0.850624046875\n",
      "2 0.271468421875\n",
      "low 0\n",
      "high 0\n",
      "spec 1\n",
      "gen 0\n"
     ]
    },
    {
     "name": "stderr",
     "output_type": "stream",
     "text": [
      " 54%|█████▎    | 537/1000 [01:30<01:25,  5.44it/s]"
     ]
    },
    {
     "name": "stdout",
     "output_type": "stream",
     "text": [
      "1 0.9056344218750001\n",
      "2 0.28424135937499995\n",
      "low 0\n",
      "high 0\n",
      "spec 1\n",
      "gen 0\n",
      "1 0.8709838749999999\n",
      "2 0.26833612500000004\n",
      "low 0\n",
      "high 0\n",
      "spec 1\n",
      "gen 0\n"
     ]
    },
    {
     "name": "stderr",
     "output_type": "stream",
     "text": [
      " 54%|█████▍    | 539/1000 [01:31<01:31,  5.04it/s]"
     ]
    },
    {
     "name": "stdout",
     "output_type": "stream",
     "text": [
      "1 0.8709838749999999\n",
      "2 0.26833612500000004\n",
      "low 0\n",
      "high 0\n",
      "spec 1\n",
      "gen 0\n"
     ]
    },
    {
     "name": "stderr",
     "output_type": "stream",
     "text": [
      "\r",
      " 54%|█████▍    | 540/1000 [01:31<01:27,  5.27it/s]"
     ]
    },
    {
     "name": "stdout",
     "output_type": "stream",
     "text": [
      "1 0.29077539062499996\n",
      "2 0.03844335937500001\n",
      "low 1\n",
      "high 0\n",
      "spec 0\n",
      "gen 0\n",
      "1 0.9056344218750001\n",
      "2 0.28424135937499995\n",
      "low 0\n",
      "high 0\n",
      "spec 1\n",
      "gen 0\n"
     ]
    },
    {
     "name": "stderr",
     "output_type": "stream",
     "text": [
      " 54%|█████▍    | 542/1000 [01:31<01:23,  5.49it/s]"
     ]
    },
    {
     "name": "stdout",
     "output_type": "stream",
     "text": [
      "1 0.8305840000000001\n",
      "2 0.244140625\n",
      "low 0\n",
      "high 0\n",
      "spec 1\n",
      "gen 0\n",
      "1 0.9056344218750001\n",
      "2 0.28424135937499995\n",
      "low 0\n",
      "high 0\n",
      "spec 1\n",
      "gen 0\n"
     ]
    },
    {
     "name": "stderr",
     "output_type": "stream",
     "text": [
      " 54%|█████▍    | 544/1000 [01:31<01:31,  4.98it/s]"
     ]
    },
    {
     "name": "stdout",
     "output_type": "stream",
     "text": [
      "1 0\n",
      "2 0\n",
      "low 1\n",
      "high 0\n",
      "spec 0\n",
      "gen 0\n"
     ]
    },
    {
     "name": "stderr",
     "output_type": "stream",
     "text": [
      "\r",
      " 55%|█████▍    | 545/1000 [01:32<01:28,  5.15it/s]"
     ]
    },
    {
     "name": "stdout",
     "output_type": "stream",
     "text": [
      "1 0.9056344218750001\n",
      "2 0.28424135937499995\n",
      "low 0\n",
      "high 0\n",
      "spec 1\n",
      "gen 0\n",
      "1 0.877841984375\n",
      "2 0.2778059531250001\n",
      "low 0\n",
      "high 0\n",
      "spec 1\n",
      "gen 0\n"
     ]
    },
    {
     "name": "stderr",
     "output_type": "stream",
     "text": [
      " 55%|█████▍    | 547/1000 [01:32<01:23,  5.41it/s]"
     ]
    },
    {
     "name": "stdout",
     "output_type": "stream",
     "text": [
      "1 0.877841984375\n",
      "2 0.2778059531250001\n",
      "low 0\n",
      "high 0\n",
      "spec 1\n",
      "gen 0\n",
      "1 0.877841984375\n",
      "2 0.2778059531250001\n",
      "low 0\n",
      "high 0\n",
      "spec 1\n",
      "gen 0\n"
     ]
    },
    {
     "name": "stderr",
     "output_type": "stream",
     "text": [
      " 55%|█████▍    | 549/1000 [01:32<01:24,  5.33it/s]"
     ]
    },
    {
     "name": "stdout",
     "output_type": "stream",
     "text": [
      "1 0.9056344218750001\n",
      "2 0.2652280156249999\n",
      "low 0\n",
      "high 0\n",
      "spec 1\n",
      "gen 0\n",
      "1 0.8709838749999999\n",
      "2 0.250047\n",
      "low 0\n",
      "high 0\n",
      "spec 1\n",
      "gen "
     ]
    },
    {
     "name": "stderr",
     "output_type": "stream",
     "text": [
      "\r",
      " 55%|█████▌    | 550/1000 [01:33<01:28,  5.11it/s]"
     ]
    },
    {
     "name": "stdout",
     "output_type": "stream",
     "text": [
      "0\n",
      "1 0.877841984375\n",
      "2 0.2778059531250001\n",
      "low 0\n",
      "high 0\n",
      "spec 1\n",
      "gen 0\n"
     ]
    },
    {
     "name": "stderr",
     "output_type": "stream",
     "text": [
      " 55%|█████▌    | 552/1000 [01:33<01:24,  5.29it/s]"
     ]
    },
    {
     "name": "stdout",
     "output_type": "stream",
     "text": [
      "1 0.877841984375\n",
      "2 0.2778059531250001\n",
      "low 0\n",
      "high 0\n",
      "spec 1\n",
      "gen 0\n",
      "1 0.9056344218750001\n",
      "2 0.28424135937499995\n",
      "low 0\n",
      "high 0\n",
      "spec 1\n",
      "gen 0\n"
     ]
    },
    {
     "name": "stderr",
     "output_type": "stream",
     "text": [
      " 55%|█████▌    | 554/1000 [01:33<01:24,  5.27it/s]"
     ]
    },
    {
     "name": "stdout",
     "output_type": "stream",
     "text": [
      "1 0.8709838749999999\n",
      "2 0.26214400000000004\n",
      "low 0\n",
      "high 0\n",
      "spec 1\n",
      "gen 0\n",
      "1 0.877841984375\n",
      "2 0.2778059531250001\n",
      "low 0\n",
      "high 0\n",
      "spec 1\n",
      "gen 0\n"
     ]
    },
    {
     "name": "stderr",
     "output_type": "stream",
     "text": [
      " 56%|█████▌    | 556/1000 [01:34<01:23,  5.32it/s]"
     ]
    },
    {
     "name": "stdout",
     "output_type": "stream",
     "text": [
      "1 0.9056344218750001\n",
      "2 0.28424135937499995\n",
      "low 0\n",
      "high 0\n",
      "spec 1\n",
      "gen 0\n"
     ]
    },
    {
     "name": "stderr",
     "output_type": "stream",
     "text": [
      "\r",
      " 56%|█████▌    | 557/1000 [01:34<01:25,  5.21it/s]"
     ]
    },
    {
     "name": "stdout",
     "output_type": "stream",
     "text": [
      "1 0.877841984375\n",
      "2 0.2778059531250001\n",
      "low 0\n",
      "high 0\n",
      "spec 1\n",
      "gen 0\n",
      "1 0.9056344218750001\n",
      "2 0.28424135937499995\n",
      "low 0\n",
      "high 0\n",
      "spec 1\n",
      "gen 0\n"
     ]
    },
    {
     "name": "stderr",
     "output_type": "stream",
     "text": [
      " 56%|█████▌    | 559/1000 [01:34<01:24,  5.21it/s]"
     ]
    },
    {
     "name": "stdout",
     "output_type": "stream",
     "text": [
      "1 0.9056344218750001\n",
      "2 0.28424135937499995\n",
      "low 0\n",
      "high 0\n",
      "spec 1\n",
      "gen 0\n"
     ]
    },
    {
     "name": "stderr",
     "output_type": "stream",
     "text": [
      "\r",
      " 56%|█████▌    | 560/1000 [01:35<01:57,  3.73it/s]"
     ]
    },
    {
     "name": "stdout",
     "output_type": "stream",
     "text": [
      "1 0.9056344218750001\n",
      "2 0.28424135937499995\n",
      "low 0\n",
      "high 0\n",
      "spec 1\n",
      "gen 0\n",
      "1 0.877841984375\n",
      "2 0.2778059531250001\n",
      "low 0\n",
      "high 0\n",
      "spec 1\n",
      "gen 0\n"
     ]
    },
    {
     "name": "stderr",
     "output_type": "stream",
     "text": [
      " 56%|█████▌    | 562/1000 [01:35<01:36,  4.52it/s]"
     ]
    },
    {
     "name": "stdout",
     "output_type": "stream",
     "text": [
      "1 0.912673\n",
      "2 0.2746249999999999\n",
      "low 0\n",
      "high 0\n",
      "spec 1\n",
      "gen 0\n",
      "1 0.9197479531250001\n",
      "2 0.29077539062499996\n",
      "low 0\n",
      "high 0\n",
      "spec 1\n",
      "gen 0\n"
     ]
    },
    {
     "name": "stderr",
     "output_type": "stream",
     "text": [
      " 56%|█████▋    | 564/1000 [01:36<01:37,  4.46it/s]"
     ]
    },
    {
     "name": "stdout",
     "output_type": "stream",
     "text": [
      "1 0.9197479531250001\n",
      "2 0.29077539062499996\n",
      "low 0\n",
      "high 0\n",
      "spec 1\n",
      "gen 0\n",
      "1 0.9197479531250001\n",
      "2 0.29077539062499996\n",
      "low 0\n",
      "high 0\n",
      "spec 1\n",
      "gen 0\n"
     ]
    },
    {
     "name": "stderr",
     "output_type": "stream",
     "text": [
      " 57%|█████▋    | 566/1000 [01:36<01:28,  4.92it/s]"
     ]
    },
    {
     "name": "stdout",
     "output_type": "stream",
     "text": [
      "1 0.8986321249999999\n",
      "2 0.281011375\n",
      "low 0\n",
      "high 0\n",
      "spec 1\n",
      "gen 0\n",
      "1 0.8573749999999999\n",
      "2 0.250047\n",
      "low 0\n",
      "high 0\n",
      "spec 1\n",
      "gen 0\n"
     ]
    },
    {
     "name": "stderr",
     "output_type": "stream",
     "text": [
      " 57%|█████▋    | 568/1000 [01:36<01:36,  4.49it/s]"
     ]
    },
    {
     "name": "stdout",
     "output_type": "stream",
     "text": [
      "1 0.912673\n",
      "2 0.2746249999999999\n",
      "low 0\n",
      "high 0\n",
      "spec 1\n",
      "gen 0\n"
     ]
    },
    {
     "name": "stderr",
     "output_type": "stream",
     "text": [
      "\r",
      " 57%|█████▋    | 569/1000 [01:37<01:44,  4.12it/s]"
     ]
    },
    {
     "name": "stdout",
     "output_type": "stream",
     "text": [
      "1 0.8439086249999999\n",
      "2 0.23832799999999998\n",
      "low 0\n",
      "high 0\n",
      "spec 1\n",
      "gen 0\n"
     ]
    },
    {
     "name": "stderr",
     "output_type": "stream",
     "text": [
      "\r",
      " 57%|█████▋    | 570/1000 [01:37<01:39,  4.33it/s]"
     ]
    },
    {
     "name": "stdout",
     "output_type": "stream",
     "text": [
      "1 0.9056344218750001\n",
      "2 0.28424135937499995\n",
      "low 0\n",
      "high 0\n",
      "spec 1\n",
      "gen 0\n",
      "1 0.9056344218750001\n",
      "2 0.28424135937499995\n",
      "low 0\n",
      "high 0\n",
      "spec 1\n",
      "gen 0\n"
     ]
    },
    {
     "name": "stderr",
     "output_type": "stream",
     "text": [
      " 57%|█████▋    | 572/1000 [01:37<01:29,  4.76it/s]"
     ]
    },
    {
     "name": "stdout",
     "output_type": "stream",
     "text": [
      "1 0.3850339218750001\n",
      "2 0.3850339218750001\n",
      "low 0\n",
      "high 0\n",
      "spec 0\n",
      "gen 1\n"
     ]
    },
    {
     "name": "stderr",
     "output_type": "stream",
     "text": [
      "\r",
      " 57%|█████▋    | 573/1000 [01:37<01:34,  4.50it/s]"
     ]
    },
    {
     "name": "stdout",
     "output_type": "stream",
     "text": [
      "1 0.864161578125\n",
      "2 0.2652280156249999\n",
      "low 0\n",
      "high 0\n",
      "spec 1\n",
      "gen 0\n"
     ]
    },
    {
     "name": "stderr",
     "output_type": "stream",
     "text": [
      "\r",
      " 57%|█████▋    | 574/1000 [01:38<01:32,  4.63it/s]"
     ]
    },
    {
     "name": "stdout",
     "output_type": "stream",
     "text": [
      "1 0.8986321249999999\n",
      "2 0.281011375\n",
      "low 0\n",
      "high 0\n",
      "spec 1\n",
      "gen 0\n"
     ]
    },
    {
     "name": "stderr",
     "output_type": "stream",
     "text": [
      "\r",
      " 57%|█████▊    | 575/1000 [01:38<01:42,  4.16it/s]"
     ]
    },
    {
     "name": "stdout",
     "output_type": "stream",
     "text": [
      "1 0.8439086249999999\n",
      "2 0.23832799999999998\n",
      "low 0\n",
      "high 0\n",
      "spec 1\n",
      "gen 0\n"
     ]
    },
    {
     "name": "stderr",
     "output_type": "stream",
     "text": [
      "\r",
      " 58%|█████▊    | 576/1000 [01:38<01:39,  4.27it/s]"
     ]
    },
    {
     "name": "stdout",
     "output_type": "stream",
     "text": [
      "1 0.9197479531250001\n",
      "2 0.29077539062499996\n",
      "low 0\n",
      "high 0\n",
      "spec 1\n",
      "gen 0\n"
     ]
    },
    {
     "name": "stderr",
     "output_type": "stream",
     "text": [
      "\r",
      " 58%|█████▊    | 577/1000 [01:39<01:47,  3.94it/s]"
     ]
    },
    {
     "name": "stdout",
     "output_type": "stream",
     "text": [
      "1 0.9197479531250001\n",
      "2 0.29077539062499996\n",
      "low 0\n",
      "high 0\n",
      "spec 1\n",
      "gen 0\n"
     ]
    },
    {
     "name": "stderr",
     "output_type": "stream",
     "text": [
      "\r",
      " 58%|█████▊    | 578/1000 [01:39<01:39,  4.24it/s]"
     ]
    },
    {
     "name": "stdout",
     "output_type": "stream",
     "text": [
      "1 0.8847359999999999\n",
      "2 0.274625\n",
      "low 0\n",
      "high 0\n",
      "spec 1\n",
      "gen 0\n",
      "1 0.536376953125\n",
      "2 0.546340359375\n",
      "low 0\n",
      "high 0\n",
      "spec 0\n",
      "gen 1\n"
     ]
    },
    {
     "name": "stderr",
     "output_type": "stream",
     "text": [
      " 58%|█████▊    | 580/1000 [01:39<01:31,  4.59it/s]"
     ]
    },
    {
     "name": "stdout",
     "output_type": "stream",
     "text": [
      "1 0.912673\n",
      "2 0.2746249999999999\n",
      "low 0\n",
      "high 0\n",
      "spec 1\n",
      "gen 0\n"
     ]
    },
    {
     "name": "stderr",
     "output_type": "stream",
     "text": [
      "\r",
      " 58%|█████▊    | 581/1000 [01:39<01:31,  4.59it/s]"
     ]
    },
    {
     "name": "stdout",
     "output_type": "stream",
     "text": [
      "1 0.9197479531250001\n",
      "2 0.29077539062499996\n",
      "low 0\n",
      "high 0\n",
      "spec 1\n",
      "gen 0\n"
     ]
    },
    {
     "name": "stderr",
     "output_type": "stream",
     "text": [
      "\r",
      " 58%|█████▊    | 582/1000 [01:40<01:30,  4.62it/s]"
     ]
    },
    {
     "name": "stdout",
     "output_type": "stream",
     "text": [
      "1 0.8709838749999999\n",
      "2 0.26833612500000004\n",
      "low 0\n",
      "high 0\n",
      "spec 1\n",
      "gen 0\n",
      "1 0.8847359999999999\n",
      "2 0.274625\n",
      "low 0\n",
      "high 0\n",
      "spec 1\n",
      "gen 0\n"
     ]
    },
    {
     "name": "stderr",
     "output_type": "stream",
     "text": [
      " 58%|█████▊    | 584/1000 [01:40<01:25,  4.88it/s]"
     ]
    },
    {
     "name": "stdout",
     "output_type": "stream",
     "text": [
      "1 0.4521006718749999\n",
      "2 0.4521006718749999\n",
      "low 0\n",
      "high 0\n",
      "spec 0\n",
      "gen 1\n",
      "1 0.8439086249999999\n",
      "2 0.23832799999999998\n",
      "low 0\n",
      "high 0\n",
      "spec 1\n",
      "gen 0\n"
     ]
    },
    {
     "name": "stderr",
     "output_type": "stream",
     "text": [
      "\r",
      " 58%|█████▊    | 585/1000 [01:40<01:26,  4.77it/s]"
     ]
    },
    {
     "name": "stdout",
     "output_type": "stream",
     "text": [
      "1 0.912673\n",
      "2 0.2746249999999999\n",
      "low 0\n",
      "high 0\n",
      "spec 1\n",
      "gen 0\n"
     ]
    },
    {
     "name": "stderr",
     "output_type": "stream",
     "text": [
      " 59%|█████▊    | 587/1000 [01:41<01:37,  4.22it/s]"
     ]
    },
    {
     "name": "stdout",
     "output_type": "stream",
     "text": [
      "1 0.9197479531250001\n",
      "2 0.29077539062499996\n",
      "low 0\n",
      "high 0\n",
      "spec 1\n",
      "gen 0\n",
      "1 0.8847359999999999\n",
      "2 0.274625\n",
      "low 0\n",
      "high 0\n",
      "spec 1\n",
      "gen 0\n"
     ]
    },
    {
     "name": "stderr",
     "output_type": "stream",
     "text": [
      " 59%|█████▉    | 589/1000 [01:41<01:26,  4.74it/s]"
     ]
    },
    {
     "name": "stdout",
     "output_type": "stream",
     "text": [
      "1 0.9197479531250001\n",
      "2 0.29077539062499996\n",
      "low 0\n",
      "high 0\n",
      "spec 1\n",
      "gen 0\n"
     ]
    },
    {
     "name": "stderr",
     "output_type": "stream",
     "text": [
      "\r",
      " 59%|█████▉    | 590/1000 [01:41<01:24,  4.83it/s]"
     ]
    },
    {
     "name": "stdout",
     "output_type": "stream",
     "text": [
      "1 0.9197479531250001\n",
      "2 0.29077539062499996\n",
      "low 0\n",
      "high 0\n",
      "spec 1\n",
      "gen 0\n"
     ]
    },
    {
     "name": "stderr",
     "output_type": "stream",
     "text": [
      "\r",
      " 59%|█████▉    | 591/1000 [01:42<01:37,  4.20it/s]"
     ]
    },
    {
     "name": "stdout",
     "output_type": "stream",
     "text": [
      "1 0.8847359999999999\n",
      "2 0.25604787500000004\n",
      "low 0\n",
      "high 0\n",
      "spec 1\n",
      "gen 0\n",
      "1 0.8709838749999999\n",
      "2 0.26833612500000004\n",
      "low 0\n",
      "high 0\n",
      "spec 1\n",
      "gen 0\n"
     ]
    },
    {
     "name": "stderr",
     "output_type": "stream",
     "text": [
      " 59%|█████▉    | 593/1000 [01:42<02:07,  3.20it/s]"
     ]
    },
    {
     "name": "stdout",
     "output_type": "stream",
     "text": [
      "1 0.9197479531250001\n",
      "2 0.29077539062499996\n",
      "low 0\n",
      "high 0\n",
      "spec 1\n",
      "gen 0\n"
     ]
    },
    {
     "name": "stderr",
     "output_type": "stream",
     "text": [
      "\r",
      " 59%|█████▉    | 594/1000 [01:43<02:07,  3.17it/s]"
     ]
    },
    {
     "name": "stdout",
     "output_type": "stream",
     "text": [
      "1 0.9197479531250001\n",
      "2 0.29077539062499996\n",
      "low 0\n",
      "high 0\n",
      "spec 1\n",
      "gen 0\n"
     ]
    },
    {
     "name": "stderr",
     "output_type": "stream",
     "text": [
      "\r",
      " 60%|█████▉    | 595/1000 [01:43<02:10,  3.11it/s]"
     ]
    },
    {
     "name": "stdout",
     "output_type": "stream",
     "text": [
      "1 0.8709838749999999\n",
      "2 0.26833612500000004\n",
      "low 0\n",
      "high 0\n",
      "spec 1\n",
      "gen 0\n",
      "1 0.9197479531250001\n",
      "2 0.29077539062499996\n",
      "low 0\n",
      "high 0\n",
      "spec 1\n",
      "gen 0\n"
     ]
    },
    {
     "name": "stderr",
     "output_type": "stream",
     "text": [
      " 60%|█████▉    | 597/1000 [01:43<01:37,  4.13it/s]"
     ]
    },
    {
     "name": "stdout",
     "output_type": "stream",
     "text": [
      "1 0.9197479531250001\n",
      "2 0.29077539062499996\n",
      "low 0\n",
      "high 0\n",
      "spec 1\n",
      "gen 0\n"
     ]
    },
    {
     "name": "stderr",
     "output_type": "stream",
     "text": [
      "\r",
      " 60%|█████▉    | 598/1000 [01:44<01:38,  4.09it/s]"
     ]
    },
    {
     "name": "stdout",
     "output_type": "stream",
     "text": [
      "1 0.9197479531250001\n",
      "2 0.29077539062499996\n",
      "low 0\n",
      "high 0\n",
      "spec 1\n",
      "gen 0\n"
     ]
    },
    {
     "name": "stderr",
     "output_type": "stream",
     "text": [
      "\r",
      " 60%|█████▉    | 599/1000 [01:44<01:34,  4.26it/s]"
     ]
    },
    {
     "name": "stdout",
     "output_type": "stream",
     "text": [
      "1 0.9197479531250001\n",
      "2 0.29077539062499996\n",
      "low 0\n",
      "high 0\n",
      "spec 1\n",
      "gen 0\n",
      "1 0\n",
      "2 0\n",
      "low 1\n",
      "high 0\n",
      "spec 0\n",
      "gen 0\n"
     ]
    },
    {
     "name": "stderr",
     "output_type": "stream",
     "text": [
      " 60%|██████    | 601/1000 [01:44<01:22,  4.86it/s]"
     ]
    },
    {
     "name": "stdout",
     "output_type": "stream",
     "text": [
      "1 0.9197479531250001\n",
      "2 0.29077539062499996\n",
      "low 0\n",
      "high 0\n",
      "spec 1\n",
      "gen 0\n",
      "1 0.8847359999999999\n",
      "2 0.274625\n",
      "low 0\n",
      "high 0\n",
      "spec 1\n",
      "gen 0\n"
     ]
    },
    {
     "name": "stderr",
     "output_type": "stream",
     "text": [
      " 60%|██████    | 603/1000 [01:45<01:19,  5.00it/s]"
     ]
    },
    {
     "name": "stdout",
     "output_type": "stream",
     "text": [
      "1 0.9197479531250001\n",
      "2 0.29077539062499996\n",
      "low 0\n",
      "high 0\n",
      "spec 1\n",
      "gen 0\n",
      "1 0.8305839999999999\n",
      "2 0.250047\n",
      "low 0\n",
      "high 0\n",
      "spec 1\n",
      "gen 0\n"
     ]
    },
    {
     "name": "stderr",
     "output_type": "stream",
     "text": [
      " 60%|██████    | 605/1000 [01:45<01:16,  5.15it/s]"
     ]
    },
    {
     "name": "stdout",
     "output_type": "stream",
     "text": [
      "1 0.9197479531250001\n",
      "2 0.29077539062499996\n",
      "low 0\n",
      "high 0\n",
      "spec 1\n",
      "gen 0\n",
      "1 0.8043569999999999\n",
      "2 0.23832799999999998\n",
      "low 0\n",
      "high 0\n",
      "spec 1\n",
      "gen 0\n"
     ]
    },
    {
     "name": "stderr",
     "output_type": "stream",
     "text": [
      " 61%|██████    | 607/1000 [01:45<01:13,  5.32it/s]"
     ]
    },
    {
     "name": "stdout",
     "output_type": "stream",
     "text": [
      "1 0.9197479531250001\n",
      "2 0.29077539062499996\n",
      "low 0\n",
      "high 0\n",
      "spec 1\n",
      "gen 0\n",
      "1 0.9197479531250001\n",
      "2 0.29077539062499996\n",
      "low 0\n",
      "high 0\n",
      "spec 1\n",
      "gen 0\n"
     ]
    },
    {
     "name": "stderr",
     "output_type": "stream",
     "text": [
      " 61%|██████    | 609/1000 [01:46<01:37,  3.99it/s]"
     ]
    },
    {
     "name": "stdout",
     "output_type": "stream",
     "text": [
      "1 0.8847359999999999\n",
      "2 0.274625\n",
      "low 0\n",
      "high 0\n",
      "spec 1\n",
      "gen 0\n"
     ]
    },
    {
     "name": "stderr",
     "output_type": "stream",
     "text": [
      "\r",
      " 61%|██████    | 610/1000 [01:46<01:34,  4.14it/s]"
     ]
    },
    {
     "name": "stdout",
     "output_type": "stream",
     "text": [
      "1 0.9197479531250001\n",
      "2 0.29077539062499996\n",
      "low 0\n",
      "high 0\n",
      "spec 1\n",
      "gen 0\n"
     ]
    },
    {
     "name": "stderr",
     "output_type": "stream",
     "text": [
      "\r",
      " 61%|██████    | 611/1000 [01:46<01:38,  3.94it/s]"
     ]
    },
    {
     "name": "stdout",
     "output_type": "stream",
     "text": [
      "1 0.9197479531250001\n",
      "2 0.29077539062499996\n",
      "low 0\n",
      "high 0\n",
      "spec 1\n",
      "gen 0\n"
     ]
    },
    {
     "name": "stderr",
     "output_type": "stream",
     "text": [
      "\r",
      " 61%|██████    | 612/1000 [01:47<01:48,  3.59it/s]"
     ]
    },
    {
     "name": "stdout",
     "output_type": "stream",
     "text": [
      "1 0.9197479531250001\n",
      "2 0.29077539062499996\n",
      "low 0\n",
      "high 0\n",
      "spec 1\n",
      "gen 0\n"
     ]
    },
    {
     "name": "stderr",
     "output_type": "stream",
     "text": [
      "\r",
      " 61%|██████▏   | 613/1000 [01:47<02:08,  3.01it/s]"
     ]
    },
    {
     "name": "stdout",
     "output_type": "stream",
     "text": [
      "1 0.8847359999999999\n",
      "2 0.274625\n",
      "low 0\n",
      "high 0\n",
      "spec 1\n",
      "gen 0\n",
      "1 0.8709838749999999\n",
      "2 0.26833612500000004\n",
      "low 0\n",
      "high 0\n",
      "spec 1\n",
      "gen 0\n"
     ]
    },
    {
     "name": "stderr",
     "output_type": "stream",
     "text": [
      " 62%|██████▏   | 615/1000 [01:48<01:41,  3.79it/s]"
     ]
    },
    {
     "name": "stdout",
     "output_type": "stream",
     "text": [
      "1 0.9197479531250001\n",
      "2 0.29077539062499996\n",
      "low 0\n",
      "high 0\n",
      "spec 1\n",
      "gen 0\n"
     ]
    },
    {
     "name": "stderr",
     "output_type": "stream",
     "text": [
      "\r",
      " 62%|██████▏   | 616/1000 [01:48<01:45,  3.63it/s]"
     ]
    },
    {
     "name": "stdout",
     "output_type": "stream",
     "text": [
      "1 0.8709838749999999\n",
      "2 0.26833612500000004\n",
      "low 0\n",
      "high 0\n",
      "spec 1\n",
      "gen 0\n",
      "1 0.9197479531250001\n",
      "2 0.29077539062499996\n",
      "low 0\n",
      "high 0\n",
      "spec 1\n",
      "gen 0\n"
     ]
    },
    {
     "name": "stderr",
     "output_type": "stream",
     "text": [
      " 62%|██████▏   | 618/1000 [01:48<01:41,  3.77it/s]"
     ]
    },
    {
     "name": "stdout",
     "output_type": "stream",
     "text": [
      "1 0.9197479531250001\n",
      "2 0.29077539062499996\n",
      "low 0\n",
      "high 0\n",
      "spec 1\n",
      "gen 0\n"
     ]
    },
    {
     "name": "stderr",
     "output_type": "stream",
     "text": [
      "\r",
      " 62%|██████▏   | 619/1000 [01:49<01:48,  3.51it/s]"
     ]
    },
    {
     "name": "stdout",
     "output_type": "stream",
     "text": [
      "1 0.8986321249999999\n",
      "2 0.30076300000000006\n",
      "low 0\n",
      "high 1\n",
      "spec 0\n",
      "gen 0\n",
      "1 0.9197479531250001\n",
      "2 0.29077539062499996\n",
      "low 0\n",
      "high 0\n",
      "spec 1\n",
      "gen 0\n"
     ]
    },
    {
     "name": "stderr",
     "output_type": "stream",
     "text": [
      " 62%|██████▏   | 621/1000 [01:49<01:28,  4.28it/s]"
     ]
    },
    {
     "name": "stdout",
     "output_type": "stream",
     "text": [
      "1 0.9197479531250001\n",
      "2 0.29077539062499996\n",
      "low 0\n",
      "high 0\n",
      "spec 1\n",
      "gen 0\n",
      "1 0.9197479531250001\n",
      "2 0.29077539062499996\n",
      "low 0\n",
      "high 0\n",
      "spec 1\n",
      "gen 0\n"
     ]
    },
    {
     "name": "stderr",
     "output_type": "stream",
     "text": [
      " 62%|██████▏   | 623/1000 [01:50<01:40,  3.75it/s]"
     ]
    },
    {
     "name": "stdout",
     "output_type": "stream",
     "text": [
      "1 0.9197479531250001\n",
      "2 0.29077539062499996\n",
      "low 0\n",
      "high 0\n",
      "spec 1\n",
      "gen 0\n",
      "1 0.9197479531250001\n",
      "2 0.29077539062499996\n",
      "low 0\n",
      "high 0\n",
      "spec 1\n",
      "gen 0\n"
     ]
    },
    {
     "name": "stderr",
     "output_type": "stream",
     "text": [
      " 62%|██████▎   | 625/1000 [01:50<01:24,  4.41it/s]"
     ]
    },
    {
     "name": "stdout",
     "output_type": "stream",
     "text": [
      "1 0.9197479531250001\n",
      "2 0.29077539062499996\n",
      "low 0\n",
      "high 0\n",
      "spec 1\n",
      "gen 0\n",
      "1 0.9197479531250001\n",
      "2 0.29077539062499996\n",
      "low 0\n",
      "high 0\n",
      "spec 1\n",
      "gen 0\n"
     ]
    },
    {
     "name": "stderr",
     "output_type": "stream",
     "text": [
      " 63%|██████▎   | 627/1000 [01:51<01:29,  4.18it/s]"
     ]
    },
    {
     "name": "stdout",
     "output_type": "stream",
     "text": [
      "1 0.9197479531250001\n",
      "2 0.29077539062499996\n",
      "low 0\n",
      "high 0\n",
      "spec 1\n",
      "gen 0\n"
     ]
    },
    {
     "name": "stderr",
     "output_type": "stream",
     "text": [
      "\r",
      " 63%|██████▎   | 628/1000 [01:51<01:23,  4.43it/s]"
     ]
    },
    {
     "name": "stdout",
     "output_type": "stream",
     "text": [
      "1 0.9197479531250001\n",
      "2 0.29077539062499996\n",
      "low 0\n",
      "high 0\n",
      "spec 1\n",
      "gen 0\n",
      "1 0.9197479531250001\n",
      "2 0.29077539062499996\n",
      "low 0\n",
      "high 0\n",
      "spec 1\n",
      "gen 0\n"
     ]
    },
    {
     "name": "stderr",
     "output_type": "stream",
     "text": [
      " 63%|██████▎   | 630/1000 [01:51<01:16,  4.82it/s]"
     ]
    },
    {
     "name": "stdout",
     "output_type": "stream",
     "text": [
      "1 0.9197479531250001\n",
      "2 0.29077539062499996\n",
      "low 0\n",
      "high 0\n",
      "spec 1\n",
      "gen 0\n",
      "1 0.9197479531250001\n",
      "2 0.29077539062499996\n",
      "low 0\n",
      "high 0\n",
      "spec 1\n",
      "gen 0\n"
     ]
    },
    {
     "name": "stderr",
     "output_type": "stream",
     "text": [
      "\r",
      " 63%|██████▎   | 631/1000 [01:52<01:48,  3.39it/s]"
     ]
    },
    {
     "name": "stdout",
     "output_type": "stream",
     "text": [
      "1 0.9411919999999999\n",
      "2 0.281011375\n",
      "low 0\n",
      "high 0\n",
      "spec 1\n",
      "gen 0\n"
     ]
    },
    {
     "name": "stderr",
     "output_type": "stream",
     "text": [
      "\r",
      " 63%|██████▎   | 632/1000 [01:52<02:02,  3.01it/s]"
     ]
    },
    {
     "name": "stdout",
     "output_type": "stream",
     "text": [
      "1 0.9197479531250001\n",
      "2 0.29077539062499996\n",
      "low 0\n",
      "high 0\n",
      "spec 1\n",
      "gen 0\n"
     ]
    },
    {
     "name": "stderr",
     "output_type": "stream",
     "text": [
      " 63%|██████▎   | 634/1000 [01:53<02:09,  2.82it/s]"
     ]
    },
    {
     "name": "stdout",
     "output_type": "stream",
     "text": [
      "1 0.9197479531250001\n",
      "2 0.29077539062499996\n",
      "low 0\n",
      "high 0\n",
      "spec 1\n",
      "gen 0\n"
     ]
    },
    {
     "name": "stderr",
     "output_type": "stream",
     "text": [
      "\r",
      " 64%|██████▎   | 635/1000 [01:53<01:59,  3.05it/s]"
     ]
    },
    {
     "name": "stdout",
     "output_type": "stream",
     "text": [
      "1 0.9197479531250001\n",
      "2 0.29077539062499996\n",
      "low 0\n",
      "high 0\n",
      "spec 1\n",
      "gen 0\n",
      "1 0.9197479531250001\n",
      "2 0.29077539062499996\n",
      "low 0\n",
      "high 0\n",
      "spec 1\n",
      "gen 0\n"
     ]
    },
    {
     "name": "stderr",
     "output_type": "stream",
     "text": [
      " 64%|██████▎   | 637/1000 [01:54<02:10,  2.79it/s]"
     ]
    },
    {
     "name": "stdout",
     "output_type": "stream",
     "text": [
      "1 0.9197479531250001\n",
      "2 0.29077539062499996\n",
      "low 0\n",
      "high 0\n",
      "spec 1\n",
      "gen 0\n"
     ]
    },
    {
     "name": "stderr",
     "output_type": "stream",
     "text": [
      "\r",
      " 64%|██████▍   | 638/1000 [01:54<01:54,  3.15it/s]"
     ]
    },
    {
     "name": "stdout",
     "output_type": "stream",
     "text": [
      "1 0.9197479531250001\n",
      "2 0.29077539062499996\n",
      "low 0\n",
      "high 0\n",
      "spec 1\n",
      "gen 0\n"
     ]
    },
    {
     "name": "stderr",
     "output_type": "stream",
     "text": [
      "\r",
      " 64%|██████▍   | 639/1000 [01:54<01:56,  3.11it/s]"
     ]
    },
    {
     "name": "stdout",
     "output_type": "stream",
     "text": [
      "1 0.9056344218750001\n",
      "2 0.28424135937499995\n",
      "low 0\n",
      "high 0\n",
      "spec 1\n",
      "gen 0\n"
     ]
    },
    {
     "name": "stderr",
     "output_type": "stream",
     "text": [
      "\r",
      " 64%|██████▍   | 640/1000 [01:55<01:54,  3.15it/s]"
     ]
    },
    {
     "name": "stdout",
     "output_type": "stream",
     "text": [
      "1 0.9411919999999999\n",
      "2 0.281011375\n",
      "low 0\n",
      "high 0\n",
      "spec 1\n",
      "gen 0\n",
      "1 0.9197479531250001\n",
      "2 0.29077539062499996\n",
      "low 0\n",
      "high 0\n",
      "spec 1\n",
      "gen 0\n"
     ]
    },
    {
     "name": "stderr",
     "output_type": "stream",
     "text": [
      " 64%|██████▍   | 642/1000 [01:56<02:21,  2.53it/s]"
     ]
    },
    {
     "name": "stdout",
     "output_type": "stream",
     "text": [
      "1 0.9197479531250001\n",
      "2 0.271468421875\n",
      "low 0\n",
      "high 0\n",
      "spec 1\n",
      "gen 0\n"
     ]
    },
    {
     "name": "stderr",
     "output_type": "stream",
     "text": [
      "\r",
      " 64%|██████▍   | 643/1000 [01:56<02:16,  2.61it/s]"
     ]
    },
    {
     "name": "stdout",
     "output_type": "stream",
     "text": [
      "1 0.9197479531250001\n",
      "2 0.29077539062499996\n",
      "low 0\n",
      "high 0\n",
      "spec 1\n",
      "gen 0\n"
     ]
    },
    {
     "name": "stderr",
     "output_type": "stream",
     "text": [
      "\r",
      " 64%|██████▍   | 644/1000 [01:56<02:10,  2.72it/s]"
     ]
    },
    {
     "name": "stdout",
     "output_type": "stream",
     "text": [
      "1 0.9197479531250001\n",
      "2 0.29077539062499996\n",
      "low 0\n",
      "high 0\n",
      "spec 1\n",
      "gen 0\n",
      "1 0.9197479531250001\n",
      "2 0.29077539062499996\n",
      "low 0\n",
      "high 0\n",
      "spec 1\n",
      "gen 0\n"
     ]
    },
    {
     "name": "stderr",
     "output_type": "stream",
     "text": [
      " 65%|██████▍   | 646/1000 [01:57<02:03,  2.87it/s]"
     ]
    },
    {
     "name": "stdout",
     "output_type": "stream",
     "text": [
      "1 0.3771495156249999\n",
      "2 0.070189453125\n",
      "low 1\n",
      "high 0\n",
      "spec 0\n",
      "gen 0\n",
      "1 0.912673\n",
      "2 "
     ]
    },
    {
     "name": "stderr",
     "output_type": "stream",
     "text": [
      "\r",
      " 65%|██████▍   | 647/1000 [01:57<01:45,  3.35it/s]"
     ]
    },
    {
     "name": "stdout",
     "output_type": "stream",
     "text": [
      "0.26833612500000004\n",
      "low 0\n",
      "high 0\n",
      "spec 1\n",
      "gen 0\n"
     ]
    },
    {
     "name": "stderr",
     "output_type": "stream",
     "text": [
      "\r",
      " 65%|██████▍   | 648/1000 [01:58<01:53,  3.10it/s]"
     ]
    },
    {
     "name": "stdout",
     "output_type": "stream",
     "text": [
      "1 0.8986321249999999\n",
      "2 0.30076300000000006\n",
      "low 0\n",
      "high 1\n",
      "spec 0\n",
      "gen 0\n",
      "1 0.9268593749999999\n",
      "2 0.274625\n",
      "low 0\n",
      "high 0\n",
      "spec 1\n",
      "gen 0\n"
     ]
    },
    {
     "name": "stderr",
     "output_type": "stream",
     "text": [
      " 65%|██████▌   | 650/1000 [01:58<01:49,  3.19it/s]"
     ]
    },
    {
     "name": "stdout",
     "output_type": "stream",
     "text": [
      "1 0.9411919999999999\n",
      "2 0.281011375\n",
      "low 0\n",
      "high 0\n",
      "spec 1\n",
      "gen 0\n"
     ]
    },
    {
     "name": "stderr",
     "output_type": "stream",
     "text": [
      "\r",
      " 65%|██████▌   | 651/1000 [01:59<02:00,  2.89it/s]"
     ]
    },
    {
     "name": "stdout",
     "output_type": "stream",
     "text": [
      "1 0.9197479531250001\n",
      "2 0.29077539062499996\n",
      "low 0\n",
      "high 0\n",
      "spec 1\n",
      "gen 0\n"
     ]
    },
    {
     "name": "stderr",
     "output_type": "stream",
     "text": [
      "\r",
      " 65%|██████▌   | 652/1000 [01:59<01:57,  2.97it/s]"
     ]
    },
    {
     "name": "stdout",
     "output_type": "stream",
     "text": [
      "1 0.546340359375\n",
      "2 0.497734578125\n",
      "low 0\n",
      "high 0\n",
      "spec 0\n",
      "gen 1\n"
     ]
    },
    {
     "name": "stderr",
     "output_type": "stream",
     "text": [
      "\r",
      " 65%|██████▌   | 653/1000 [01:59<01:45,  3.30it/s]"
     ]
    },
    {
     "name": "stdout",
     "output_type": "stream",
     "text": [
      "1 0.9484133906249997\n",
      "2 0.324951171875\n",
      "low 0\n",
      "high 1\n",
      "spec 0\n",
      "gen 0\n"
     ]
    },
    {
     "name": "stderr",
     "output_type": "stream",
     "text": [
      "\r",
      " 65%|██████▌   | 654/1000 [02:00<01:42,  3.36it/s]"
     ]
    },
    {
     "name": "stdout",
     "output_type": "stream",
     "text": [
      "1 0.7660608750000001\n",
      "2 0.274625\n",
      "low 0\n",
      "high 0\n",
      "spec 1\n",
      "gen 0\n"
     ]
    },
    {
     "name": "stderr",
     "output_type": "stream",
     "text": [
      "\r",
      " 66%|██████▌   | 655/1000 [02:00<01:37,  3.54it/s]"
     ]
    },
    {
     "name": "stdout",
     "output_type": "stream",
     "text": [
      "1 0.850624046875\n",
      "2 0.317912765625\n",
      "low 0\n",
      "high 1\n",
      "spec 0\n",
      "gen 0\n"
     ]
    },
    {
     "name": "stderr",
     "output_type": "stream",
     "text": [
      "\r",
      " 66%|██████▌   | 656/1000 [02:00<01:37,  3.52it/s]"
     ]
    },
    {
     "name": "stdout",
     "output_type": "stream",
     "text": [
      "1 0.759798828125\n",
      "2 0.20277929687500001\n",
      "low 0\n",
      "high 0\n",
      "spec 1\n",
      "gen 0\n"
     ]
    },
    {
     "name": "stderr",
     "output_type": "stream",
     "text": [
      "\r",
      " 66%|██████▌   | 657/1000 [02:00<01:33,  3.69it/s]"
     ]
    },
    {
     "name": "stdout",
     "output_type": "stream",
     "text": [
      "1 0.9197479531250001\n",
      "2 0.29077539062499996\n",
      "low 0\n",
      "high 0\n",
      "spec 1\n",
      "gen 0\n"
     ]
    },
    {
     "name": "stderr",
     "output_type": "stream",
     "text": [
      "\r",
      " 66%|██████▌   | 658/1000 [02:01<01:49,  3.12it/s]"
     ]
    },
    {
     "name": "stdout",
     "output_type": "stream",
     "text": [
      "1 0.297408796875\n",
      "2 0.04017739062500001\n",
      "low 1\n",
      "high 0\n",
      "spec 0\n",
      "gen 0\n"
     ]
    },
    {
     "name": "stderr",
     "output_type": "stream",
     "text": [
      "\r",
      " 66%|██████▌   | 659/1000 [02:01<01:43,  3.28it/s]"
     ]
    },
    {
     "name": "stdout",
     "output_type": "stream",
     "text": [
      "1 0.912673\n",
      "2 0.30754687500000005\n",
      "low 0\n",
      "high 1\n",
      "spec 0\n",
      "gen 0\n"
     ]
    },
    {
     "name": "stderr",
     "output_type": "stream",
     "text": [
      "\r",
      " 66%|██████▌   | 660/1000 [02:01<01:34,  3.59it/s]"
     ]
    },
    {
     "name": "stdout",
     "output_type": "stream",
     "text": [
      "1 0.7660608750000001\n",
      "2 0.274625\n",
      "low 0\n",
      "high 0\n",
      "spec 1\n",
      "gen 0\n"
     ]
    },
    {
     "name": "stderr",
     "output_type": "stream",
     "text": [
      "\r",
      " 66%|██████▌   | 661/1000 [02:02<01:38,  3.44it/s]"
     ]
    },
    {
     "name": "stdout",
     "output_type": "stream",
     "text": [
      "1 0.5821828749999999\n",
      "2 0.14470312499999993\n",
      "low 1\n",
      "high 0\n",
      "spec 0\n",
      "gen 0\n"
     ]
    },
    {
     "name": "stderr",
     "output_type": "stream",
     "text": [
      "\r",
      " 66%|██████▌   | 662/1000 [02:02<01:35,  3.54it/s]"
     ]
    },
    {
     "name": "stdout",
     "output_type": "stream",
     "text": [
      "1 0.912673\n",
      "2 0.29407962500000007\n",
      "low 0\n",
      "high 0\n",
      "spec 1\n",
      "gen 0\n"
     ]
    },
    {
     "name": "stderr",
     "output_type": "stream",
     "text": [
      "\r",
      " 66%|██████▋   | 663/1000 [02:02<01:32,  3.65it/s]"
     ]
    },
    {
     "name": "stdout",
     "output_type": "stream",
     "text": [
      "1 0.7660608750000001\n",
      "2 0.274625\n",
      "low 0\n",
      "high 0\n",
      "spec 1\n",
      "gen 0\n"
     ]
    },
    {
     "name": "stderr",
     "output_type": "stream",
     "text": [
      "\r",
      " 66%|██████▋   | 664/1000 [02:02<01:29,  3.77it/s]"
     ]
    },
    {
     "name": "stdout",
     "output_type": "stream",
     "text": [
      "1 0.8986321249999999\n",
      "2 0.30076300000000006\n",
      "low 0\n",
      "high 1\n",
      "spec 0\n",
      "gen 0\n"
     ]
    },
    {
     "name": "stderr",
     "output_type": "stream",
     "text": [
      "\r",
      " 66%|██████▋   | 665/1000 [02:03<01:34,  3.55it/s]"
     ]
    },
    {
     "name": "stdout",
     "output_type": "stream",
     "text": [
      "1 0.9411919999999999\n",
      "2 0.281011375\n",
      "low 0\n",
      "high 0\n",
      "spec 1\n",
      "gen 0\n"
     ]
    },
    {
     "name": "stderr",
     "output_type": "stream",
     "text": [
      "\r",
      " 67%|██████▋   | 666/1000 [02:03<01:32,  3.61it/s]"
     ]
    },
    {
     "name": "stdout",
     "output_type": "stream",
     "text": [
      "1 0.9484133906249997\n",
      "2 0.332092703125\n",
      "low 0\n",
      "high 1\n",
      "spec 0\n",
      "gen 0\n",
      "1 0.759798828125\n",
      "2 0.20277929687500001\n",
      "low 0\n",
      "high 0\n",
      "spec 1\n",
      "gen 0\n"
     ]
    },
    {
     "name": "stderr",
     "output_type": "stream",
     "text": [
      " 67%|██████▋   | 668/1000 [02:04<01:40,  3.31it/s]"
     ]
    },
    {
     "name": "stdout",
     "output_type": "stream",
     "text": [
      "1 0.9411919999999999\n",
      "2 0.281011375\n",
      "low 0\n",
      "high 0\n",
      "spec 1\n",
      "gen 0\n"
     ]
    },
    {
     "name": "stderr",
     "output_type": "stream",
     "text": [
      "\r",
      " 67%|██████▋   | 669/1000 [02:04<01:31,  3.62it/s]"
     ]
    },
    {
     "name": "stdout",
     "output_type": "stream",
     "text": [
      "1 0.9340073593750001\n",
      "2 0.27780595312499995\n",
      "low 0\n",
      "high 0\n",
      "spec 1\n",
      "gen 0\n"
     ]
    },
    {
     "name": "stderr",
     "output_type": "stream",
     "text": [
      "\r",
      " 67%|██████▋   | 670/1000 [02:04<01:27,  3.76it/s]"
     ]
    },
    {
     "name": "stdout",
     "output_type": "stream",
     "text": [
      "1 0.8986321249999999\n",
      "2 0.30076300000000006\n",
      "low 0\n",
      "high 1\n",
      "spec 0\n",
      "gen 0\n"
     ]
    },
    {
     "name": "stderr",
     "output_type": "stream",
     "text": [
      "\r",
      " 67%|██████▋   | 671/1000 [02:04<01:23,  3.93it/s]"
     ]
    },
    {
     "name": "stdout",
     "output_type": "stream",
     "text": [
      "1 0.9556716249999999\n",
      "2 0.28749600000000003\n",
      "low 0\n",
      "high 0\n",
      "spec 1\n",
      "gen 0\n"
     ]
    },
    {
     "name": "stderr",
     "output_type": "stream",
     "text": [
      "\r",
      " 67%|██████▋   | 672/1000 [02:05<01:25,  3.85it/s]"
     ]
    },
    {
     "name": "stdout",
     "output_type": "stream",
     "text": [
      "1 0.40934489062500007\n",
      "2 0.40934489062500007\n",
      "low 0\n",
      "high 0\n",
      "spec 0\n",
      "gen 1\n",
      "1 0.864161578125\n",
      "2 0.24708204687499993\n",
      "low 0\n",
      "high 0\n",
      "spec 1\n",
      "gen 0\n"
     ]
    },
    {
     "name": "stderr",
     "output_type": "stream",
     "text": [
      " 67%|██████▋   | 674/1000 [02:05<01:36,  3.39it/s]"
     ]
    },
    {
     "name": "stdout",
     "output_type": "stream",
     "text": [
      "1 0.9484133906249997\n",
      "2 0.332092703125\n",
      "low 0\n",
      "high 1\n",
      "spec 0\n",
      "gen 0\n"
     ]
    },
    {
     "name": "stderr",
     "output_type": "stream",
     "text": [
      "\r",
      " 68%|██████▊   | 675/1000 [02:05<01:29,  3.62it/s]"
     ]
    },
    {
     "name": "stdout",
     "output_type": "stream",
     "text": [
      "1 0.9411919999999999\n",
      "2 0.281011375\n",
      "low 0\n",
      "high 0\n",
      "spec 1\n",
      "gen 0\n"
     ]
    },
    {
     "name": "stderr",
     "output_type": "stream",
     "text": [
      "\r",
      " 68%|██████▊   | 676/1000 [02:06<01:27,  3.69it/s]"
     ]
    },
    {
     "name": "stdout",
     "output_type": "stream",
     "text": [
      "1 0.9556716249999999\n",
      "2 0.28749600000000003\n",
      "low 0\n",
      "high 0\n",
      "spec 1\n",
      "gen 0\n"
     ]
    },
    {
     "name": "stderr",
     "output_type": "stream",
     "text": [
      "\r",
      " 68%|██████▊   | 677/1000 [02:06<01:24,  3.84it/s]"
     ]
    },
    {
     "name": "stdout",
     "output_type": "stream",
     "text": [
      "1 0.9340073593750001\n",
      "2 0.27780595312499995\n",
      "low 0\n",
      "high 0\n",
      "spec 1\n",
      "gen 0\n"
     ]
    },
    {
     "name": "stderr",
     "output_type": "stream",
     "text": [
      "\r",
      " 68%|██████▊   | 678/1000 [02:06<01:21,  3.94it/s]"
     ]
    },
    {
     "name": "stdout",
     "output_type": "stream",
     "text": [
      "1 0.9776683281249998\n",
      "2 0.30414232812499997\n",
      "low 0\n",
      "high 1\n",
      "spec 0\n",
      "gen 0\n"
     ]
    },
    {
     "name": "stderr",
     "output_type": "stream",
     "text": [
      "\r",
      " 68%|██████▊   | 679/1000 [02:06<01:20,  3.98it/s]"
     ]
    },
    {
     "name": "stdout",
     "output_type": "stream",
     "text": [
      "1 0.9411919999999999\n",
      "2 0.281011375\n",
      "low 0\n",
      "high 0\n",
      "spec 1\n",
      "gen 0\n"
     ]
    },
    {
     "name": "stderr",
     "output_type": "stream",
     "text": [
      "\r",
      " 68%|██████▊   | 680/1000 [02:07<01:22,  3.87it/s]"
     ]
    },
    {
     "name": "stdout",
     "output_type": "stream",
     "text": [
      "1 0.9776683281249998\n",
      "2 0.30414232812499997\n",
      "low 0\n",
      "high 1\n",
      "spec 0\n",
      "gen 0\n"
     ]
    },
    {
     "name": "stderr",
     "output_type": "stream",
     "text": [
      "\r",
      " 68%|██████▊   | 681/1000 [02:07<01:19,  4.02it/s]"
     ]
    },
    {
     "name": "stdout",
     "output_type": "stream",
     "text": [
      "1 0.7914531250000001\n",
      "2 0.21599999999999997\n",
      "low 0\n",
      "high 0\n",
      "spec 1\n",
      "gen 0\n"
     ]
    },
    {
     "name": "stderr",
     "output_type": "stream",
     "text": [
      "\r",
      " 68%|██████▊   | 682/1000 [02:07<01:19,  4.01it/s]"
     ]
    },
    {
     "name": "stdout",
     "output_type": "stream",
     "text": [
      "1 0.9776683281249998\n",
      "2 0.30414232812499997\n",
      "low 0\n",
      "high 1\n",
      "spec 0\n",
      "gen 0\n"
     ]
    },
    {
     "name": "stderr",
     "output_type": "stream",
     "text": [
      "\r",
      " 68%|██████▊   | 683/1000 [02:07<01:19,  3.97it/s]"
     ]
    },
    {
     "name": "stdout",
     "output_type": "stream",
     "text": [
      "1 0.9776683281249998\n",
      "2 0.30414232812499997\n",
      "low 0\n",
      "high 1\n",
      "spec 0\n",
      "gen 0\n"
     ]
    },
    {
     "name": "stderr",
     "output_type": "stream",
     "text": [
      "\r",
      " 68%|██████▊   | 684/1000 [02:08<01:20,  3.94it/s]"
     ]
    },
    {
     "name": "stdout",
     "output_type": "stream",
     "text": [
      "1 0.9776683281249998\n",
      "2 0.30414232812499997\n",
      "low 0\n",
      "high 1\n",
      "spec 0\n",
      "gen 0\n"
     ]
    },
    {
     "name": "stderr",
     "output_type": "stream",
     "text": [
      "\r",
      " 68%|██████▊   | 685/1000 [02:08<01:18,  4.01it/s]"
     ]
    },
    {
     "name": "stdout",
     "output_type": "stream",
     "text": [
      "1 0.8305839999999999\n",
      "2 0.381078125\n",
      "low 0\n",
      "high 1\n",
      "spec 0\n",
      "gen 0\n"
     ]
    },
    {
     "name": "stderr",
     "output_type": "stream",
     "text": [
      "\r",
      " 69%|██████▊   | 686/1000 [02:08<01:16,  4.09it/s]"
     ]
    },
    {
     "name": "stdout",
     "output_type": "stream",
     "text": [
      "1 0.9340073593750001\n",
      "2 0.28424135937499995\n",
      "low 0\n",
      "high 0\n",
      "spec 1\n",
      "gen 0\n"
     ]
    },
    {
     "name": "stderr",
     "output_type": "stream",
     "text": [
      "\r",
      " 69%|██████▊   | 687/1000 [02:08<01:14,  4.22it/s]"
     ]
    },
    {
     "name": "stdout",
     "output_type": "stream",
     "text": [
      "1 0.9776683281249998\n",
      "2 0.30414232812499997\n",
      "low 0\n",
      "high 1\n",
      "spec 0\n",
      "gen 0\n"
     ]
    },
    {
     "name": "stderr",
     "output_type": "stream",
     "text": [
      "\r",
      " 69%|██████▉   | 688/1000 [02:09<01:23,  3.72it/s]"
     ]
    },
    {
     "name": "stdout",
     "output_type": "stream",
     "text": [
      "1 0.8986321249999999\n",
      "2 0.3429999999999999\n",
      "low 0\n",
      "high 1\n",
      "spec 0\n",
      "gen 0\n"
     ]
    },
    {
     "name": "stderr",
     "output_type": "stream",
     "text": [
      "\r",
      " 69%|██████▉   | 689/1000 [02:09<01:21,  3.80it/s]"
     ]
    },
    {
     "name": "stdout",
     "output_type": "stream",
     "text": [
      "1 0.9268593749999999\n",
      "2 0.274625\n",
      "low 0\n",
      "high 0\n",
      "spec 1\n",
      "gen 0\n"
     ]
    },
    {
     "name": "stderr",
     "output_type": "stream",
     "text": [
      "\r",
      " 69%|██████▉   | 690/1000 [02:09<01:18,  3.93it/s]"
     ]
    },
    {
     "name": "stdout",
     "output_type": "stream",
     "text": [
      "1 0.9776683281249998\n",
      "2 0.30414232812499997\n",
      "low 0\n",
      "high 1\n",
      "spec 0\n",
      "gen 0\n"
     ]
    },
    {
     "name": "stderr",
     "output_type": "stream",
     "text": [
      "\r",
      " 69%|██████▉   | 691/1000 [02:10<01:21,  3.78it/s]"
     ]
    },
    {
     "name": "stdout",
     "output_type": "stream",
     "text": [
      "1 0.9776683281250002\n",
      "2 0.317912765625\n",
      "low 0\n",
      "high 1\n",
      "spec 0\n",
      "gen 0\n"
     ]
    },
    {
     "name": "stderr",
     "output_type": "stream",
     "text": [
      "\r",
      " 69%|██████▉   | 692/1000 [02:10<01:20,  3.84it/s]"
     ]
    },
    {
     "name": "stdout",
     "output_type": "stream",
     "text": [
      "1 0.912673\n",
      "2 0.35040262499999997\n",
      "low 0\n",
      "high 1\n",
      "spec 0\n",
      "gen 0\n"
     ]
    },
    {
     "name": "stderr",
     "output_type": "stream",
     "text": [
      "\r",
      " 69%|██████▉   | 693/1000 [02:10<01:16,  4.00it/s]"
     ]
    },
    {
     "name": "stdout",
     "output_type": "stream",
     "text": [
      "1 0.8847359999999999\n",
      "2 0.274625\n",
      "low 0\n",
      "high 0\n",
      "spec 1\n",
      "gen 0\n"
     ]
    },
    {
     "name": "stderr",
     "output_type": "stream",
     "text": [
      "\r",
      " 69%|██████▉   | 694/1000 [02:10<01:15,  4.05it/s]"
     ]
    },
    {
     "name": "stdout",
     "output_type": "stream",
     "text": [
      "1 0.912673\n",
      "2 0.29407962500000007\n",
      "low 0\n",
      "high 0\n",
      "spec 1\n",
      "gen 0\n",
      "1 0.9776683281249998\n",
      "2 0.30414232812499997\n",
      "low 0\n",
      "high 1\n",
      "spec 0\n",
      "gen 0\n"
     ]
    },
    {
     "name": "stderr",
     "output_type": "stream",
     "text": [
      " 70%|██████▉   | 696/1000 [02:11<01:35,  3.19it/s]"
     ]
    },
    {
     "name": "stdout",
     "output_type": "stream",
     "text": [
      "1 0.9776683281249998\n",
      "2 0.30414232812499997\n",
      "low 0\n",
      "high 1\n",
      "spec 0\n",
      "gen 0\n"
     ]
    },
    {
     "name": "stderr",
     "output_type": "stream",
     "text": [
      "\r",
      " 70%|██████▉   | 697/1000 [02:11<01:26,  3.49it/s]"
     ]
    },
    {
     "name": "stdout",
     "output_type": "stream",
     "text": [
      "1 0.9411919999999999\n",
      "2 0.281011375\n",
      "low 0\n",
      "high 0\n",
      "spec 1\n",
      "gen 0\n"
     ]
    },
    {
     "name": "stderr",
     "output_type": "stream",
     "text": [
      "\r",
      " 70%|██████▉   | 698/1000 [02:11<01:22,  3.68it/s]"
     ]
    },
    {
     "name": "stdout",
     "output_type": "stream",
     "text": [
      "1 0.20277929687500001\n",
      "2 0.759798828125\n",
      "low 0\n",
      "high 0\n",
      "spec 1\n",
      "gen 0\n"
     ]
    },
    {
     "name": "stderr",
     "output_type": "stream",
     "text": [
      "\r",
      " 70%|██████▉   | 699/1000 [02:12<01:19,  3.80it/s]"
     ]
    },
    {
     "name": "stdout",
     "output_type": "stream",
     "text": [
      "1 0.912673\n",
      "2 0.29407962500000007\n",
      "low 0\n",
      "high 0\n",
      "spec 1\n",
      "gen 0\n"
     ]
    },
    {
     "name": "stderr",
     "output_type": "stream",
     "text": [
      "\r",
      " 70%|███████   | 700/1000 [02:12<01:17,  3.87it/s]"
     ]
    },
    {
     "name": "stdout",
     "output_type": "stream",
     "text": [
      "1 0.810861203125\n",
      "2 0.361705078125\n",
      "low 0\n",
      "high 1\n",
      "spec 0\n",
      "gen 0\n"
     ]
    },
    {
     "name": "stderr",
     "output_type": "stream",
     "text": [
      "\r",
      " 70%|███████   | 701/1000 [02:12<01:13,  4.04it/s]"
     ]
    },
    {
     "name": "stdout",
     "output_type": "stream",
     "text": [
      "1 0.9556716249999999\n",
      "2 0.2874959999999999\n",
      "low 0\n",
      "high 0\n",
      "spec 1\n",
      "gen 0\n"
     ]
    },
    {
     "name": "stderr",
     "output_type": "stream",
     "text": [
      "\r",
      " 70%|███████   | 702/1000 [02:12<01:12,  4.10it/s]"
     ]
    },
    {
     "name": "stdout",
     "output_type": "stream",
     "text": [
      "1 0.9556716249999999\n",
      "2 0.2874959999999999\n",
      "low 0\n",
      "high 0\n",
      "spec 1\n",
      "gen 0\n"
     ]
    },
    {
     "name": "stderr",
     "output_type": "stream",
     "text": [
      "\r",
      " 70%|███████   | 703/1000 [02:13<01:14,  4.01it/s]"
     ]
    },
    {
     "name": "stdout",
     "output_type": "stream",
     "text": [
      "1 0.9340073593750001\n",
      "2 0.28424135937499995\n",
      "low 0\n",
      "high 0\n",
      "spec 1\n",
      "gen 0\n"
     ]
    },
    {
     "name": "stderr",
     "output_type": "stream",
     "text": [
      "\r",
      " 70%|███████   | 704/1000 [02:13<01:13,  4.02it/s]"
     ]
    },
    {
     "name": "stdout",
     "output_type": "stream",
     "text": [
      "1 0.9776683281249998\n",
      "2 0.297408796875\n",
      "low 0\n",
      "high 0\n",
      "spec 1\n",
      "gen 0\n"
     ]
    },
    {
     "name": "stderr",
     "output_type": "stream",
     "text": [
      "\r",
      " 70%|███████   | 705/1000 [02:13<01:12,  4.05it/s]"
     ]
    },
    {
     "name": "stdout",
     "output_type": "stream",
     "text": [
      "1 0.9340073593750001\n",
      "2 0.297408796875\n",
      "low 0\n",
      "high 0\n",
      "spec 1\n",
      "gen 0\n"
     ]
    },
    {
     "name": "stderr",
     "output_type": "stream",
     "text": [
      "\r",
      " 71%|███████   | 706/1000 [02:13<01:10,  4.15it/s]"
     ]
    },
    {
     "name": "stdout",
     "output_type": "stream",
     "text": [
      "1 0.9411919999999999\n",
      "2 0.281011375\n",
      "low 0\n",
      "high 0\n",
      "spec 1\n",
      "gen 0\n"
     ]
    },
    {
     "name": "stderr",
     "output_type": "stream",
     "text": [
      "\r",
      " 71%|███████   | 707/1000 [02:14<01:12,  4.03it/s]"
     ]
    },
    {
     "name": "stdout",
     "output_type": "stream",
     "text": [
      "1 0.9197479531250001\n",
      "2 0.29077539062499996\n",
      "low 0\n",
      "high 0\n",
      "spec 1\n",
      "gen 0\n"
     ]
    },
    {
     "name": "stderr",
     "output_type": "stream",
     "text": [
      "\r",
      " 71%|███████   | 708/1000 [02:14<01:11,  4.11it/s]"
     ]
    },
    {
     "name": "stdout",
     "output_type": "stream",
     "text": [
      "1 0.9197479531250001\n",
      "2 0.29077539062499996\n",
      "low 0\n",
      "high 0\n",
      "spec 1\n",
      "gen 0\n"
     ]
    },
    {
     "name": "stderr",
     "output_type": "stream",
     "text": [
      "\r",
      " 71%|███████   | 709/1000 [02:14<01:09,  4.18it/s]"
     ]
    },
    {
     "name": "stdout",
     "output_type": "stream",
     "text": [
      "1 0\n",
      "2 0\n",
      "low 1\n",
      "high 0\n",
      "spec 0\n",
      "gen 0\n"
     ]
    },
    {
     "name": "stderr",
     "output_type": "stream",
     "text": [
      "\r",
      " 71%|███████   | 710/1000 [02:14<01:16,  3.81it/s]"
     ]
    },
    {
     "name": "stdout",
     "output_type": "stream",
     "text": [
      "1 0.9411919999999999\n",
      "2 0.281011375\n",
      "low 0\n",
      "high 0\n",
      "spec 1\n",
      "gen 0\n"
     ]
    },
    {
     "name": "stderr",
     "output_type": "stream",
     "text": [
      "\r",
      " 71%|███████   | 711/1000 [02:15<01:18,  3.66it/s]"
     ]
    },
    {
     "name": "stdout",
     "output_type": "stream",
     "text": [
      "1 0.9776683281249998\n",
      "2 0.30414232812499997\n",
      "low 0\n",
      "high 1\n",
      "spec 0\n",
      "gen 0\n"
     ]
    },
    {
     "name": "stderr",
     "output_type": "stream",
     "text": [
      "\r",
      " 71%|███████   | 712/1000 [02:15<01:23,  3.43it/s]"
     ]
    },
    {
     "name": "stdout",
     "output_type": "stream",
     "text": [
      "1 0.9197479531250001\n",
      "2 0.29077539062499996\n",
      "low 0\n",
      "high 0\n",
      "spec 1\n",
      "gen 0\n"
     ]
    },
    {
     "name": "stderr",
     "output_type": "stream",
     "text": [
      "\r",
      " 71%|███████▏  | 713/1000 [02:15<01:17,  3.71it/s]"
     ]
    },
    {
     "name": "stdout",
     "output_type": "stream",
     "text": [
      "1 0.9629667968750001\n",
      "2 0.297408796875\n",
      "low 0\n",
      "high 0\n",
      "spec 1\n",
      "gen 0\n"
     ]
    },
    {
     "name": "stderr",
     "output_type": "stream",
     "text": [
      "\r",
      " 71%|███████▏  | 714/1000 [02:16<01:15,  3.77it/s]"
     ]
    },
    {
     "name": "stdout",
     "output_type": "stream",
     "text": [
      "1 0.9197479531250001\n",
      "2 0.29077539062499996\n",
      "low 0\n",
      "high 0\n",
      "spec 1\n",
      "gen 0\n"
     ]
    },
    {
     "name": "stderr",
     "output_type": "stream",
     "text": [
      "\r",
      " 72%|███████▏  | 715/1000 [02:16<01:14,  3.83it/s]"
     ]
    },
    {
     "name": "stdout",
     "output_type": "stream",
     "text": [
      "1 0.8847359999999999\n",
      "2 0.274625\n",
      "low 0\n",
      "high 0\n",
      "spec 1\n",
      "gen 0\n"
     ]
    },
    {
     "name": "stderr",
     "output_type": "stream",
     "text": [
      "\r",
      " 72%|███████▏  | 716/1000 [02:16<01:13,  3.88it/s]"
     ]
    },
    {
     "name": "stdout",
     "output_type": "stream",
     "text": [
      "1 0.21064487499999998\n",
      "2 0.778688\n",
      "low 0\n",
      "high 0\n",
      "spec 1\n",
      "gen 0\n"
     ]
    },
    {
     "name": "stderr",
     "output_type": "stream",
     "text": [
      "\r",
      " 72%|███████▏  | 717/1000 [02:16<01:12,  3.91it/s]"
     ]
    },
    {
     "name": "stdout",
     "output_type": "stream",
     "text": [
      "1 0.9197479531250001\n",
      "2 0.29077539062499996\n",
      "low 0\n",
      "high 0\n",
      "spec 1\n",
      "gen 0\n"
     ]
    },
    {
     "name": "stderr",
     "output_type": "stream",
     "text": [
      "\r",
      " 72%|███████▏  | 718/1000 [02:17<01:12,  3.88it/s]"
     ]
    },
    {
     "name": "stdout",
     "output_type": "stream",
     "text": [
      "1 0.970299\n",
      "2 0.29407962500000007\n",
      "low 0\n",
      "high 0\n",
      "spec 1\n",
      "gen 0\n"
     ]
    },
    {
     "name": "stderr",
     "output_type": "stream",
     "text": [
      "\r",
      " 72%|███████▏  | 719/1000 [02:17<01:11,  3.92it/s]"
     ]
    },
    {
     "name": "stdout",
     "output_type": "stream",
     "text": [
      "1 0.9268593749999999\n",
      "2 0.274625\n",
      "low 0\n",
      "high 0\n",
      "spec 1\n",
      "gen 0\n"
     ]
    },
    {
     "name": "stderr",
     "output_type": "stream",
     "text": [
      "\r",
      " 72%|███████▏  | 720/1000 [02:17<01:09,  4.01it/s]"
     ]
    },
    {
     "name": "stdout",
     "output_type": "stream",
     "text": [
      "1 0.9411919999999999\n",
      "2 0.281011375\n",
      "low 0\n",
      "high 0\n",
      "spec 1\n",
      "gen 0\n"
     ]
    },
    {
     "name": "stderr",
     "output_type": "stream",
     "text": [
      "\r",
      " 72%|███████▏  | 721/1000 [02:17<01:08,  4.07it/s]"
     ]
    },
    {
     "name": "stdout",
     "output_type": "stream",
     "text": [
      "1 0.9776683281249998\n",
      "2 0.30414232812499997\n",
      "low 0\n",
      "high 1\n",
      "spec 0\n",
      "gen 0\n"
     ]
    },
    {
     "name": "stderr",
     "output_type": "stream",
     "text": [
      "\r",
      " 72%|███████▏  | 722/1000 [02:18<01:10,  3.97it/s]"
     ]
    },
    {
     "name": "stdout",
     "output_type": "stream",
     "text": [
      "1 0.970299\n",
      "2 0.29407962500000007\n",
      "low 0\n",
      "high 0\n",
      "spec 1\n",
      "gen 0\n"
     ]
    },
    {
     "name": "stderr",
     "output_type": "stream",
     "text": [
      "\r",
      " 72%|███████▏  | 723/1000 [02:18<01:10,  3.93it/s]"
     ]
    },
    {
     "name": "stdout",
     "output_type": "stream",
     "text": [
      "1 0.8847359999999999\n",
      "2 0.274625\n",
      "low 0\n",
      "high 0\n",
      "spec 1\n",
      "gen 0\n"
     ]
    },
    {
     "name": "stderr",
     "output_type": "stream",
     "text": [
      "\r",
      " 72%|███████▏  | 724/1000 [02:18<01:17,  3.57it/s]"
     ]
    },
    {
     "name": "stdout",
     "output_type": "stream",
     "text": [
      "1 0.9268593749999999\n",
      "2 0.281011375\n",
      "low 0\n",
      "high 0\n",
      "spec 1\n",
      "gen 0\n"
     ]
    },
    {
     "name": "stderr",
     "output_type": "stream",
     "text": [
      "\r",
      " 72%|███████▎  | 725/1000 [02:18<01:14,  3.69it/s]"
     ]
    },
    {
     "name": "stdout",
     "output_type": "stream",
     "text": [
      "1 0.8847359999999999\n",
      "2 0.274625\n",
      "low 0\n",
      "high 0\n",
      "spec 1\n",
      "gen 0\n"
     ]
    },
    {
     "name": "stderr",
     "output_type": "stream",
     "text": [
      "\r",
      " 73%|███████▎  | 726/1000 [02:19<01:13,  3.72it/s]"
     ]
    },
    {
     "name": "stdout",
     "output_type": "stream",
     "text": [
      "1 0.8986321249999999\n",
      "2 0.281011375\n",
      "low 0\n",
      "high 0\n",
      "spec 1\n",
      "gen 0\n"
     ]
    },
    {
     "name": "stderr",
     "output_type": "stream",
     "text": [
      "\r",
      " 73%|███████▎  | 727/1000 [02:19<01:11,  3.82it/s]"
     ]
    },
    {
     "name": "stdout",
     "output_type": "stream",
     "text": [
      "1 0.9484133906250001\n",
      "2 0.30414232812499997\n",
      "low 0\n",
      "high 1\n",
      "spec 0\n",
      "gen 0\n"
     ]
    },
    {
     "name": "stderr",
     "output_type": "stream",
     "text": [
      "\r",
      " 73%|███████▎  | 728/1000 [02:19<01:09,  3.91it/s]"
     ]
    },
    {
     "name": "stdout",
     "output_type": "stream",
     "text": [
      "1 0.9197479531250001\n",
      "2 0.29077539062499996\n",
      "low 0\n",
      "high 0\n",
      "spec 1\n",
      "gen 0\n"
     ]
    },
    {
     "name": "stderr",
     "output_type": "stream",
     "text": [
      "\r",
      " 73%|███████▎  | 729/1000 [02:19<01:08,  3.94it/s]"
     ]
    },
    {
     "name": "stdout",
     "output_type": "stream",
     "text": [
      "1 0.9776683281249998\n",
      "2 0.30414232812499997\n",
      "low 0\n",
      "high 1\n",
      "spec 0\n",
      "gen 0\n"
     ]
    },
    {
     "name": "stderr",
     "output_type": "stream",
     "text": [
      "\r",
      " 73%|███████▎  | 730/1000 [02:20<01:09,  3.87it/s]"
     ]
    },
    {
     "name": "stdout",
     "output_type": "stream",
     "text": [
      "1 0.8847359999999999\n",
      "2 0.274625\n",
      "low 0\n",
      "high 0\n",
      "spec 1\n",
      "gen 0\n"
     ]
    },
    {
     "name": "stderr",
     "output_type": "stream",
     "text": [
      "\r",
      " 73%|███████▎  | 731/1000 [02:20<01:09,  3.85it/s]"
     ]
    },
    {
     "name": "stdout",
     "output_type": "stream",
     "text": [
      "1 0.8847359999999999\n",
      "2 0.274625\n",
      "low 0\n",
      "high 0\n",
      "spec 1\n",
      "gen 0\n"
     ]
    },
    {
     "name": "stderr",
     "output_type": "stream",
     "text": [
      "\r",
      " 73%|███████▎  | 732/1000 [02:20<01:07,  3.96it/s]"
     ]
    },
    {
     "name": "stdout",
     "output_type": "stream",
     "text": [
      "1 0.891666015625\n",
      "2 0.310976734375\n",
      "low 0\n",
      "high 1\n",
      "spec 0\n",
      "gen 0\n"
     ]
    },
    {
     "name": "stderr",
     "output_type": "stream",
     "text": [
      "\r",
      " 73%|███████▎  | 733/1000 [02:20<01:08,  3.87it/s]"
     ]
    },
    {
     "name": "stdout",
     "output_type": "stream",
     "text": [
      "1 0.8847359999999999\n",
      "2 0.274625\n",
      "low 0\n",
      "high 0\n",
      "spec 1\n",
      "gen 0\n"
     ]
    },
    {
     "name": "stderr",
     "output_type": "stream",
     "text": [
      "\r",
      " 73%|███████▎  | 734/1000 [02:21<01:09,  3.82it/s]"
     ]
    },
    {
     "name": "stdout",
     "output_type": "stream",
     "text": [
      "1 0.9197479531250001\n",
      "2 0.34668814062500003\n",
      "low 0\n",
      "high 1\n",
      "spec 0\n",
      "gen 0\n"
     ]
    },
    {
     "name": "stderr",
     "output_type": "stream",
     "text": [
      "\r",
      " 74%|███████▎  | 735/1000 [02:21<01:08,  3.89it/s]"
     ]
    },
    {
     "name": "stdout",
     "output_type": "stream",
     "text": [
      "1 0.8847359999999999\n",
      "2 0.274625\n",
      "low 0\n",
      "high 0\n",
      "spec 1\n",
      "gen 0\n"
     ]
    },
    {
     "name": "stderr",
     "output_type": "stream",
     "text": [
      "\r",
      " 74%|███████▎  | 736/1000 [02:21<01:14,  3.53it/s]"
     ]
    },
    {
     "name": "stdout",
     "output_type": "stream",
     "text": [
      "1 0.9197479531250001\n",
      "2 0.34668814062500003\n",
      "low 0\n",
      "high 1\n",
      "spec 0\n",
      "gen 0\n",
      "1 0.9197479531250001\n",
      "2 0.29077539062499996\n",
      "low 0\n",
      "high 0\n",
      "spec 1\n",
      "gen 0\n"
     ]
    },
    {
     "name": "stderr",
     "output_type": "stream",
     "text": [
      " 74%|███████▍  | 738/1000 [02:22<01:22,  3.17it/s]"
     ]
    },
    {
     "name": "stdout",
     "output_type": "stream",
     "text": [
      "1 0.970299\n",
      "2 0.3007629999999999\n",
      "low 0\n",
      "high 1\n",
      "spec 0\n",
      "gen 0\n"
     ]
    },
    {
     "name": "stderr",
     "output_type": "stream",
     "text": [
      "\r",
      " 74%|███████▍  | 739/1000 [02:22<01:15,  3.47it/s]"
     ]
    },
    {
     "name": "stdout",
     "output_type": "stream",
     "text": [
      "1 0.8847359999999999\n",
      "2 0.30754687500000005\n",
      "low 0\n",
      "high 1\n",
      "spec 0\n",
      "gen 0\n"
     ]
    },
    {
     "name": "stderr",
     "output_type": "stream",
     "text": [
      "\r",
      " 74%|███████▍  | 740/1000 [02:22<01:11,  3.66it/s]"
     ]
    },
    {
     "name": "stdout",
     "output_type": "stream",
     "text": [
      "1 0.9776683281249998\n",
      "2 0.30414232812499997\n",
      "low 0\n",
      "high 1\n",
      "spec 0\n",
      "gen 0\n"
     ]
    },
    {
     "name": "stderr",
     "output_type": "stream",
     "text": [
      "\r",
      " 74%|███████▍  | 741/1000 [02:23<01:10,  3.69it/s]"
     ]
    },
    {
     "name": "stdout",
     "output_type": "stream",
     "text": [
      "1 0.9197479531250001\n",
      "2 0.29077539062499996\n",
      "low 0\n",
      "high 0\n",
      "spec 1\n",
      "gen 0\n"
     ]
    },
    {
     "name": "stderr",
     "output_type": "stream",
     "text": [
      "\r",
      " 74%|███████▍  | 742/1000 [02:23<01:09,  3.74it/s]"
     ]
    },
    {
     "name": "stdout",
     "output_type": "stream",
     "text": [
      "1 0.9197479531250001\n",
      "2 0.29077539062499996\n",
      "low 0\n",
      "high 0\n",
      "spec 1\n",
      "gen 0\n"
     ]
    },
    {
     "name": "stderr",
     "output_type": "stream",
     "text": [
      "\r",
      " 74%|███████▍  | 743/1000 [02:23<01:07,  3.81it/s]"
     ]
    },
    {
     "name": "stdout",
     "output_type": "stream",
     "text": [
      "1 0.970299\n",
      "2 0.3007629999999999\n",
      "low 0\n",
      "high 1\n",
      "spec 0\n",
      "gen 0\n"
     ]
    },
    {
     "name": "stderr",
     "output_type": "stream",
     "text": [
      "\r",
      " 74%|███████▍  | 744/1000 [02:24<01:05,  3.93it/s]"
     ]
    },
    {
     "name": "stdout",
     "output_type": "stream",
     "text": [
      "1 0.850624046875\n",
      "2 0.324951171875\n",
      "low 0\n",
      "high 1\n",
      "spec 0\n",
      "gen 0\n"
     ]
    },
    {
     "name": "stderr",
     "output_type": "stream",
     "text": [
      "\r",
      " 74%|███████▍  | 745/1000 [02:24<01:06,  3.84it/s]"
     ]
    },
    {
     "name": "stdout",
     "output_type": "stream",
     "text": [
      "1 0.9197479531250001\n",
      "2 0.29077539062499996\n",
      "low 0\n",
      "high 0\n",
      "spec 1\n",
      "gen 0\n"
     ]
    },
    {
     "name": "stderr",
     "output_type": "stream",
     "text": [
      "\r",
      " 75%|███████▍  | 746/1000 [02:24<01:04,  3.93it/s]"
     ]
    },
    {
     "name": "stdout",
     "output_type": "stream",
     "text": [
      "1 0.785053265625\n",
      "2 0.4261078281249999\n",
      "low 0\n",
      "high 1\n",
      "spec 0\n",
      "gen 0\n"
     ]
    },
    {
     "name": "stderr",
     "output_type": "stream",
     "text": [
      "\r",
      " 75%|███████▍  | 747/1000 [02:24<01:04,  3.89it/s]"
     ]
    },
    {
     "name": "stdout",
     "output_type": "stream",
     "text": [
      "1 0.8439086249999999\n",
      "2 0.3429999999999999\n",
      "low 0\n",
      "high 1\n",
      "spec 0\n",
      "gen 0\n"
     ]
    },
    {
     "name": "stderr",
     "output_type": "stream",
     "text": [
      "\r",
      " 75%|███████▍  | 748/1000 [02:25<01:05,  3.86it/s]"
     ]
    },
    {
     "name": "stdout",
     "output_type": "stream",
     "text": [
      "1 0.9776683281249998\n",
      "2 0.30414232812499997\n",
      "low 0\n",
      "high 1\n",
      "spec 0\n",
      "gen 0\n"
     ]
    },
    {
     "name": "stderr",
     "output_type": "stream",
     "text": [
      "\r",
      " 75%|███████▍  | 749/1000 [02:25<01:09,  3.63it/s]"
     ]
    },
    {
     "name": "stdout",
     "output_type": "stream",
     "text": [
      "1 0.850624046875\n",
      "2 0.324951171875\n",
      "low 0\n",
      "high 1\n",
      "spec 0\n",
      "gen 0\n",
      "1 0.9197479531250001\n",
      "2 0.29077539062499996\n",
      "low 0\n",
      "high 0\n",
      "spec 1\n",
      "gen 0\n"
     ]
    },
    {
     "name": "stderr",
     "output_type": "stream",
     "text": [
      " 75%|███████▌  | 751/1000 [02:26<01:17,  3.19it/s]"
     ]
    },
    {
     "name": "stdout",
     "output_type": "stream",
     "text": [
      "1 0.9197479531250001\n",
      "2 0.29077539062499996\n",
      "low 0\n",
      "high 0\n",
      "spec 1\n",
      "gen 0\n"
     ]
    },
    {
     "name": "stderr",
     "output_type": "stream",
     "text": [
      "\r",
      " 75%|███████▌  | 752/1000 [02:26<01:15,  3.27it/s]"
     ]
    },
    {
     "name": "stdout",
     "output_type": "stream",
     "text": [
      "1 0.891666015625\n",
      "2 0.310976734375\n",
      "low 0\n",
      "high 1\n",
      "spec 0\n",
      "gen 0\n"
     ]
    },
    {
     "name": "stderr",
     "output_type": "stream",
     "text": [
      "\r",
      " 75%|███████▌  | 753/1000 [02:26<01:09,  3.53it/s]"
     ]
    },
    {
     "name": "stdout",
     "output_type": "stream",
     "text": [
      "1 0.9776683281249998\n",
      "2 0.30414232812499997\n",
      "low 0\n",
      "high 1\n",
      "spec 0\n",
      "gen 0\n",
      "1 0.9197479531250001\n",
      "2 0.29077539062499996\n",
      "low 0\n",
      "high 0\n",
      "spec 1\n",
      "gen 0\n"
     ]
    },
    {
     "name": "stderr",
     "output_type": "stream",
     "text": [
      " 76%|███████▌  | 755/1000 [02:27<01:05,  3.76it/s]"
     ]
    },
    {
     "name": "stdout",
     "output_type": "stream",
     "text": [
      "1 0.9056344218750001\n",
      "2 0.2652280156249999\n",
      "low 0\n",
      "high 0\n",
      "spec 1\n",
      "gen 0\n"
     ]
    },
    {
     "name": "stderr",
     "output_type": "stream",
     "text": [
      "\r",
      " 76%|███████▌  | 756/1000 [02:27<01:07,  3.61it/s]"
     ]
    },
    {
     "name": "stdout",
     "output_type": "stream",
     "text": [
      "1 0.891666015625\n",
      "2 0.310976734375\n",
      "low 0\n",
      "high 1\n",
      "spec 0\n",
      "gen 0\n"
     ]
    },
    {
     "name": "stderr",
     "output_type": "stream",
     "text": [
      "\r",
      " 76%|███████▌  | 757/1000 [02:27<01:05,  3.70it/s]"
     ]
    },
    {
     "name": "stdout",
     "output_type": "stream",
     "text": [
      "1 0.9056344218750001\n",
      "2 0.2652280156249999\n",
      "low 0\n",
      "high 0\n",
      "spec 1\n",
      "gen 0\n"
     ]
    },
    {
     "name": "stderr",
     "output_type": "stream",
     "text": [
      "\r",
      " 76%|███████▌  | 758/1000 [02:27<01:03,  3.78it/s]"
     ]
    },
    {
     "name": "stdout",
     "output_type": "stream",
     "text": [
      "1 0.9056344218750001\n",
      "2 0.28424135937499995\n",
      "low 0\n",
      "high 0\n",
      "spec 1\n",
      "gen 0\n"
     ]
    },
    {
     "name": "stderr",
     "output_type": "stream",
     "text": [
      "\r",
      " 76%|███████▌  | 759/1000 [02:28<01:04,  3.72it/s]"
     ]
    },
    {
     "name": "stdout",
     "output_type": "stream",
     "text": [
      "1 0.9197479531250001\n",
      "2 0.29077539062499996\n",
      "low 0\n",
      "high 0\n",
      "spec 1\n",
      "gen 0\n"
     ]
    },
    {
     "name": "stderr",
     "output_type": "stream",
     "text": [
      "\r",
      " 76%|███████▌  | 760/1000 [02:28<01:06,  3.62it/s]"
     ]
    },
    {
     "name": "stdout",
     "output_type": "stream",
     "text": [
      "1 0.9776683281249998\n",
      "2 0.30414232812499997\n",
      "low 0\n",
      "high 1\n",
      "spec 0\n",
      "gen 0\n"
     ]
    },
    {
     "name": "stderr",
     "output_type": "stream",
     "text": [
      "\r",
      " 76%|███████▌  | 761/1000 [02:28<01:07,  3.54it/s]"
     ]
    },
    {
     "name": "stdout",
     "output_type": "stream",
     "text": [
      "1 0.9484133906250001\n",
      "2 0.332092703125\n",
      "low 0\n",
      "high 1\n",
      "spec 0\n",
      "gen 0\n",
      "1 0.891666015625\n",
      "2 0.25908398437499996\n",
      "low 0\n",
      "high 0\n",
      "spec 1\n",
      "gen 0\n"
     ]
    },
    {
     "name": "stderr",
     "output_type": "stream",
     "text": [
      " 76%|███████▋  | 763/1000 [02:29<01:11,  3.30it/s]"
     ]
    },
    {
     "name": "stdout",
     "output_type": "stream",
     "text": [
      "1 0.9925187343750002\n",
      "2 0.310976734375\n",
      "low 0\n",
      "high 1\n",
      "spec 0\n",
      "gen 0\n"
     ]
    },
    {
     "name": "stderr",
     "output_type": "stream",
     "text": [
      "\r",
      " 76%|███████▋  | 764/1000 [02:29<01:07,  3.49it/s]"
     ]
    },
    {
     "name": "stdout",
     "output_type": "stream",
     "text": [
      "1 0.912673\n",
      "2 0.31443199999999993\n",
      "low 0\n",
      "high 1\n",
      "spec 0\n",
      "gen 0\n"
     ]
    },
    {
     "name": "stderr",
     "output_type": "stream",
     "text": [
      "\r",
      " 76%|███████▋  | 765/1000 [02:29<01:03,  3.71it/s]"
     ]
    },
    {
     "name": "stdout",
     "output_type": "stream",
     "text": [
      "1 0.9776683281249998\n",
      "2 0.30414232812499997\n",
      "low 0\n",
      "high 1\n",
      "spec 0\n",
      "gen 0\n"
     ]
    },
    {
     "name": "stderr",
     "output_type": "stream",
     "text": [
      "\r",
      " 77%|███████▋  | 766/1000 [02:30<01:03,  3.70it/s]"
     ]
    },
    {
     "name": "stdout",
     "output_type": "stream",
     "text": [
      "1 0.9776683281249998\n",
      "2 0.30414232812499997\n",
      "low 0\n",
      "high 1\n",
      "spec 0\n",
      "gen 0\n"
     ]
    },
    {
     "name": "stderr",
     "output_type": "stream",
     "text": [
      "\r",
      " 77%|███████▋  | 767/1000 [02:30<01:03,  3.69it/s]"
     ]
    },
    {
     "name": "stdout",
     "output_type": "stream",
     "text": [
      "1 0.970299\n",
      "2 0.30754687500000005\n",
      "low 0\n",
      "high 1\n",
      "spec 0\n",
      "gen 0\n"
     ]
    },
    {
     "name": "stderr",
     "output_type": "stream",
     "text": [
      "\r",
      " 77%|███████▋  | 768/1000 [02:30<01:02,  3.74it/s]"
     ]
    },
    {
     "name": "stdout",
     "output_type": "stream",
     "text": [
      "1 0.9925187343750002\n",
      "2 0.310976734375\n",
      "low 0\n",
      "high 1\n",
      "spec 0\n",
      "gen 0\n"
     ]
    },
    {
     "name": "stderr",
     "output_type": "stream",
     "text": [
      "\r",
      " 77%|███████▋  | 769/1000 [02:30<01:00,  3.84it/s]"
     ]
    },
    {
     "name": "stdout",
     "output_type": "stream",
     "text": [
      "1 0.9776683281249998\n",
      "2 0.30414232812499997\n",
      "low 0\n",
      "high 1\n",
      "spec 0\n",
      "gen 0\n"
     ]
    },
    {
     "name": "stderr",
     "output_type": "stream",
     "text": [
      "\r",
      " 77%|███████▋  | 770/1000 [02:31<01:01,  3.76it/s]"
     ]
    },
    {
     "name": "stdout",
     "output_type": "stream",
     "text": [
      "1 0.9776683281249998\n",
      "2 0.30414232812499997\n",
      "low 0\n",
      "high 1\n",
      "spec 0\n",
      "gen 0\n"
     ]
    },
    {
     "name": "stderr",
     "output_type": "stream",
     "text": [
      "\r",
      " 77%|███████▋  | 771/1000 [02:31<00:59,  3.84it/s]"
     ]
    },
    {
     "name": "stdout",
     "output_type": "stream",
     "text": [
      "1 0.9340073593750001\n",
      "2 0.28424135937499995\n",
      "low 0\n",
      "high 0\n",
      "spec 1\n",
      "gen 0\n"
     ]
    },
    {
     "name": "stderr",
     "output_type": "stream",
     "text": [
      "\r",
      " 77%|███████▋  | 772/1000 [02:31<00:57,  3.96it/s]"
     ]
    },
    {
     "name": "stdout",
     "output_type": "stream",
     "text": [
      "1 0.9776683281249998\n",
      "2 0.30414232812499997\n",
      "low 0\n",
      "high 1\n",
      "spec 0\n",
      "gen 0\n"
     ]
    },
    {
     "name": "stderr",
     "output_type": "stream",
     "text": [
      "\r",
      " 77%|███████▋  | 773/1000 [02:31<00:57,  3.95it/s]"
     ]
    },
    {
     "name": "stdout",
     "output_type": "stream",
     "text": [
      "1 0.9776683281249998\n",
      "2 0.30414232812499997\n",
      "low 0\n",
      "high 1\n",
      "spec 0\n",
      "gen 0\n"
     ]
    },
    {
     "name": "stderr",
     "output_type": "stream",
     "text": [
      "\r",
      " 77%|███████▋  | 774/1000 [02:32<00:58,  3.84it/s]"
     ]
    },
    {
     "name": "stdout",
     "output_type": "stream",
     "text": [
      "1 0.4346582343750001\n",
      "2 0.083740234375\n",
      "low 1\n",
      "high 0\n",
      "spec 0\n",
      "gen 0\n"
     ]
    },
    {
     "name": "stderr",
     "output_type": "stream",
     "text": [
      "\r",
      " 78%|███████▊  | 775/1000 [02:32<01:01,  3.64it/s]"
     ]
    },
    {
     "name": "stdout",
     "output_type": "stream",
     "text": [
      "1 0.9776683281249998\n",
      "2 0.30414232812499997\n",
      "low 0\n",
      "high 1\n",
      "spec 0\n",
      "gen 0\n"
     ]
    },
    {
     "name": "stderr",
     "output_type": "stream",
     "text": [
      "\r",
      " 78%|███████▊  | 776/1000 [02:32<00:59,  3.77it/s]"
     ]
    },
    {
     "name": "stdout",
     "output_type": "stream",
     "text": [
      "1 0.9776683281249998\n",
      "2 0.30414232812499997\n",
      "low 0\n",
      "high 1\n",
      "spec 0\n",
      "gen 0\n"
     ]
    },
    {
     "name": "stderr",
     "output_type": "stream",
     "text": [
      "\r",
      " 78%|███████▊  | 777/1000 [02:33<00:59,  3.77it/s]"
     ]
    },
    {
     "name": "stdout",
     "output_type": "stream",
     "text": [
      "1 0.9776683281249998\n",
      "2 0.30414232812499997\n",
      "low 0\n",
      "high 1\n",
      "spec 0\n",
      "gen 0\n"
     ]
    },
    {
     "name": "stderr",
     "output_type": "stream",
     "text": [
      "\r",
      " 78%|███████▊  | 778/1000 [02:33<00:58,  3.78it/s]"
     ]
    },
    {
     "name": "stdout",
     "output_type": "stream",
     "text": [
      "1 0.576969328125\n",
      "2 0.598011765625\n",
      "low 0\n",
      "high 0\n",
      "spec 0\n",
      "gen 1\n"
     ]
    },
    {
     "name": "stderr",
     "output_type": "stream",
     "text": [
      "\r",
      " 78%|███████▊  | 779/1000 [02:33<00:58,  3.80it/s]"
     ]
    },
    {
     "name": "stdout",
     "output_type": "stream",
     "text": [
      "1 0.985074875\n",
      "2 0.3007629999999999\n",
      "low 0\n",
      "high 1\n",
      "spec 0\n",
      "gen 0\n"
     ]
    },
    {
     "name": "stderr",
     "output_type": "stream",
     "text": [
      "\r",
      " 78%|███████▊  | 780/1000 [02:33<00:57,  3.84it/s]"
     ]
    },
    {
     "name": "stdout",
     "output_type": "stream",
     "text": [
      "1 0.8847359999999999\n",
      "2 0.25604787500000004\n",
      "low 0\n",
      "high 0\n",
      "spec 1\n",
      "gen 0\n"
     ]
    },
    {
     "name": "stderr",
     "output_type": "stream",
     "text": [
      "\r",
      " 78%|███████▊  | 781/1000 [02:34<00:58,  3.77it/s]"
     ]
    },
    {
     "name": "stdout",
     "output_type": "stream",
     "text": [
      "1 0.9056344218750001\n",
      "2 0.2652280156250001\n",
      "low 0\n",
      "high 0\n",
      "spec 1\n",
      "gen 0\n"
     ]
    },
    {
     "name": "stderr",
     "output_type": "stream",
     "text": [
      "\r",
      " 78%|███████▊  | 782/1000 [02:34<00:57,  3.82it/s]"
     ]
    },
    {
     "name": "stdout",
     "output_type": "stream",
     "text": [
      "1 0.985074875\n",
      "2 0.3007629999999999\n",
      "low 0\n",
      "high 1\n",
      "spec 0\n",
      "gen 0\n"
     ]
    },
    {
     "name": "stderr",
     "output_type": "stream",
     "text": [
      "\r",
      " 78%|███████▊  | 783/1000 [02:34<00:56,  3.85it/s]"
     ]
    },
    {
     "name": "stdout",
     "output_type": "stream",
     "text": [
      "1 0.497734578125\n",
      "2 0.497734578125\n",
      "low 0\n",
      "high 0\n",
      "spec 0\n",
      "gen 1\n"
     ]
    },
    {
     "name": "stderr",
     "output_type": "stream",
     "text": [
      "\r",
      " 78%|███████▊  | 784/1000 [02:34<00:55,  3.92it/s]"
     ]
    },
    {
     "name": "stdout",
     "output_type": "stream",
     "text": [
      "1 0.9484133906250001\n",
      "2 0.332092703125\n",
      "low 0\n",
      "high 1\n",
      "spec 0\n",
      "gen 0\n"
     ]
    },
    {
     "name": "stderr",
     "output_type": "stream",
     "text": [
      "\r",
      " 78%|███████▊  | 785/1000 [02:35<00:56,  3.82it/s]"
     ]
    },
    {
     "name": "stdout",
     "output_type": "stream",
     "text": [
      "1 0.9484133906250001\n",
      "2 0.332092703125\n",
      "low 0\n",
      "high 1\n",
      "spec 0\n",
      "gen 0\n"
     ]
    },
    {
     "name": "stderr",
     "output_type": "stream",
     "text": [
      "\r",
      " 79%|███████▊  | 786/1000 [02:35<00:56,  3.82it/s]"
     ]
    },
    {
     "name": "stdout",
     "output_type": "stream",
     "text": [
      "1 0.891666015625\n",
      "2 0.36170507812499986\n",
      "low 0\n",
      "high 1\n",
      "spec 0\n",
      "gen 0\n"
     ]
    },
    {
     "name": "stderr",
     "output_type": "stream",
     "text": [
      "\r",
      " 79%|███████▊  | 787/1000 [02:35<01:00,  3.53it/s]"
     ]
    },
    {
     "name": "stdout",
     "output_type": "stream",
     "text": [
      "1 0.9556716249999999\n",
      "2 0.30754687500000005\n",
      "low 0\n",
      "high 1\n",
      "spec 0\n",
      "gen 0\n"
     ]
    },
    {
     "name": "stderr",
     "output_type": "stream",
     "text": [
      "\r",
      " 79%|███████▉  | 788/1000 [02:36<00:59,  3.59it/s]"
     ]
    },
    {
     "name": "stdout",
     "output_type": "stream",
     "text": [
      "1 0.9776683281249998\n",
      "2 0.30414232812499997\n",
      "low 0\n",
      "high 1\n",
      "spec 0\n",
      "gen 0\n"
     ]
    },
    {
     "name": "stderr",
     "output_type": "stream",
     "text": [
      "\r",
      " 79%|███████▉  | 789/1000 [02:36<00:57,  3.70it/s]"
     ]
    },
    {
     "name": "stdout",
     "output_type": "stream",
     "text": [
      "1 0.9484133906250001\n",
      "2 0.29077539062499996\n",
      "low 0\n",
      "high 0\n",
      "spec 1\n",
      "gen 0\n"
     ]
    },
    {
     "name": "stderr",
     "output_type": "stream",
     "text": [
      "\r",
      " 79%|███████▉  | 790/1000 [02:36<00:54,  3.85it/s]"
     ]
    },
    {
     "name": "stdout",
     "output_type": "stream",
     "text": [
      "1 0.9776683281249998\n",
      "2 0.30414232812499997\n",
      "low 0\n",
      "high 1\n",
      "spec 0\n",
      "gen 0\n"
     ]
    },
    {
     "name": "stderr",
     "output_type": "stream",
     "text": [
      "\r",
      " 79%|███████▉  | 791/1000 [02:36<00:53,  3.93it/s]"
     ]
    },
    {
     "name": "stdout",
     "output_type": "stream",
     "text": [
      "1 0.8573749999999999\n",
      "2 0.3579109999999999\n",
      "low 0\n",
      "high 1\n",
      "spec 0\n",
      "gen 0\n"
     ]
    },
    {
     "name": "stderr",
     "output_type": "stream",
     "text": [
      "\r",
      " 79%|███████▉  | 792/1000 [02:36<00:52,  3.94it/s]"
     ]
    },
    {
     "name": "stdout",
     "output_type": "stream",
     "text": [
      "1 0.3850339218750001\n",
      "2 0.3850339218750001\n",
      "low 0\n",
      "high 0\n",
      "spec 0\n",
      "gen 1\n"
     ]
    },
    {
     "name": "stderr",
     "output_type": "stream",
     "text": [
      "\r",
      " 79%|███████▉  | 793/1000 [02:37<00:54,  3.81it/s]"
     ]
    },
    {
     "name": "stdout",
     "output_type": "stream",
     "text": [
      "1 0.9556716249999999\n",
      "2 0.30754687500000005\n",
      "low 0\n",
      "high 1\n",
      "spec 0\n",
      "gen 0\n"
     ]
    },
    {
     "name": "stderr",
     "output_type": "stream",
     "text": [
      "\r",
      " 79%|███████▉  | 794/1000 [02:37<00:54,  3.76it/s]"
     ]
    },
    {
     "name": "stdout",
     "output_type": "stream",
     "text": [
      "1 0.9776683281249998\n",
      "2 0.30414232812499997\n",
      "low 0\n",
      "high 1\n",
      "spec 0\n",
      "gen 0\n"
     ]
    },
    {
     "name": "stderr",
     "output_type": "stream",
     "text": [
      "\r",
      " 80%|███████▉  | 795/1000 [02:37<00:54,  3.79it/s]"
     ]
    },
    {
     "name": "stdout",
     "output_type": "stream",
     "text": [
      "1 0.891666015625\n",
      "2 0.25908398437499996\n",
      "low 0\n",
      "high 0\n",
      "spec 1\n",
      "gen 0\n"
     ]
    },
    {
     "name": "stderr",
     "output_type": "stream",
     "text": [
      "\r",
      " 80%|███████▉  | 796/1000 [02:38<00:54,  3.76it/s]"
     ]
    },
    {
     "name": "stdout",
     "output_type": "stream",
     "text": [
      "1 0.810861203125\n",
      "2 0.324951171875\n",
      "low 0\n",
      "high 1\n",
      "spec 0\n",
      "gen 0\n"
     ]
    },
    {
     "name": "stderr",
     "output_type": "stream",
     "text": [
      "\r",
      " 80%|███████▉  | 797/1000 [02:38<00:53,  3.79it/s]"
     ]
    },
    {
     "name": "stdout",
     "output_type": "stream",
     "text": [
      "1 0.9484133906250001\n",
      "2 0.28424135937499995\n",
      "low 0\n",
      "high 0\n",
      "spec 1\n",
      "gen 0\n"
     ]
    },
    {
     "name": "stderr",
     "output_type": "stream",
     "text": [
      "\r",
      " 80%|███████▉  | 798/1000 [02:38<00:52,  3.88it/s]"
     ]
    },
    {
     "name": "stdout",
     "output_type": "stream",
     "text": [
      "1 0.9556716249999999\n",
      "2 0.32850899999999994\n",
      "low 0\n",
      "high 1\n",
      "spec 0\n",
      "gen 0\n"
     ]
    },
    {
     "name": "stderr",
     "output_type": "stream",
     "text": [
      "\r",
      " 80%|███████▉  | 799/1000 [02:38<00:51,  3.91it/s]"
     ]
    },
    {
     "name": "stdout",
     "output_type": "stream",
     "text": [
      "1 0.9556716249999999\n",
      "2 0.32850899999999994\n",
      "low 0\n",
      "high 1\n",
      "spec 0\n",
      "gen 0\n"
     ]
    },
    {
     "name": "stderr",
     "output_type": "stream",
     "text": [
      "\r",
      " 80%|████████  | 800/1000 [02:39<00:53,  3.72it/s]"
     ]
    },
    {
     "name": "stdout",
     "output_type": "stream",
     "text": [
      "1 0\n",
      "2 0\n",
      "low 1\n",
      "high 0\n",
      "spec 0\n",
      "gen 0\n"
     ]
    },
    {
     "name": "stderr",
     "output_type": "stream",
     "text": [
      "\r",
      " 80%|████████  | 801/1000 [02:39<00:56,  3.50it/s]"
     ]
    },
    {
     "name": "stdout",
     "output_type": "stream",
     "text": [
      "1 0.9556716249999999\n",
      "2 0.30754687500000005\n",
      "low 0\n",
      "high 1\n",
      "spec 0\n",
      "gen 0\n"
     ]
    },
    {
     "name": "stderr",
     "output_type": "stream",
     "text": [
      "\r",
      " 80%|████████  | 802/1000 [02:39<00:54,  3.66it/s]"
     ]
    },
    {
     "name": "stdout",
     "output_type": "stream",
     "text": [
      "1 0.9556716249999999\n",
      "2 0.30754687500000005\n",
      "low 0\n",
      "high 1\n",
      "spec 0\n",
      "gen 0\n"
     ]
    },
    {
     "name": "stderr",
     "output_type": "stream",
     "text": [
      "\r",
      " 80%|████████  | 803/1000 [02:39<00:51,  3.83it/s]"
     ]
    },
    {
     "name": "stdout",
     "output_type": "stream",
     "text": [
      "1 0.891666015625\n",
      "2 0.36170507812499986\n",
      "low 0\n",
      "high 1\n",
      "spec 0\n",
      "gen 0\n"
     ]
    },
    {
     "name": "stderr",
     "output_type": "stream",
     "text": [
      "\r",
      " 80%|████████  | 804/1000 [02:40<00:52,  3.76it/s]"
     ]
    },
    {
     "name": "stdout",
     "output_type": "stream",
     "text": [
      "1 0.9776683281249998\n",
      "2 0.30414232812499997\n",
      "low 0\n",
      "high 1\n",
      "spec 0\n",
      "gen 0\n"
     ]
    },
    {
     "name": "stderr",
     "output_type": "stream",
     "text": [
      "\r",
      " 80%|████████  | 805/1000 [02:40<00:51,  3.76it/s]"
     ]
    },
    {
     "name": "stdout",
     "output_type": "stream",
     "text": [
      "1 0.7412176250000001\n",
      "2 0.456533\n",
      "low 0\n",
      "high 1\n",
      "spec 0\n",
      "gen 0\n"
     ]
    },
    {
     "name": "stderr",
     "output_type": "stream",
     "text": [
      "\r",
      " 81%|████████  | 806/1000 [02:40<00:51,  3.80it/s]"
     ]
    },
    {
     "name": "stdout",
     "output_type": "stream",
     "text": [
      "1 0.9056344218750001\n",
      "2 0.35414354687500005\n",
      "low 0\n",
      "high 1\n",
      "spec 0\n",
      "gen 0\n"
     ]
    },
    {
     "name": "stderr",
     "output_type": "stream",
     "text": [
      "\r",
      " 81%|████████  | 807/1000 [02:40<00:50,  3.79it/s]"
     ]
    },
    {
     "name": "stdout",
     "output_type": "stream",
     "text": [
      "1 0.9776683281249998\n",
      "2 0.30414232812499997\n",
      "low 0\n",
      "high 1\n",
      "spec 0\n",
      "gen 0\n"
     ]
    },
    {
     "name": "stderr",
     "output_type": "stream",
     "text": [
      "\r",
      " 81%|████████  | 808/1000 [02:41<00:50,  3.77it/s]"
     ]
    },
    {
     "name": "stdout",
     "output_type": "stream",
     "text": [
      "1 0.891666015625\n",
      "2 0.36170507812499986\n",
      "low 0\n",
      "high 1\n",
      "spec 0\n",
      "gen 0\n"
     ]
    },
    {
     "name": "stderr",
     "output_type": "stream",
     "text": [
      "\r",
      " 81%|████████  | 809/1000 [02:41<00:49,  3.84it/s]"
     ]
    },
    {
     "name": "stdout",
     "output_type": "stream",
     "text": [
      "1 0.9776683281249998\n",
      "2 0.30414232812499997\n",
      "low 0\n",
      "high 1\n",
      "spec 0\n",
      "gen 0\n"
     ]
    },
    {
     "name": "stderr",
     "output_type": "stream",
     "text": [
      "\r",
      " 81%|████████  | 810/1000 [02:41<00:54,  3.51it/s]"
     ]
    },
    {
     "name": "stdout",
     "output_type": "stream",
     "text": [
      "1 0.9776683281249998\n",
      "2 0.297408796875\n",
      "low 0\n",
      "high 0\n",
      "spec 1\n",
      "gen 0\n"
     ]
    },
    {
     "name": "stderr",
     "output_type": "stream",
     "text": [
      "\r",
      " 81%|████████  | 811/1000 [02:42<00:53,  3.53it/s]"
     ]
    },
    {
     "name": "stdout",
     "output_type": "stream",
     "text": [
      "1 0.9268593749999999\n",
      "2 0.274625\n",
      "low 0\n",
      "high 0\n",
      "spec 1\n",
      "gen 0\n"
     ]
    },
    {
     "name": "stderr",
     "output_type": "stream",
     "text": [
      "\r",
      " 81%|████████  | 812/1000 [02:42<00:53,  3.49it/s]"
     ]
    },
    {
     "name": "stdout",
     "output_type": "stream",
     "text": [
      "1 0.912673\n",
      "2 0.35040262499999997\n",
      "low 0\n",
      "high 1\n",
      "spec 0\n",
      "gen 0\n"
     ]
    },
    {
     "name": "stderr",
     "output_type": "stream",
     "text": [
      "\r",
      " 81%|████████▏ | 813/1000 [02:42<00:53,  3.52it/s]"
     ]
    },
    {
     "name": "stdout",
     "output_type": "stream",
     "text": [
      "1 0.9776683281249998\n",
      "2 0.30414232812499997\n",
      "low 0\n",
      "high 1\n",
      "spec 0\n",
      "gen 0\n"
     ]
    },
    {
     "name": "stderr",
     "output_type": "stream",
     "text": [
      "\r",
      " 81%|████████▏ | 814/1000 [02:42<00:53,  3.49it/s]"
     ]
    },
    {
     "name": "stdout",
     "output_type": "stream",
     "text": [
      "1 0.9776683281249998\n",
      "2 0.30414232812499997\n",
      "low 0\n",
      "high 1\n",
      "spec 0\n",
      "gen 0\n"
     ]
    },
    {
     "name": "stderr",
     "output_type": "stream",
     "text": [
      "\r",
      " 82%|████████▏ | 815/1000 [02:43<00:51,  3.60it/s]"
     ]
    },
    {
     "name": "stdout",
     "output_type": "stream",
     "text": [
      "1 0.9268593749999999\n",
      "2 0.274625\n",
      "low 0\n",
      "high 0\n",
      "spec 1\n",
      "gen 0\n"
     ]
    },
    {
     "name": "stderr",
     "output_type": "stream",
     "text": [
      "\r",
      " 82%|████████▏ | 816/1000 [02:43<00:48,  3.79it/s]"
     ]
    },
    {
     "name": "stdout",
     "output_type": "stream",
     "text": [
      "1 0.9556716249999999\n",
      "2 0.30754687500000005\n",
      "low 0\n",
      "high 1\n",
      "spec 0\n",
      "gen 0\n"
     ]
    },
    {
     "name": "stderr",
     "output_type": "stream",
     "text": [
      "\r",
      " 82%|████████▏ | 817/1000 [02:43<00:47,  3.87it/s]"
     ]
    },
    {
     "name": "stdout",
     "output_type": "stream",
     "text": [
      "1 0.891666015625\n",
      "2 0.36170507812499986\n",
      "low 0\n",
      "high 1\n",
      "spec 0\n",
      "gen 0\n"
     ]
    },
    {
     "name": "stderr",
     "output_type": "stream",
     "text": [
      "\r",
      " 82%|████████▏ | 818/1000 [02:43<00:45,  3.97it/s]"
     ]
    },
    {
     "name": "stdout",
     "output_type": "stream",
     "text": [
      "1 0.9776683281249998\n",
      "2 0.30414232812499997\n",
      "low 0\n",
      "high 1\n",
      "spec 0\n",
      "gen 0\n"
     ]
    },
    {
     "name": "stderr",
     "output_type": "stream",
     "text": [
      "\r",
      " 82%|████████▏ | 819/1000 [02:44<00:44,  4.04it/s]"
     ]
    },
    {
     "name": "stdout",
     "output_type": "stream",
     "text": [
      "1 0.9776683281249998\n",
      "2 0.30414232812499997\n",
      "low 0\n",
      "high 1\n",
      "spec 0\n",
      "gen 0\n",
      "1 0.9197479531250001\n",
      "2 0.29077539062499996\n",
      "low 0\n",
      "high 0\n",
      "spec 1\n",
      "gen 0\n"
     ]
    },
    {
     "name": "stderr",
     "output_type": "stream",
     "text": [
      " 82%|████████▏ | 821/1000 [02:44<00:43,  4.10it/s]"
     ]
    },
    {
     "name": "stdout",
     "output_type": "stream",
     "text": [
      "1 0.8847359999999999\n",
      "2 0.30754687500000005\n",
      "low 0\n",
      "high 1\n",
      "spec 0\n",
      "gen 0\n"
     ]
    },
    {
     "name": "stderr",
     "output_type": "stream",
     "text": [
      "\r",
      " 82%|████████▏ | 822/1000 [02:44<00:43,  4.06it/s]"
     ]
    },
    {
     "name": "stdout",
     "output_type": "stream",
     "text": [
      "1 0.9776683281249998\n",
      "2 0.30414232812499997\n",
      "low 0\n",
      "high 1\n",
      "spec 0\n",
      "gen 0\n"
     ]
    },
    {
     "name": "stderr",
     "output_type": "stream",
     "text": [
      "\r",
      " 82%|████████▏ | 823/1000 [02:45<00:43,  4.09it/s]"
     ]
    },
    {
     "name": "stdout",
     "output_type": "stream",
     "text": [
      "1 0.8847359999999999\n",
      "2 0.30754687500000005\n",
      "low 0\n",
      "high 1\n",
      "spec 0\n",
      "gen 0\n"
     ]
    },
    {
     "name": "stderr",
     "output_type": "stream",
     "text": [
      "\r",
      " 82%|████████▏ | 824/1000 [02:45<00:41,  4.23it/s]"
     ]
    },
    {
     "name": "stdout",
     "output_type": "stream",
     "text": [
      "1 0.9776683281249998\n",
      "2 0.30414232812499997\n",
      "low 0\n",
      "high 1\n",
      "spec 0\n",
      "gen 0\n"
     ]
    },
    {
     "name": "stderr",
     "output_type": "stream",
     "text": [
      "\r",
      " 82%|████████▎ | 825/1000 [02:45<00:42,  4.16it/s]"
     ]
    },
    {
     "name": "stdout",
     "output_type": "stream",
     "text": [
      "1 0.970299\n",
      "2 0.29407962500000007\n",
      "low 0\n",
      "high 0\n",
      "spec 1\n",
      "gen 0\n"
     ]
    },
    {
     "name": "stderr",
     "output_type": "stream",
     "text": [
      "\r",
      " 83%|████████▎ | 826/1000 [02:45<00:43,  4.04it/s]"
     ]
    },
    {
     "name": "stdout",
     "output_type": "stream",
     "text": [
      "1 0.9776683281249998\n",
      "2 0.30414232812499997\n",
      "low 0\n",
      "high 1\n",
      "spec 0\n",
      "gen 0\n",
      "1 0.9776683281249998\n",
      "2 0.30414232812499997\n",
      "low 0\n",
      "high 1\n",
      "spec 0\n",
      "gen 0\n"
     ]
    },
    {
     "name": "stderr",
     "output_type": "stream",
     "text": [
      " 83%|████████▎ | 828/1000 [02:46<00:50,  3.41it/s]"
     ]
    },
    {
     "name": "stdout",
     "output_type": "stream",
     "text": [
      "1 0.9776683281249998\n",
      "2 0.30414232812499997\n",
      "low 0\n",
      "high 1\n",
      "spec 0\n",
      "gen 0\n",
      "1 0.837228640625\n",
      "2 0.25303557812500005\n",
      "low 0\n",
      "high 0\n",
      "spec 1\n",
      "gen 0\n"
     ]
    },
    {
     "name": "stderr",
     "output_type": "stream",
     "text": [
      " 83%|████████▎ | 830/1000 [02:47<00:50,  3.38it/s]"
     ]
    },
    {
     "name": "stdout",
     "output_type": "stream",
     "text": [
      "1 0.9776683281249998\n",
      "2 0.30414232812499997\n",
      "low 0\n",
      "high 1\n",
      "spec 0\n",
      "gen 0\n"
     ]
    },
    {
     "name": "stderr",
     "output_type": "stream",
     "text": [
      "\r",
      " 83%|████████▎ | 831/1000 [02:47<00:48,  3.49it/s]"
     ]
    },
    {
     "name": "stdout",
     "output_type": "stream",
     "text": [
      "1 0.9197479531250001\n",
      "2 0.29077539062499996\n",
      "low 0\n",
      "high 0\n",
      "spec 1\n",
      "gen 0\n"
     ]
    },
    {
     "name": "stderr",
     "output_type": "stream",
     "text": [
      "\r",
      " 83%|████████▎ | 832/1000 [02:47<00:46,  3.63it/s]"
     ]
    },
    {
     "name": "stdout",
     "output_type": "stream",
     "text": [
      "1 0.9776683281249998\n",
      "2 0.30414232812499997\n",
      "low 0\n",
      "high 1\n",
      "spec 0\n",
      "gen 0\n"
     ]
    },
    {
     "name": "stderr",
     "output_type": "stream",
     "text": [
      "\r",
      " 83%|████████▎ | 833/1000 [02:47<00:44,  3.78it/s]"
     ]
    },
    {
     "name": "stdout",
     "output_type": "stream",
     "text": [
      "1 0\n",
      "2 0\n",
      "low 1\n",
      "high 0\n",
      "spec 0\n",
      "gen 0\n"
     ]
    },
    {
     "name": "stderr",
     "output_type": "stream",
     "text": [
      "\r",
      " 83%|████████▎ | 834/1000 [02:48<00:46,  3.56it/s]"
     ]
    },
    {
     "name": "stdout",
     "output_type": "stream",
     "text": [
      "1 0.9776683281249998\n",
      "2 0.30414232812499997\n",
      "low 0\n",
      "high 1\n",
      "spec 0\n",
      "gen 0\n"
     ]
    },
    {
     "name": "stderr",
     "output_type": "stream",
     "text": [
      "\r",
      " 84%|████████▎ | 835/1000 [02:48<00:45,  3.62it/s]"
     ]
    },
    {
     "name": "stdout",
     "output_type": "stream",
     "text": [
      "1 0.9411919999999999\n",
      "2 0.33570237499999994\n",
      "low 0\n",
      "high 1\n",
      "spec 0\n",
      "gen 0\n"
     ]
    },
    {
     "name": "stderr",
     "output_type": "stream",
     "text": [
      "\r",
      " 84%|████████▎ | 836/1000 [02:48<00:44,  3.69it/s]"
     ]
    },
    {
     "name": "stdout",
     "output_type": "stream",
     "text": [
      "1 0.9776683281249998\n",
      "2 0.30414232812499997\n",
      "low 0\n",
      "high 1\n",
      "spec 0\n",
      "gen 0\n"
     ]
    },
    {
     "name": "stderr",
     "output_type": "stream",
     "text": [
      "\r",
      " 84%|████████▎ | 837/1000 [02:49<00:47,  3.44it/s]"
     ]
    },
    {
     "name": "stdout",
     "output_type": "stream",
     "text": [
      "1 0.9776683281249998\n",
      "2 0.30414232812499997\n",
      "low 0\n",
      "high 1\n",
      "spec 0\n",
      "gen 0\n"
     ]
    },
    {
     "name": "stderr",
     "output_type": "stream",
     "text": [
      "\r",
      " 84%|████████▍ | 838/1000 [02:49<00:47,  3.39it/s]"
     ]
    },
    {
     "name": "stdout",
     "output_type": "stream",
     "text": [
      "1 0.9197479531250001\n",
      "2 0.29077539062499996\n",
      "low 0\n",
      "high 0\n",
      "spec 1\n",
      "gen 0\n"
     ]
    },
    {
     "name": "stderr",
     "output_type": "stream",
     "text": [
      "\r",
      " 84%|████████▍ | 839/1000 [02:49<00:44,  3.59it/s]"
     ]
    },
    {
     "name": "stdout",
     "output_type": "stream",
     "text": [
      "1 0.9776683281249998\n",
      "2 0.30414232812499997\n",
      "low 0\n",
      "high 1\n",
      "spec 0\n",
      "gen 0\n"
     ]
    },
    {
     "name": "stderr",
     "output_type": "stream",
     "text": [
      "\r",
      " 84%|████████▍ | 840/1000 [02:49<00:43,  3.69it/s]"
     ]
    },
    {
     "name": "stdout",
     "output_type": "stream",
     "text": [
      "1 0.9776683281249998\n",
      "2 0.30414232812499997\n",
      "low 0\n",
      "high 1\n",
      "spec 0\n",
      "gen 0\n"
     ]
    },
    {
     "name": "stderr",
     "output_type": "stream",
     "text": [
      "\r",
      " 84%|████████▍ | 841/1000 [02:50<00:43,  3.65it/s]"
     ]
    },
    {
     "name": "stdout",
     "output_type": "stream",
     "text": [
      "1 0.9776683281249998\n",
      "2 0.30414232812499997\n",
      "low 0\n",
      "high 1\n",
      "spec 0\n",
      "gen 0\n",
      "1 0.9776683281249998\n",
      "2 0.30414232812499997\n",
      "low 0\n",
      "high 1\n",
      "spec 0\n",
      "gen 0\n"
     ]
    },
    {
     "name": "stderr",
     "output_type": "stream",
     "text": [
      " 84%|████████▍ | 843/1000 [02:50<00:46,  3.40it/s]"
     ]
    },
    {
     "name": "stdout",
     "output_type": "stream",
     "text": [
      "1 0.9197479531250001\n",
      "2 0.29077539062499996\n",
      "low 0\n",
      "high 0\n",
      "spec 1\n",
      "gen 0\n"
     ]
    },
    {
     "name": "stderr",
     "output_type": "stream",
     "text": [
      "\r",
      " 84%|████████▍ | 844/1000 [02:51<00:44,  3.47it/s]"
     ]
    },
    {
     "name": "stdout",
     "output_type": "stream",
     "text": [
      "1 0.8847359999999999\n",
      "2 0.36552587499999994\n",
      "low 0\n",
      "high 1\n",
      "spec 0\n",
      "gen 0\n"
     ]
    },
    {
     "name": "stderr",
     "output_type": "stream",
     "text": [
      "\r",
      " 84%|████████▍ | 845/1000 [02:51<00:44,  3.50it/s]"
     ]
    },
    {
     "name": "stdout",
     "output_type": "stream",
     "text": [
      "1 0.747377296875\n",
      "2 0.45210067187500014\n",
      "low 0\n",
      "high 1\n",
      "spec 0\n",
      "gen 0\n"
     ]
    },
    {
     "name": "stderr",
     "output_type": "stream",
     "text": [
      "\r",
      " 85%|████████▍ | 846/1000 [02:51<00:42,  3.64it/s]"
     ]
    },
    {
     "name": "stdout",
     "output_type": "stream",
     "text": [
      "1 0.516815015625\n",
      "2 0.526535421875\n",
      "low 0\n",
      "high 0\n",
      "spec 0\n",
      "gen 1\n"
     ]
    },
    {
     "name": "stderr",
     "output_type": "stream",
     "text": [
      "\r",
      " 85%|████████▍ | 847/1000 [02:51<00:41,  3.71it/s]"
     ]
    },
    {
     "name": "stdout",
     "output_type": "stream",
     "text": [
      "1 0.9776683281249998\n",
      "2 0.30414232812499997\n",
      "low 0\n",
      "high 1\n",
      "spec 0\n",
      "gen 0\n"
     ]
    },
    {
     "name": "stderr",
     "output_type": "stream",
     "text": [
      "\r",
      " 85%|████████▍ | 848/1000 [02:52<00:41,  3.68it/s]"
     ]
    },
    {
     "name": "stdout",
     "output_type": "stream",
     "text": [
      "1 0.7914531250000001\n",
      "2 0.21599999999999997\n",
      "low 0\n",
      "high 0\n",
      "spec 1\n",
      "gen 0\n"
     ]
    },
    {
     "name": "stderr",
     "output_type": "stream",
     "text": [
      "\r",
      " 85%|████████▍ | 849/1000 [02:52<00:40,  3.69it/s]"
     ]
    },
    {
     "name": "stdout",
     "output_type": "stream",
     "text": [
      "1 0.9776683281249998\n",
      "2 0.30414232812499997\n",
      "low 0\n",
      "high 1\n",
      "spec 0\n",
      "gen 0\n",
      "1 0.747377296875\n",
      "2 0.45210067187500014\n",
      "low 0\n",
      "high 1\n",
      "spec 0\n",
      "gen 0\n"
     ]
    },
    {
     "name": "stderr",
     "output_type": "stream",
     "text": [
      " 85%|████████▌ | 851/1000 [02:53<00:51,  2.91it/s]"
     ]
    },
    {
     "name": "stdout",
     "output_type": "stream",
     "text": [
      "1 0.9484133906250001\n",
      "2 0.29077539062499996\n",
      "low 0\n",
      "high 0\n",
      "spec 1\n",
      "gen 0\n"
     ]
    },
    {
     "name": "stderr",
     "output_type": "stream",
     "text": [
      "\r",
      " 85%|████████▌ | 852/1000 [02:53<00:54,  2.74it/s]"
     ]
    },
    {
     "name": "stdout",
     "output_type": "stream",
     "text": [
      "1 0.9197479531250001\n",
      "2 0.29077539062499996\n",
      "low 0\n",
      "high 0\n",
      "spec 1\n",
      "gen 0\n"
     ]
    },
    {
     "name": "stderr",
     "output_type": "stream",
     "text": [
      "\r",
      " 85%|████████▌ | 853/1000 [02:53<00:48,  3.04it/s]"
     ]
    },
    {
     "name": "stdout",
     "output_type": "stream",
     "text": [
      "1 0.9411919999999999\n",
      "2 0.33570237499999994\n",
      "low 0\n",
      "high 1\n",
      "spec 0\n",
      "gen 0\n"
     ]
    },
    {
     "name": "stderr",
     "output_type": "stream",
     "text": [
      "\r",
      " 85%|████████▌ | 854/1000 [02:54<00:44,  3.25it/s]"
     ]
    },
    {
     "name": "stdout",
     "output_type": "stream",
     "text": [
      "1 0.9411919999999999\n",
      "2 0.33570237499999994\n",
      "low 0\n",
      "high 1\n",
      "spec 0\n",
      "gen 0\n"
     ]
    },
    {
     "name": "stderr",
     "output_type": "stream",
     "text": [
      "\r",
      " 86%|████████▌ | 855/1000 [02:54<00:42,  3.39it/s]"
     ]
    },
    {
     "name": "stdout",
     "output_type": "stream",
     "text": [
      "1 0.9197479531250001\n",
      "2 0.29077539062499996\n",
      "low 0\n",
      "high 0\n",
      "spec 1\n",
      "gen 0\n"
     ]
    },
    {
     "name": "stderr",
     "output_type": "stream",
     "text": [
      "\r",
      " 86%|████████▌ | 856/1000 [02:54<00:40,  3.51it/s]"
     ]
    },
    {
     "name": "stdout",
     "output_type": "stream",
     "text": [
      "1 0.8305839999999999\n",
      "2 0.23260837499999998\n",
      "low 0\n",
      "high 0\n",
      "spec 1\n",
      "gen 0\n"
     ]
    },
    {
     "name": "stderr",
     "output_type": "stream",
     "text": [
      "\r",
      " 86%|████████▌ | 857/1000 [02:55<00:39,  3.62it/s]"
     ]
    },
    {
     "name": "stdout",
     "output_type": "stream",
     "text": [
      "1 0.9411919999999999\n",
      "2 0.33570237499999994\n",
      "low 0\n",
      "high 1\n",
      "spec 0\n",
      "gen 0\n"
     ]
    },
    {
     "name": "stderr",
     "output_type": "stream",
     "text": [
      "\r",
      " 86%|████████▌ | 858/1000 [02:55<00:39,  3.60it/s]"
     ]
    },
    {
     "name": "stdout",
     "output_type": "stream",
     "text": [
      "1 0.9776683281249998\n",
      "2 0.30414232812499997\n",
      "low 0\n",
      "high 1\n",
      "spec 0\n",
      "gen 0\n",
      "1 0.9484133906250001\n",
      "2 0.28424135937499995\n",
      "low 0\n",
      "high 0\n",
      "spec 1\n",
      "gen 0\n"
     ]
    },
    {
     "name": "stderr",
     "output_type": "stream",
     "text": [
      " 86%|████████▌ | 860/1000 [02:55<00:41,  3.36it/s]"
     ]
    },
    {
     "name": "stdout",
     "output_type": "stream",
     "text": [
      "1 0.9197479531250001\n",
      "2 0.29077539062499996\n",
      "low 0\n",
      "high 0\n",
      "spec 1\n",
      "gen 0\n"
     ]
    },
    {
     "name": "stderr",
     "output_type": "stream",
     "text": [
      "\r",
      " 86%|████████▌ | 861/1000 [02:56<00:40,  3.41it/s]"
     ]
    },
    {
     "name": "stdout",
     "output_type": "stream",
     "text": [
      "1 0.4261078281249999\n",
      "2 0.6305251093749998\n",
      "low 0\n",
      "high 0\n",
      "spec 0\n",
      "gen 1\n"
     ]
    },
    {
     "name": "stderr",
     "output_type": "stream",
     "text": [
      "\r",
      " 86%|████████▌ | 862/1000 [02:56<00:44,  3.13it/s]"
     ]
    },
    {
     "name": "stdout",
     "output_type": "stream",
     "text": [
      "1 0.9776683281249998\n",
      "2 0.30414232812499997\n",
      "low 0\n",
      "high 1\n",
      "spec 0\n",
      "gen 0\n"
     ]
    },
    {
     "name": "stderr",
     "output_type": "stream",
     "text": [
      "\r",
      " 86%|████████▋ | 863/1000 [02:56<00:41,  3.31it/s]"
     ]
    },
    {
     "name": "stdout",
     "output_type": "stream",
     "text": [
      "1 0.9484133906250001\n",
      "2 0.28424135937499995\n",
      "low 0\n",
      "high 0\n",
      "spec 1\n",
      "gen 0\n",
      "1 0.7914531250000001\n",
      "2 0.21599999999999997\n",
      "low 0\n",
      "high 0\n",
      "spec 1\n",
      "gen 0\n"
     ]
    },
    {
     "name": "stderr",
     "output_type": "stream",
     "text": [
      " 86%|████████▋ | 865/1000 [02:57<00:42,  3.17it/s]"
     ]
    },
    {
     "name": "stdout",
     "output_type": "stream",
     "text": [
      "1 0.9197479531250001\n",
      "2 0.29077539062499996\n",
      "low 0\n",
      "high 0\n",
      "spec 1\n",
      "gen 0\n"
     ]
    },
    {
     "name": "stderr",
     "output_type": "stream",
     "text": [
      "\r",
      " 87%|████████▋ | 866/1000 [02:57<00:39,  3.43it/s]"
     ]
    },
    {
     "name": "stdout",
     "output_type": "stream",
     "text": [
      "1 0.912673\n",
      "2 0.35040262499999997\n",
      "low 0\n",
      "high 1\n",
      "spec 0\n",
      "gen 0\n"
     ]
    },
    {
     "name": "stderr",
     "output_type": "stream",
     "text": [
      "\r",
      " 87%|████████▋ | 867/1000 [02:58<00:36,  3.64it/s]"
     ]
    },
    {
     "name": "stdout",
     "output_type": "stream",
     "text": [
      "1 0.9411919999999999\n",
      "2 0.33570237499999994\n",
      "low 0\n",
      "high 1\n",
      "spec 0\n",
      "gen 0\n"
     ]
    },
    {
     "name": "stderr",
     "output_type": "stream",
     "text": [
      "\r",
      " 87%|████████▋ | 868/1000 [02:58<00:35,  3.67it/s]"
     ]
    },
    {
     "name": "stdout",
     "output_type": "stream",
     "text": [
      "1 0.9411919999999999\n",
      "2 0.33570237499999994\n",
      "low 0\n",
      "high 1\n",
      "spec 0\n",
      "gen 0\n"
     ]
    },
    {
     "name": "stderr",
     "output_type": "stream",
     "text": [
      "\r",
      " 87%|████████▋ | 869/1000 [02:58<00:38,  3.41it/s]"
     ]
    },
    {
     "name": "stdout",
     "output_type": "stream",
     "text": [
      "1 0.9197479531250001\n",
      "2 0.29077539062499996\n",
      "low 0\n",
      "high 0\n",
      "spec 1\n",
      "gen 0\n",
      "1 0.7049690000000001\n",
      "2 0.18036212499999996\n",
      "low 0\n",
      "high 0\n",
      "spec 1\n",
      "gen 0\n"
     ]
    },
    {
     "name": "stderr",
     "output_type": "stream",
     "text": [
      " 87%|████████▋ | 871/1000 [02:59<00:40,  3.22it/s]"
     ]
    },
    {
     "name": "stdout",
     "output_type": "stream",
     "text": [
      "1 0.9197479531250001\n",
      "2 0.29077539062499996\n",
      "low 0\n",
      "high 0\n",
      "spec 1\n",
      "gen 0\n"
     ]
    },
    {
     "name": "stderr",
     "output_type": "stream",
     "text": [
      "\r",
      " 87%|████████▋ | 872/1000 [02:59<00:37,  3.43it/s]"
     ]
    },
    {
     "name": "stdout",
     "output_type": "stream",
     "text": [
      "1 0.9484133906250001\n",
      "2 0.29077539062499996\n",
      "low 0\n",
      "high 0\n",
      "spec 1\n",
      "gen 0\n"
     ]
    },
    {
     "name": "stderr",
     "output_type": "stream",
     "text": [
      "\r",
      " 87%|████████▋ | 873/1000 [02:59<00:35,  3.57it/s]"
     ]
    },
    {
     "name": "stdout",
     "output_type": "stream",
     "text": [
      "1 0.9484133906250001\n",
      "2 0.29077539062499996\n",
      "low 0\n",
      "high 0\n",
      "spec 1\n",
      "gen 0\n"
     ]
    },
    {
     "name": "stderr",
     "output_type": "stream",
     "text": [
      "\r",
      " 87%|████████▋ | 874/1000 [03:00<00:34,  3.69it/s]"
     ]
    },
    {
     "name": "stdout",
     "output_type": "stream",
     "text": [
      "1 0.9411919999999999\n",
      "2 0.33570237499999994\n",
      "low 0\n",
      "high 1\n",
      "spec 0\n",
      "gen 0\n"
     ]
    },
    {
     "name": "stderr",
     "output_type": "stream",
     "text": [
      "\r",
      " 88%|████████▊ | 875/1000 [03:00<00:35,  3.53it/s]"
     ]
    },
    {
     "name": "stdout",
     "output_type": "stream",
     "text": [
      "1 0.810861203125\n",
      "2 0.25303557812499994\n",
      "low 0\n",
      "high 0\n",
      "spec 1\n",
      "gen 0\n"
     ]
    },
    {
     "name": "stderr",
     "output_type": "stream",
     "text": [
      "\r",
      " 88%|████████▊ | 876/1000 [03:00<00:34,  3.62it/s]"
     ]
    },
    {
     "name": "stdout",
     "output_type": "stream",
     "text": [
      "1 0.9411919999999999\n",
      "2 0.33570237499999994\n",
      "low 0\n",
      "high 1\n",
      "spec 0\n",
      "gen 0\n"
     ]
    },
    {
     "name": "stderr",
     "output_type": "stream",
     "text": [
      "\r",
      " 88%|████████▊ | 877/1000 [03:00<00:33,  3.63it/s]"
     ]
    },
    {
     "name": "stdout",
     "output_type": "stream",
     "text": [
      "1 0.8847359999999999\n",
      "2 0.36552587499999994\n",
      "low 0\n",
      "high 1\n",
      "spec 0\n",
      "gen 0\n"
     ]
    },
    {
     "name": "stderr",
     "output_type": "stream",
     "text": [
      "\r",
      " 88%|████████▊ | 878/1000 [03:01<00:33,  3.60it/s]"
     ]
    },
    {
     "name": "stdout",
     "output_type": "stream",
     "text": [
      "1 0.8847359999999999\n",
      "2 0.36552587499999994\n",
      "low 0\n",
      "high 1\n",
      "spec 0\n",
      "gen 0\n"
     ]
    },
    {
     "name": "stderr",
     "output_type": "stream",
     "text": [
      "\r",
      " 88%|████████▊ | 879/1000 [03:01<00:33,  3.60it/s]"
     ]
    },
    {
     "name": "stdout",
     "output_type": "stream",
     "text": [
      "1 0.8305839999999999\n",
      "2 0.281011375\n",
      "low 0\n",
      "high 0\n",
      "spec 1\n",
      "gen 0\n"
     ]
    },
    {
     "name": "stderr",
     "output_type": "stream",
     "text": [
      "\r",
      " 88%|████████▊ | 880/1000 [03:01<00:32,  3.66it/s]"
     ]
    },
    {
     "name": "stdout",
     "output_type": "stream",
     "text": [
      "1 0.850624046875\n",
      "2 0.3850339218750001\n",
      "low 0\n",
      "high 1\n",
      "spec 0\n",
      "gen 0\n",
      "1 0.531441\n",
      "2 0.561515625\n",
      "low 0\n",
      "high 0\n",
      "spec 0\n",
      "gen 1\n"
     ]
    },
    {
     "name": "stderr",
     "output_type": "stream",
     "text": [
      " 88%|████████▊ | 882/1000 [03:02<00:35,  3.33it/s]"
     ]
    },
    {
     "name": "stdout",
     "output_type": "stream",
     "text": [
      "1 0.9197479531250001\n",
      "2 0.29077539062499996\n",
      "low 0\n",
      "high 0\n",
      "spec 1\n",
      "gen 0\n"
     ]
    },
    {
     "name": "stderr",
     "output_type": "stream",
     "text": [
      "\r",
      " 88%|████████▊ | 883/1000 [03:02<00:33,  3.46it/s]"
     ]
    },
    {
     "name": "stdout",
     "output_type": "stream",
     "text": [
      "1 0.7229418593749999\n",
      "2 0.39302745312499987\n",
      "low 0\n",
      "high 1\n",
      "spec 0\n",
      "gen 0\n"
     ]
    },
    {
     "name": "stderr",
     "output_type": "stream",
     "text": [
      "\r",
      " 88%|████████▊ | 884/1000 [03:02<00:32,  3.57it/s]"
     ]
    },
    {
     "name": "stdout",
     "output_type": "stream",
     "text": [
      "1 0.9411919999999999\n",
      "2 0.33570237499999994\n",
      "low 0\n",
      "high 1\n",
      "spec 0\n",
      "gen 0\n"
     ]
    },
    {
     "name": "stderr",
     "output_type": "stream",
     "text": [
      "\r",
      " 88%|████████▊ | 885/1000 [03:03<00:31,  3.60it/s]"
     ]
    },
    {
     "name": "stdout",
     "output_type": "stream",
     "text": [
      "1 0.9411919999999999\n",
      "2 0.33570237499999994\n",
      "low 0\n",
      "high 1\n",
      "spec 0\n",
      "gen 0\n"
     ]
    },
    {
     "name": "stderr",
     "output_type": "stream",
     "text": [
      "\r",
      " 89%|████████▊ | 886/1000 [03:03<00:31,  3.67it/s]"
     ]
    },
    {
     "name": "stdout",
     "output_type": "stream",
     "text": [
      "1 0.9411919999999999\n",
      "2 0.33570237499999994\n",
      "low 0\n",
      "high 1\n",
      "spec 0\n",
      "gen 0\n"
     ]
    },
    {
     "name": "stderr",
     "output_type": "stream",
     "text": [
      "\r",
      " 89%|████████▊ | 887/1000 [03:03<00:30,  3.71it/s]"
     ]
    },
    {
     "name": "stdout",
     "output_type": "stream",
     "text": [
      "1 0.9411919999999999\n",
      "2 0.3007629999999999\n",
      "low 0\n",
      "high 1\n",
      "spec 0\n",
      "gen 0\n"
     ]
    },
    {
     "name": "stderr",
     "output_type": "stream",
     "text": [
      "\r",
      " 89%|████████▉ | 888/1000 [03:03<00:29,  3.74it/s]"
     ]
    },
    {
     "name": "stdout",
     "output_type": "stream",
     "text": [
      "1 0.7350918906249999\n",
      "2 0.19259985937500002\n",
      "low 0\n",
      "high 0\n",
      "spec 1\n",
      "gen 0\n"
     ]
    },
    {
     "name": "stderr",
     "output_type": "stream",
     "text": [
      "\r",
      " 89%|████████▉ | 889/1000 [03:04<00:31,  3.58it/s]"
     ]
    },
    {
     "name": "stdout",
     "output_type": "stream",
     "text": [
      "1 0.7914531250000001\n",
      "2 0.421875\n",
      "low 0\n",
      "high 1\n",
      "spec 0\n",
      "gen 0\n"
     ]
    },
    {
     "name": "stderr",
     "output_type": "stream",
     "text": [
      "\r",
      " 89%|████████▉ | 890/1000 [03:04<00:30,  3.57it/s]"
     ]
    },
    {
     "name": "stdout",
     "output_type": "stream",
     "text": [
      "1 0.850624046875\n",
      "2 0.3850339218750001\n",
      "low 0\n",
      "high 1\n",
      "spec 0\n",
      "gen 0\n"
     ]
    },
    {
     "name": "stderr",
     "output_type": "stream",
     "text": [
      "\r",
      " 89%|████████▉ | 891/1000 [03:04<00:31,  3.46it/s]"
     ]
    },
    {
     "name": "stdout",
     "output_type": "stream",
     "text": [
      "1 0.9411919999999999\n",
      "2 0.33570237499999994\n",
      "low 0\n",
      "high 1\n",
      "spec 0\n",
      "gen 0\n"
     ]
    },
    {
     "name": "stderr",
     "output_type": "stream",
     "text": [
      "\r",
      " 89%|████████▉ | 892/1000 [03:05<00:32,  3.32it/s]"
     ]
    },
    {
     "name": "stdout",
     "output_type": "stream",
     "text": [
      "1 0.9411919999999999\n",
      "2 0.33570237499999994\n",
      "low 0\n",
      "high 1\n",
      "spec 0\n",
      "gen 0\n"
     ]
    },
    {
     "name": "stderr",
     "output_type": "stream",
     "text": [
      "\r",
      " 89%|████████▉ | 893/1000 [03:05<00:32,  3.29it/s]"
     ]
    },
    {
     "name": "stdout",
     "output_type": "stream",
     "text": [
      "1 0.8709838749999999\n",
      "2 0.37324799999999997\n",
      "low 0\n",
      "high 1\n",
      "spec 0\n",
      "gen 0\n"
     ]
    },
    {
     "name": "stderr",
     "output_type": "stream",
     "text": [
      "\r",
      " 89%|████████▉ | 894/1000 [03:05<00:31,  3.41it/s]"
     ]
    },
    {
     "name": "stdout",
     "output_type": "stream",
     "text": [
      "1 0.9197479531250001\n",
      "2 0.29077539062499996\n",
      "low 0\n",
      "high 0\n",
      "spec 1\n",
      "gen 0\n"
     ]
    },
    {
     "name": "stderr",
     "output_type": "stream",
     "text": [
      "\r",
      " 90%|████████▉ | 895/1000 [03:06<00:30,  3.48it/s]"
     ]
    },
    {
     "name": "stdout",
     "output_type": "stream",
     "text": [
      "1 0.9197479531250001\n",
      "2 0.29077539062499996\n",
      "low 0\n",
      "high 0\n",
      "spec 1\n",
      "gen 0\n"
     ]
    },
    {
     "name": "stderr",
     "output_type": "stream",
     "text": [
      "\r",
      " 90%|████████▉ | 896/1000 [03:06<00:29,  3.49it/s]"
     ]
    },
    {
     "name": "stdout",
     "output_type": "stream",
     "text": [
      "1 0.9268593749999999\n",
      "2 0.3429999999999999\n",
      "low 0\n",
      "high 1\n",
      "spec 0\n",
      "gen 0\n"
     ]
    },
    {
     "name": "stderr",
     "output_type": "stream",
     "text": [
      "\r",
      " 90%|████████▉ | 897/1000 [03:06<00:28,  3.63it/s]"
     ]
    },
    {
     "name": "stdout",
     "output_type": "stream",
     "text": [
      "1 0.9411919999999999\n",
      "2 0.33570237499999994\n",
      "low 0\n",
      "high 1\n",
      "spec 0\n",
      "gen 0\n"
     ]
    },
    {
     "name": "stderr",
     "output_type": "stream",
     "text": [
      "\r",
      " 90%|████████▉ | 898/1000 [03:06<00:27,  3.72it/s]"
     ]
    },
    {
     "name": "stdout",
     "output_type": "stream",
     "text": [
      "1 0.9197479531250001\n",
      "2 0.29077539062499996\n",
      "low 0\n",
      "high 0\n",
      "spec 1\n",
      "gen 0\n"
     ]
    },
    {
     "name": "stderr",
     "output_type": "stream",
     "text": [
      "\r",
      " 90%|████████▉ | 899/1000 [03:07<00:28,  3.61it/s]"
     ]
    },
    {
     "name": "stdout",
     "output_type": "stream",
     "text": [
      "1 0.8709838749999999\n",
      "2 0.37324799999999997\n",
      "low 0\n",
      "high 1\n",
      "spec 0\n",
      "gen 0\n"
     ]
    },
    {
     "name": "stderr",
     "output_type": "stream",
     "text": [
      "\r",
      " 90%|█████████ | 900/1000 [03:07<00:27,  3.58it/s]"
     ]
    },
    {
     "name": "stdout",
     "output_type": "stream",
     "text": [
      "1 0.9197479531250001\n",
      "2 0.29077539062499996\n",
      "low 0\n",
      "high 0\n",
      "spec 1\n",
      "gen 0\n"
     ]
    },
    {
     "name": "stderr",
     "output_type": "stream",
     "text": [
      "\r",
      " 90%|█████████ | 901/1000 [03:07<00:27,  3.63it/s]"
     ]
    },
    {
     "name": "stdout",
     "output_type": "stream",
     "text": [
      "1 0.8305839999999999\n",
      "2 0.3007629999999999\n",
      "low 0\n",
      "high 1\n",
      "spec 0\n",
      "gen 0\n"
     ]
    },
    {
     "name": "stderr",
     "output_type": "stream",
     "text": [
      "\r",
      " 90%|█████████ | 902/1000 [03:07<00:26,  3.66it/s]"
     ]
    },
    {
     "name": "stdout",
     "output_type": "stream",
     "text": [
      "1 0.8709838749999999\n",
      "2 0.37324799999999997\n",
      "low 0\n",
      "high 1\n",
      "spec 0\n",
      "gen 0\n"
     ]
    },
    {
     "name": "stderr",
     "output_type": "stream",
     "text": [
      "\r",
      " 90%|█████████ | 903/1000 [03:08<00:26,  3.62it/s]"
     ]
    },
    {
     "name": "stdout",
     "output_type": "stream",
     "text": [
      "1 0.9197479531250001\n",
      "2 0.271468421875\n",
      "low 0\n",
      "high 0\n",
      "spec 1\n",
      "gen 0\n"
     ]
    },
    {
     "name": "stderr",
     "output_type": "stream",
     "text": [
      "\r",
      " 90%|█████████ | 904/1000 [03:08<00:26,  3.67it/s]"
     ]
    },
    {
     "name": "stdout",
     "output_type": "stream",
     "text": [
      "1 0.8847359999999999\n",
      "2 0.274625\n",
      "low 0\n",
      "high 0\n",
      "spec 1\n",
      "gen 0\n",
      "1 0.9197479531250001\n",
      "2 0.29077539062499996\n",
      "low 0\n",
      "high 0\n",
      "spec 1\n",
      "gen 0\n"
     ]
    },
    {
     "name": "stderr",
     "output_type": "stream",
     "text": [
      " 91%|█████████ | 906/1000 [03:09<00:28,  3.29it/s]"
     ]
    },
    {
     "name": "stdout",
     "output_type": "stream",
     "text": [
      "1 0.8709838749999999\n",
      "2 0.26833612500000004\n",
      "low 0\n",
      "high 0\n",
      "spec 1\n",
      "gen 0\n"
     ]
    },
    {
     "name": "stderr",
     "output_type": "stream",
     "text": [
      "\r",
      " 91%|█████████ | 907/1000 [03:09<00:30,  3.08it/s]"
     ]
    },
    {
     "name": "stdout",
     "output_type": "stream",
     "text": [
      "1 0.9197479531250001\n",
      "2 0.29077539062499996\n",
      "low 0\n",
      "high 0\n",
      "spec 1\n",
      "gen 0\n"
     ]
    },
    {
     "name": "stderr",
     "output_type": "stream",
     "text": [
      "\r",
      " 91%|█████████ | 908/1000 [03:09<00:27,  3.29it/s]"
     ]
    },
    {
     "name": "stdout",
     "output_type": "stream",
     "text": [
      "1 0.9197479531250001\n",
      "2 0.27780595312499995\n",
      "low 0\n",
      "high 0\n",
      "spec 1\n",
      "gen 0\n"
     ]
    },
    {
     "name": "stderr",
     "output_type": "stream",
     "text": [
      "\r",
      " 91%|█████████ | 909/1000 [03:10<00:27,  3.34it/s]"
     ]
    },
    {
     "name": "stdout",
     "output_type": "stream",
     "text": [
      "1 0.9197479531250001\n",
      "2 0.29077539062499996\n",
      "low 0\n",
      "high 0\n",
      "spec 1\n",
      "gen 0\n"
     ]
    },
    {
     "name": "stderr",
     "output_type": "stream",
     "text": [
      "\r",
      " 91%|█████████ | 910/1000 [03:10<00:27,  3.32it/s]"
     ]
    },
    {
     "name": "stdout",
     "output_type": "stream",
     "text": [
      "1 0.9411919999999999\n",
      "2 0.33570237499999994\n",
      "low 0\n",
      "high 1\n",
      "spec 0\n",
      "gen 0\n"
     ]
    },
    {
     "name": "stderr",
     "output_type": "stream",
     "text": [
      "\r",
      " 91%|█████████ | 911/1000 [03:10<00:26,  3.37it/s]"
     ]
    },
    {
     "name": "stdout",
     "output_type": "stream",
     "text": [
      "1 0.785053265625\n",
      "2 0.21331123437500002\n",
      "low 0\n",
      "high 0\n",
      "spec 1\n",
      "gen 0\n"
     ]
    },
    {
     "name": "stderr",
     "output_type": "stream",
     "text": [
      "\r",
      " 91%|█████████ | 912/1000 [03:10<00:25,  3.43it/s]"
     ]
    },
    {
     "name": "stdout",
     "output_type": "stream",
     "text": [
      "1 0.891666015625\n",
      "2 0.27780595312499995\n",
      "low 0\n",
      "high 0\n",
      "spec 1\n",
      "gen 0\n"
     ]
    },
    {
     "name": "stderr",
     "output_type": "stream",
     "text": [
      "\r",
      " 91%|█████████▏| 913/1000 [03:11<00:25,  3.45it/s]"
     ]
    },
    {
     "name": "stdout",
     "output_type": "stream",
     "text": [
      "1 0.9197479531250001\n",
      "2 0.29077539062499996\n",
      "low 0\n",
      "high 0\n",
      "spec 1\n",
      "gen 0\n",
      "1 0.8174003750000002\n",
      "2 0.23832799999999998\n",
      "low 0\n",
      "high 0\n",
      "spec 1\n",
      "gen 0\n"
     ]
    },
    {
     "name": "stderr",
     "output_type": "stream",
     "text": [
      " 92%|█████████▏| 915/1000 [03:11<00:25,  3.37it/s]"
     ]
    },
    {
     "name": "stdout",
     "output_type": "stream",
     "text": [
      "1 0.891666015625\n",
      "2 0.27780595312499995\n",
      "low 0\n",
      "high 0\n",
      "spec 1\n",
      "gen 0\n"
     ]
    },
    {
     "name": "stderr",
     "output_type": "stream",
     "text": [
      "\r",
      " 92%|█████████▏| 916/1000 [03:12<00:24,  3.40it/s]"
     ]
    },
    {
     "name": "stdout",
     "output_type": "stream",
     "text": [
      "1 0.35040262499999997\n",
      "2 0.06162987500000001\n",
      "low 1\n",
      "high 0\n",
      "spec 0\n",
      "gen 0\n"
     ]
    },
    {
     "name": "stderr",
     "output_type": "stream",
     "text": [
      "\r",
      " 92%|█████████▏| 917/1000 [03:12<00:23,  3.55it/s]"
     ]
    },
    {
     "name": "stdout",
     "output_type": "stream",
     "text": [
      "1 0.8847359999999999\n",
      "2 0.274625\n",
      "low 0\n",
      "high 0\n",
      "spec 1\n",
      "gen 0\n"
     ]
    },
    {
     "name": "stderr",
     "output_type": "stream",
     "text": [
      "\r",
      " 92%|█████████▏| 918/1000 [03:12<00:23,  3.54it/s]"
     ]
    },
    {
     "name": "stdout",
     "output_type": "stream",
     "text": [
      "1 0.9197479531250001\n",
      "2 0.29077539062499996\n",
      "low 0\n",
      "high 0\n",
      "spec 1\n",
      "gen 0\n"
     ]
    },
    {
     "name": "stderr",
     "output_type": "stream",
     "text": [
      "\r",
      " 92%|█████████▏| 919/1000 [03:12<00:22,  3.64it/s]"
     ]
    },
    {
     "name": "stdout",
     "output_type": "stream",
     "text": [
      "1 0.9197479531250001\n",
      "2 0.29077539062499996\n",
      "low 0\n",
      "high 0\n",
      "spec 1\n",
      "gen 0\n"
     ]
    },
    {
     "name": "stderr",
     "output_type": "stream",
     "text": [
      "\r",
      " 92%|█████████▏| 920/1000 [03:13<00:22,  3.52it/s]"
     ]
    },
    {
     "name": "stdout",
     "output_type": "stream",
     "text": [
      "1 0.9197479531250001\n",
      "2 0.29077539062499996\n",
      "low 0\n",
      "high 0\n",
      "spec 1\n",
      "gen 0\n",
      "1 0.9197479531250001\n",
      "2 0.29077539062499996\n",
      "low 0\n",
      "high 0\n",
      "spec 1\n",
      "gen 0\n"
     ]
    },
    {
     "name": "stderr",
     "output_type": "stream",
     "text": [
      " 92%|█████████▏| 922/1000 [03:13<00:22,  3.43it/s]"
     ]
    },
    {
     "name": "stdout",
     "output_type": "stream",
     "text": [
      "1 0.9268593749999999\n",
      "2 0.31443199999999993\n",
      "low 0\n",
      "high 1\n",
      "spec 0\n",
      "gen 0\n"
     ]
    },
    {
     "name": "stderr",
     "output_type": "stream",
     "text": [
      "\r",
      " 92%|█████████▏| 923/1000 [03:14<00:22,  3.48it/s]"
     ]
    },
    {
     "name": "stdout",
     "output_type": "stream",
     "text": [
      "1 0.9197479531250001\n",
      "2 0.271468421875\n",
      "low 0\n",
      "high 0\n",
      "spec 1\n",
      "gen 0\n"
     ]
    },
    {
     "name": "stderr",
     "output_type": "stream",
     "text": [
      "\r",
      " 92%|█████████▏| 924/1000 [03:14<00:22,  3.41it/s]"
     ]
    },
    {
     "name": "stdout",
     "output_type": "stream",
     "text": [
      "1 0.9197479531250001\n",
      "2 0.29077539062499996\n",
      "low 0\n",
      "high 0\n",
      "spec 1\n",
      "gen 0\n"
     ]
    },
    {
     "name": "stderr",
     "output_type": "stream",
     "text": [
      "\r",
      " 92%|█████████▎| 925/1000 [03:14<00:21,  3.49it/s]"
     ]
    },
    {
     "name": "stdout",
     "output_type": "stream",
     "text": [
      "1 0.864161578125\n",
      "2 0.28424135937499995\n",
      "low 0\n",
      "high 0\n",
      "spec 1\n",
      "gen 0\n"
     ]
    },
    {
     "name": "stderr",
     "output_type": "stream",
     "text": [
      "\r",
      " 93%|█████████▎| 926/1000 [03:14<00:20,  3.59it/s]"
     ]
    },
    {
     "name": "stdout",
     "output_type": "stream",
     "text": [
      "1 0.7914531250000001\n",
      "2 0.21599999999999997\n",
      "low 0\n",
      "high 0\n",
      "spec 1\n",
      "gen 0\n"
     ]
    },
    {
     "name": "stderr",
     "output_type": "stream",
     "text": [
      "\r",
      " 93%|█████████▎| 927/1000 [03:15<00:21,  3.43it/s]"
     ]
    },
    {
     "name": "stdout",
     "output_type": "stream",
     "text": [
      "1 0.810861203125\n",
      "2 0.297408796875\n",
      "low 0\n",
      "high 0\n",
      "spec 1\n",
      "gen 0\n"
     ]
    },
    {
     "name": "stderr",
     "output_type": "stream",
     "text": [
      "\r",
      " 93%|█████████▎| 928/1000 [03:15<00:20,  3.51it/s]"
     ]
    },
    {
     "name": "stdout",
     "output_type": "stream",
     "text": [
      "1 0.9197479531250001\n",
      "2 0.271468421875\n",
      "low 0\n",
      "high 0\n",
      "spec 1\n",
      "gen 0\n",
      "1 0.507214984375\n",
      "2 0.507214984375\n",
      "low 0\n",
      "high 0\n",
      "spec 0\n",
      "gen 1\n"
     ]
    },
    {
     "name": "stderr",
     "output_type": "stream",
     "text": [
      " 93%|█████████▎| 930/1000 [03:16<00:23,  2.96it/s]"
     ]
    },
    {
     "name": "stdout",
     "output_type": "stream",
     "text": [
      "1 0.8847359999999999\n",
      "2 0.274625\n",
      "low 0\n",
      "high 0\n",
      "spec 1\n",
      "gen 0\n"
     ]
    },
    {
     "name": "stderr",
     "output_type": "stream",
     "text": [
      "\r",
      " 93%|█████████▎| 931/1000 [03:16<00:22,  3.13it/s]"
     ]
    },
    {
     "name": "stdout",
     "output_type": "stream",
     "text": [
      "1 0.9197479531250001\n",
      "2 0.271468421875\n",
      "low 0\n",
      "high 0\n",
      "spec 1\n",
      "gen 0\n"
     ]
    },
    {
     "name": "stderr",
     "output_type": "stream",
     "text": [
      "\r",
      " 93%|█████████▎| 932/1000 [03:16<00:22,  3.08it/s]"
     ]
    },
    {
     "name": "stdout",
     "output_type": "stream",
     "text": [
      "1 0.759798828125\n",
      "2 0.29077539062499996\n",
      "low 0\n",
      "high 0\n",
      "spec 1\n",
      "gen 0\n"
     ]
    },
    {
     "name": "stderr",
     "output_type": "stream",
     "text": [
      "\r",
      " 93%|█████████▎| 933/1000 [03:17<00:22,  2.94it/s]"
     ]
    },
    {
     "name": "stdout",
     "output_type": "stream",
     "text": [
      "1 0.8986321249999999\n",
      "2 0.26214400000000004\n",
      "low 0\n",
      "high 0\n",
      "spec 1\n",
      "gen 0\n"
     ]
    },
    {
     "name": "stderr",
     "output_type": "stream",
     "text": [
      "\r",
      " 93%|█████████▎| 934/1000 [03:17<00:21,  3.14it/s]"
     ]
    },
    {
     "name": "stdout",
     "output_type": "stream",
     "text": [
      "1 0.9340073593750001\n",
      "2 0.27780595312499995\n",
      "low 0\n",
      "high 0\n",
      "spec 1\n",
      "gen 0\n"
     ]
    },
    {
     "name": "stderr",
     "output_type": "stream",
     "text": [
      "\r",
      " 94%|█████████▎| 935/1000 [03:17<00:19,  3.34it/s]"
     ]
    },
    {
     "name": "stdout",
     "output_type": "stream",
     "text": [
      "1 0.9197479531250001\n",
      "2 0.271468421875\n",
      "low 0\n",
      "high 0\n",
      "spec 1\n",
      "gen 0\n"
     ]
    },
    {
     "name": "stderr",
     "output_type": "stream",
     "text": [
      "\r",
      " 94%|█████████▎| 936/1000 [03:18<00:19,  3.36it/s]"
     ]
    },
    {
     "name": "stdout",
     "output_type": "stream",
     "text": [
      "1 0.9340073593750001\n",
      "2 0.27780595312499995\n",
      "low 0\n",
      "high 0\n",
      "spec 1\n",
      "gen 0\n"
     ]
    },
    {
     "name": "stderr",
     "output_type": "stream",
     "text": [
      "\r",
      " 94%|█████████▎| 937/1000 [03:18<00:18,  3.43it/s]"
     ]
    },
    {
     "name": "stdout",
     "output_type": "stream",
     "text": [
      "1 0.891666015625\n",
      "2 0.27780595312499995\n",
      "low 0\n",
      "high 0\n",
      "spec 1\n",
      "gen 0\n"
     ]
    },
    {
     "name": "stderr",
     "output_type": "stream",
     "text": [
      "\r",
      " 94%|█████████▍| 938/1000 [03:18<00:17,  3.46it/s]"
     ]
    },
    {
     "name": "stdout",
     "output_type": "stream",
     "text": [
      "1 0.9340073593750001\n",
      "2 0.27780595312499995\n",
      "low 0\n",
      "high 0\n",
      "spec 1\n",
      "gen 0\n"
     ]
    },
    {
     "name": "stderr",
     "output_type": "stream",
     "text": [
      "\r",
      " 94%|█████████▍| 939/1000 [03:19<00:17,  3.55it/s]"
     ]
    },
    {
     "name": "stdout",
     "output_type": "stream",
     "text": [
      "1 0.9197479531250001\n",
      "2 0.29077539062499996\n",
      "low 0\n",
      "high 0\n",
      "spec 1\n",
      "gen 0\n"
     ]
    },
    {
     "name": "stderr",
     "output_type": "stream",
     "text": [
      "\r",
      " 94%|█████████▍| 940/1000 [03:19<00:17,  3.51it/s]"
     ]
    },
    {
     "name": "stdout",
     "output_type": "stream",
     "text": [
      "1 0.9340073593750001\n",
      "2 0.27780595312499995\n",
      "low 0\n",
      "high 0\n",
      "spec 1\n",
      "gen 0\n"
     ]
    },
    {
     "name": "stderr",
     "output_type": "stream",
     "text": [
      "\r",
      " 94%|█████████▍| 941/1000 [03:19<00:16,  3.58it/s]"
     ]
    },
    {
     "name": "stdout",
     "output_type": "stream",
     "text": [
      "1 0.912673\n",
      "2 0.29407962500000007\n",
      "low 0\n",
      "high 0\n",
      "spec 1\n",
      "gen 0\n"
     ]
    },
    {
     "name": "stderr",
     "output_type": "stream",
     "text": [
      "\r",
      " 94%|█████████▍| 942/1000 [03:19<00:15,  3.67it/s]"
     ]
    },
    {
     "name": "stdout",
     "output_type": "stream",
     "text": [
      "1 0.9197479531250001\n",
      "2 0.271468421875\n",
      "low 0\n",
      "high 0\n",
      "spec 1\n",
      "gen 0\n"
     ]
    },
    {
     "name": "stderr",
     "output_type": "stream",
     "text": [
      "\r",
      " 94%|█████████▍| 943/1000 [03:20<00:15,  3.77it/s]"
     ]
    },
    {
     "name": "stdout",
     "output_type": "stream",
     "text": [
      "1 0.8847359999999999\n",
      "2 0.274625\n",
      "low 0\n",
      "high 0\n",
      "spec 1\n",
      "gen 0\n"
     ]
    },
    {
     "name": "stderr",
     "output_type": "stream",
     "text": [
      "\r",
      " 94%|█████████▍| 944/1000 [03:20<00:15,  3.69it/s]"
     ]
    },
    {
     "name": "stdout",
     "output_type": "stream",
     "text": [
      "1 0.9340073593750001\n",
      "2 0.27780595312499995\n",
      "low 0\n",
      "high 0\n",
      "spec 1\n",
      "gen 0\n"
     ]
    },
    {
     "name": "stderr",
     "output_type": "stream",
     "text": [
      "\r",
      " 94%|█████████▍| 945/1000 [03:20<00:14,  3.77it/s]"
     ]
    },
    {
     "name": "stdout",
     "output_type": "stream",
     "text": [
      "1 0.912673\n",
      "2 0.28749600000000003\n",
      "low 0\n",
      "high 0\n",
      "spec 1\n",
      "gen 0\n"
     ]
    },
    {
     "name": "stderr",
     "output_type": "stream",
     "text": [
      "\r",
      " 95%|█████████▍| 946/1000 [03:20<00:14,  3.65it/s]"
     ]
    },
    {
     "name": "stdout",
     "output_type": "stream",
     "text": [
      "1 0.9268593749999999\n",
      "2 0.274625\n",
      "low 0\n",
      "high 0\n",
      "spec 1\n",
      "gen 0\n"
     ]
    },
    {
     "name": "stderr",
     "output_type": "stream",
     "text": [
      "\r",
      " 95%|█████████▍| 947/1000 [03:21<00:14,  3.70it/s]"
     ]
    },
    {
     "name": "stdout",
     "output_type": "stream",
     "text": [
      "1 0.9197479531250001\n",
      "2 0.29077539062499996\n",
      "low 0\n",
      "high 0\n",
      "spec 1\n",
      "gen 0\n"
     ]
    },
    {
     "name": "stderr",
     "output_type": "stream",
     "text": [
      "\r",
      " 95%|█████████▍| 948/1000 [03:21<00:14,  3.71it/s]"
     ]
    },
    {
     "name": "stdout",
     "output_type": "stream",
     "text": [
      "1 0.8847359999999999\n",
      "2 0.274625\n",
      "low 0\n",
      "high 0\n",
      "spec 1\n",
      "gen 0\n",
      "1 0.9268593749999999\n",
      "2 0.30076300000000006\n",
      "low 0\n",
      "high 1\n",
      "spec 0\n",
      "gen 0\n"
     ]
    },
    {
     "name": "stderr",
     "output_type": "stream",
     "text": [
      " 95%|█████████▌| 950/1000 [03:22<00:14,  3.54it/s]"
     ]
    },
    {
     "name": "stdout",
     "output_type": "stream",
     "text": [
      "1 0.785053265625\n",
      "2 0.21331123437500002\n",
      "low 0\n",
      "high 0\n",
      "spec 1\n",
      "gen 0\n"
     ]
    },
    {
     "name": "stderr",
     "output_type": "stream",
     "text": [
      "\r",
      " 95%|█████████▌| 951/1000 [03:22<00:13,  3.64it/s]"
     ]
    },
    {
     "name": "stdout",
     "output_type": "stream",
     "text": [
      "1 0.912673\n",
      "2 0.29407962500000007\n",
      "low 0\n",
      "high 0\n",
      "spec 1\n",
      "gen 0\n"
     ]
    },
    {
     "name": "stderr",
     "output_type": "stream",
     "text": [
      "\r",
      " 95%|█████████▌| 952/1000 [03:22<00:13,  3.68it/s]"
     ]
    },
    {
     "name": "stdout",
     "output_type": "stream",
     "text": [
      "1 0.9197479531250001\n",
      "2 0.29077539062499996\n",
      "low 0\n",
      "high 0\n",
      "spec 1\n",
      "gen 0\n"
     ]
    },
    {
     "name": "stderr",
     "output_type": "stream",
     "text": [
      "\r",
      " 95%|█████████▌| 953/1000 [03:22<00:12,  3.77it/s]"
     ]
    },
    {
     "name": "stdout",
     "output_type": "stream",
     "text": [
      "1 0.9268593749999999\n",
      "2 0.30076300000000006\n",
      "low 0\n",
      "high 1\n",
      "spec 0\n",
      "gen 0\n"
     ]
    },
    {
     "name": "stderr",
     "output_type": "stream",
     "text": [
      "\r",
      " 95%|█████████▌| 954/1000 [03:23<00:12,  3.79it/s]"
     ]
    },
    {
     "name": "stdout",
     "output_type": "stream",
     "text": [
      "1 0.912673\n",
      "2 0.28749600000000003\n",
      "low 0\n",
      "high 0\n",
      "spec 1\n",
      "gen 0\n"
     ]
    },
    {
     "name": "stderr",
     "output_type": "stream",
     "text": [
      "\r",
      " 96%|█████████▌| 955/1000 [03:23<00:12,  3.69it/s]"
     ]
    },
    {
     "name": "stdout",
     "output_type": "stream",
     "text": [
      "1 0.30414232812499997\n",
      "2 0.30414232812499997\n",
      "low 0\n",
      "high 0\n",
      "spec 0\n",
      "gen 1\n"
     ]
    },
    {
     "name": "stderr",
     "output_type": "stream",
     "text": [
      "\r",
      " 96%|█████████▌| 956/1000 [03:23<00:11,  3.76it/s]"
     ]
    },
    {
     "name": "stdout",
     "output_type": "stream",
     "text": [
      "1 0.912673\n",
      "2 0.29407962500000007\n",
      "low 0\n",
      "high 0\n",
      "spec 1\n",
      "gen 0\n"
     ]
    },
    {
     "name": "stderr",
     "output_type": "stream",
     "text": [
      "\r",
      " 96%|█████████▌| 957/1000 [03:23<00:11,  3.78it/s]"
     ]
    },
    {
     "name": "stdout",
     "output_type": "stream",
     "text": [
      "1 0.9056344218750001\n",
      "2 0.297408796875\n",
      "low 0\n",
      "high 0\n",
      "spec 1\n",
      "gen 0\n"
     ]
    },
    {
     "name": "stderr",
     "output_type": "stream",
     "text": [
      "\r",
      " 96%|█████████▌| 958/1000 [03:24<00:11,  3.81it/s]"
     ]
    },
    {
     "name": "stdout",
     "output_type": "stream",
     "text": [
      "1 0.9056344218750001\n",
      "2 0.29077539062499996\n",
      "low 0\n",
      "high 0\n",
      "spec 1\n",
      "gen 0\n"
     ]
    },
    {
     "name": "stderr",
     "output_type": "stream",
     "text": [
      "\r",
      " 96%|█████████▌| 959/1000 [03:24<00:11,  3.70it/s]"
     ]
    },
    {
     "name": "stdout",
     "output_type": "stream",
     "text": [
      "1 0\n",
      "2 0\n",
      "low 1\n",
      "high 0\n",
      "spec 0\n",
      "gen 0\n"
     ]
    },
    {
     "name": "stderr",
     "output_type": "stream",
     "text": [
      "\r",
      " 96%|█████████▌| 960/1000 [03:24<00:10,  3.74it/s]"
     ]
    },
    {
     "name": "stdout",
     "output_type": "stream",
     "text": [
      "1 0.9268593749999999\n",
      "2 0.30076300000000006\n",
      "low 0\n",
      "high 1\n",
      "spec 0\n",
      "gen 0\n"
     ]
    },
    {
     "name": "stderr",
     "output_type": "stream",
     "text": [
      "\r",
      " 96%|█████████▌| 961/1000 [03:25<00:11,  3.36it/s]"
     ]
    },
    {
     "name": "stdout",
     "output_type": "stream",
     "text": [
      "1 0.9268593749999999\n",
      "2 0.30076300000000006\n",
      "low 0\n",
      "high 1\n",
      "spec 0\n",
      "gen 0\n"
     ]
    },
    {
     "name": "stderr",
     "output_type": "stream",
     "text": [
      "\r",
      " 96%|█████████▌| 962/1000 [03:25<00:12,  3.11it/s]"
     ]
    },
    {
     "name": "stdout",
     "output_type": "stream",
     "text": [
      "1 0.912673\n",
      "2 0.29407962500000007\n",
      "low 0\n",
      "high 0\n",
      "spec 1\n",
      "gen 0\n",
      "1 0.9197479531250001\n",
      "2 0.29077539062499996\n",
      "low 0\n",
      "high 0\n",
      "spec 1\n",
      "gen 0\n"
     ]
    },
    {
     "name": "stderr",
     "output_type": "stream",
     "text": [
      " 96%|█████████▋| 964/1000 [03:26<00:11,  3.15it/s]"
     ]
    },
    {
     "name": "stdout",
     "output_type": "stream",
     "text": [
      "1 0.797887671875\n",
      "2 0.21871126562500004\n",
      "low 0\n",
      "high 0\n",
      "spec 1\n",
      "gen 0\n"
     ]
    },
    {
     "name": "stderr",
     "output_type": "stream",
     "text": [
      "\r",
      " 96%|█████████▋| 965/1000 [03:26<00:11,  3.18it/s]"
     ]
    },
    {
     "name": "stdout",
     "output_type": "stream",
     "text": [
      "1 0.9340073593750001\n",
      "2 0.27780595312499995\n",
      "low 0\n",
      "high 0\n",
      "spec 1\n",
      "gen 0\n"
     ]
    },
    {
     "name": "stderr",
     "output_type": "stream",
     "text": [
      "\r",
      " 97%|█████████▋| 966/1000 [03:26<00:11,  3.06it/s]"
     ]
    },
    {
     "name": "stdout",
     "output_type": "stream",
     "text": [
      "1 0.9340073593750001\n",
      "2 0.27780595312499995\n",
      "low 0\n",
      "high 0\n",
      "spec 1\n",
      "gen 0\n",
      "1 0.9411919999999999\n",
      "2 0.31443199999999993\n",
      "low 0\n",
      "high 1\n",
      "spec 0\n",
      "gen 0\n"
     ]
    },
    {
     "name": "stderr",
     "output_type": "stream",
     "text": [
      " 97%|█████████▋| 968/1000 [03:27<00:11,  2.68it/s]"
     ]
    },
    {
     "name": "stdout",
     "output_type": "stream",
     "text": [
      "1 0.9340073593750001\n",
      "2 0.27780595312499995\n",
      "low 0\n",
      "high 0\n",
      "spec 1\n",
      "gen 0\n",
      "1 0.9197479531250001\n",
      "2 0.29077539062499996\n",
      "low 0\n",
      "high 0\n",
      "spec 1\n",
      "gen 0\n"
     ]
    },
    {
     "name": "stderr",
     "output_type": "stream",
     "text": [
      " 97%|█████████▋| 970/1000 [03:28<00:12,  2.33it/s]"
     ]
    },
    {
     "name": "stdout",
     "output_type": "stream",
     "text": [
      "1 0.8847359999999999\n",
      "2 0.274625\n",
      "low 0\n",
      "high 0\n",
      "spec 1\n",
      "gen 0\n",
      "1 0.8847359999999999\n",
      "2 0.274625\n",
      "low 0\n",
      "high 0\n",
      "spec 1\n",
      "gen 0\n"
     ]
    },
    {
     "name": "stderr",
     "output_type": "stream",
     "text": [
      " 97%|█████████▋| 972/1000 [03:29<00:10,  2.64it/s]"
     ]
    },
    {
     "name": "stdout",
     "output_type": "stream",
     "text": [
      "1 0.9340073593750001\n",
      "2 0.27780595312499995\n",
      "low 0\n",
      "high 0\n",
      "spec 1\n",
      "gen 0\n"
     ]
    },
    {
     "name": "stderr",
     "output_type": "stream",
     "text": [
      "\r",
      " 97%|█████████▋| 973/1000 [03:29<00:09,  2.92it/s]"
     ]
    },
    {
     "name": "stdout",
     "output_type": "stream",
     "text": [
      "1 0.9268593749999999\n",
      "2 0.30076300000000006\n",
      "low 0\n",
      "high 1\n",
      "spec 0\n",
      "gen 0\n"
     ]
    },
    {
     "name": "stderr",
     "output_type": "stream",
     "text": [
      "\r",
      " 97%|█████████▋| 974/1000 [03:29<00:09,  2.76it/s]"
     ]
    },
    {
     "name": "stdout",
     "output_type": "stream",
     "text": [
      "1 0.9411919999999999\n",
      "2 0.28749600000000003\n",
      "low 0\n",
      "high 0\n",
      "spec 1\n",
      "gen 0\n",
      "1 0.8847359999999999\n",
      "2 0.3214191250000001\n",
      "low 0\n",
      "high 1\n",
      "spec 0\n",
      "gen 0\n"
     ]
    },
    {
     "name": "stderr",
     "output_type": "stream",
     "text": [
      " 98%|█████████▊| 976/1000 [03:30<00:07,  3.07it/s]"
     ]
    },
    {
     "name": "stdout",
     "output_type": "stream",
     "text": [
      "1 0.9411919999999999\n",
      "2 0.31443199999999993\n",
      "low 0\n",
      "high 1\n",
      "spec 0\n",
      "gen 0\n"
     ]
    },
    {
     "name": "stderr",
     "output_type": "stream",
     "text": [
      "\r",
      " 98%|█████████▊| 977/1000 [03:30<00:07,  3.09it/s]"
     ]
    },
    {
     "name": "stdout",
     "output_type": "stream",
     "text": [
      "1 0.9268593749999999\n",
      "2 0.30076300000000006\n",
      "low 0\n",
      "high 1\n",
      "spec 0\n",
      "gen 0\n"
     ]
    },
    {
     "name": "stderr",
     "output_type": "stream",
     "text": [
      "\r",
      " 98%|█████████▊| 978/1000 [03:31<00:06,  3.27it/s]"
     ]
    },
    {
     "name": "stdout",
     "output_type": "stream",
     "text": [
      "1 0.9268593749999999\n",
      "2 0.30076300000000006\n",
      "low 0\n",
      "high 1\n",
      "spec 0\n",
      "gen 0\n"
     ]
    },
    {
     "name": "stderr",
     "output_type": "stream",
     "text": [
      "\r",
      " 98%|█████████▊| 979/1000 [03:31<00:06,  3.25it/s]"
     ]
    },
    {
     "name": "stdout",
     "output_type": "stream",
     "text": [
      "1 0.912673\n",
      "2 0.29407962500000007\n",
      "low 0\n",
      "high 0\n",
      "spec 1\n",
      "gen 0\n"
     ]
    },
    {
     "name": "stderr",
     "output_type": "stream",
     "text": [
      "\r",
      " 98%|█████████▊| 980/1000 [03:31<00:05,  3.38it/s]"
     ]
    },
    {
     "name": "stdout",
     "output_type": "stream",
     "text": [
      "1 0.9268593749999999\n",
      "2 0.30076300000000006\n",
      "low 0\n",
      "high 1\n",
      "spec 0\n",
      "gen 0\n"
     ]
    },
    {
     "name": "stderr",
     "output_type": "stream",
     "text": [
      "\r",
      " 98%|█████████▊| 981/1000 [03:32<00:05,  3.44it/s]"
     ]
    },
    {
     "name": "stdout",
     "output_type": "stream",
     "text": [
      "1 0.8573749999999999\n",
      "2 0.30754687500000005\n",
      "low 0\n",
      "high 1\n",
      "spec 0\n",
      "gen 0\n"
     ]
    },
    {
     "name": "stderr",
     "output_type": "stream",
     "text": [
      "\r",
      " 98%|█████████▊| 982/1000 [03:32<00:05,  3.16it/s]"
     ]
    },
    {
     "name": "stdout",
     "output_type": "stream",
     "text": [
      "1 0.912673\n",
      "2 0.29407962500000007\n",
      "low 0\n",
      "high 0\n",
      "spec 1\n",
      "gen 0\n"
     ]
    },
    {
     "name": "stderr",
     "output_type": "stream",
     "text": [
      "\r",
      " 98%|█████████▊| 983/1000 [03:32<00:05,  3.29it/s]"
     ]
    },
    {
     "name": "stdout",
     "output_type": "stream",
     "text": [
      "1 0.9268593749999999\n",
      "2 0.30076300000000006\n",
      "low 0\n",
      "high 1\n",
      "spec 0\n",
      "gen 0\n"
     ]
    },
    {
     "name": "stderr",
     "output_type": "stream",
     "text": [
      "\r",
      " 98%|█████████▊| 984/1000 [03:32<00:04,  3.44it/s]"
     ]
    },
    {
     "name": "stdout",
     "output_type": "stream",
     "text": [
      "1 0.9340073593750001\n",
      "2 0.27780595312499995\n",
      "low 0\n",
      "high 0\n",
      "spec 1\n",
      "gen 0\n"
     ]
    },
    {
     "name": "stderr",
     "output_type": "stream",
     "text": [
      "\r",
      " 98%|█████████▊| 985/1000 [03:33<00:04,  3.45it/s]"
     ]
    },
    {
     "name": "stdout",
     "output_type": "stream",
     "text": [
      "1 0.912673\n",
      "2 0.29407962500000007\n",
      "low 0\n",
      "high 0\n",
      "spec 1\n",
      "gen 0\n"
     ]
    },
    {
     "name": "stderr",
     "output_type": "stream",
     "text": [
      "\r",
      " 99%|█████████▊| 986/1000 [03:33<00:04,  3.42it/s]"
     ]
    },
    {
     "name": "stdout",
     "output_type": "stream",
     "text": [
      "1 0.9268593749999999\n",
      "2 0.30076300000000006\n",
      "low 0\n",
      "high 1\n",
      "spec 0\n",
      "gen 0\n"
     ]
    },
    {
     "name": "stderr",
     "output_type": "stream",
     "text": [
      "\r",
      " 99%|█████████▊| 987/1000 [03:33<00:03,  3.49it/s]"
     ]
    },
    {
     "name": "stdout",
     "output_type": "stream",
     "text": [
      "1 0.810861203125\n",
      "2 0.22420167187499992\n",
      "low 0\n",
      "high 0\n",
      "spec 1\n",
      "gen 0\n"
     ]
    },
    {
     "name": "stderr",
     "output_type": "stream",
     "text": [
      "\r",
      " 99%|█████████▉| 988/1000 [03:34<00:03,  3.62it/s]"
     ]
    },
    {
     "name": "stdout",
     "output_type": "stream",
     "text": [
      "1 0.9268593749999999\n",
      "2 0.30076300000000006\n",
      "low 0\n",
      "high 1\n",
      "spec 0\n",
      "gen 0\n"
     ]
    },
    {
     "name": "stderr",
     "output_type": "stream",
     "text": [
      "\r",
      " 99%|█████████▉| 989/1000 [03:34<00:03,  3.50it/s]"
     ]
    },
    {
     "name": "stdout",
     "output_type": "stream",
     "text": [
      "1 0.9411919999999999\n",
      "2 0.281011375\n",
      "low 0\n",
      "high 0\n",
      "spec 1\n",
      "gen 0\n"
     ]
    },
    {
     "name": "stderr",
     "output_type": "stream",
     "text": [
      "\r",
      " 99%|█████████▉| 990/1000 [03:34<00:02,  3.56it/s]"
     ]
    },
    {
     "name": "stdout",
     "output_type": "stream",
     "text": [
      "1 0.970299\n",
      "2 0.3214191250000001\n",
      "low 0\n",
      "high 1\n",
      "spec 0\n",
      "gen 0\n"
     ]
    },
    {
     "name": "stderr",
     "output_type": "stream",
     "text": [
      "\r",
      " 99%|█████████▉| 991/1000 [03:34<00:02,  3.63it/s]"
     ]
    },
    {
     "name": "stdout",
     "output_type": "stream",
     "text": [
      "1 0.9411919999999999\n",
      "2 0.281011375\n",
      "low 0\n",
      "high 0\n",
      "spec 1\n",
      "gen 0\n",
      "1 0.9484133906250001\n",
      "2 0.332092703125\n",
      "low 0\n",
      "high 1\n",
      "spec 0\n",
      "gen 0\n"
     ]
    },
    {
     "name": "stderr",
     "output_type": "stream",
     "text": [
      " 99%|█████████▉| 993/1000 [03:35<00:02,  3.15it/s]"
     ]
    },
    {
     "name": "stdout",
     "output_type": "stream",
     "text": [
      "1 0.9411919999999999\n",
      "2 0.281011375\n",
      "low 0\n",
      "high 0\n",
      "spec 1\n",
      "gen 0\n"
     ]
    },
    {
     "name": "stderr",
     "output_type": "stream",
     "text": [
      "\r",
      " 99%|█████████▉| 994/1000 [03:35<00:01,  3.29it/s]"
     ]
    },
    {
     "name": "stdout",
     "output_type": "stream",
     "text": [
      "1 0.9340073593750001\n",
      "2 0.27780595312499995\n",
      "low 0\n",
      "high 0\n",
      "spec 1\n",
      "gen 0\n"
     ]
    },
    {
     "name": "stderr",
     "output_type": "stream",
     "text": [
      "\r",
      "100%|█████████▉| 995/1000 [03:36<00:01,  3.49it/s]"
     ]
    },
    {
     "name": "stdout",
     "output_type": "stream",
     "text": [
      "1 0.912673\n",
      "2 0.30076300000000006\n",
      "low 0\n",
      "high 1\n",
      "spec 0\n",
      "gen 0\n"
     ]
    },
    {
     "name": "stderr",
     "output_type": "stream",
     "text": [
      "\r",
      "100%|█████████▉| 996/1000 [03:36<00:01,  3.48it/s]"
     ]
    },
    {
     "name": "stdout",
     "output_type": "stream",
     "text": [
      "1 0.9411919999999999\n",
      "2 0.281011375\n",
      "low 0\n",
      "high 0\n",
      "spec 1\n",
      "gen 0\n"
     ]
    },
    {
     "name": "stderr",
     "output_type": "stream",
     "text": [
      "\r",
      "100%|█████████▉| 997/1000 [03:36<00:00,  3.56it/s]"
     ]
    },
    {
     "name": "stdout",
     "output_type": "stream",
     "text": [
      "1 0.9056344218750001\n",
      "2 0.297408796875\n",
      "low 0\n",
      "high 0\n",
      "spec 1\n",
      "gen 0\n",
      "1 0.9197479531250001\n",
      "2 0.297408796875\n",
      "low 0\n",
      "high 0\n",
      "spec 1\n",
      "gen 0\n"
     ]
    },
    {
     "name": "stderr",
     "output_type": "stream",
     "text": [
      "100%|█████████▉| 999/1000 [03:37<00:00,  3.21it/s]"
     ]
    },
    {
     "name": "stdout",
     "output_type": "stream",
     "text": [
      "1 0.912673\n",
      "2 0.30076300000000006\n",
      "low 0\n",
      "high 1\n",
      "spec 0\n",
      "gen 0\n"
     ]
    },
    {
     "name": "stderr",
     "output_type": "stream",
     "text": [
      "100%|██████████| 1000/1000 [03:37<00:00,  4.59it/s]"
     ]
    },
    {
     "name": "stdout",
     "output_type": "stream",
     "text": [
      "1 0.850624046875\n",
      "2 0.317912765625\n",
      "low 0\n",
      "high 1\n",
      "spec 0\n",
      "gen 0\n"
     ]
    },
    {
     "name": "stderr",
     "output_type": "stream",
     "text": [
      "\n"
     ]
    }
   ],
   "source": [
    "if __name__ == \"__main__\":\n",
    "    # Here the stuff you want to execute with python main.py\n",
    "\n",
    "\n",
    "    parser = argparse.ArgumentParser(description='Process some integers.')\n",
    "\n",
    "    parser.add_argument('-E', type=int, default=4, help=\"Number of effector genes\")\n",
    "\n",
    "    #number of environments that fluctuate, IMPORTANT VARIABLE\n",
    "    parser.add_argument('-nenv', type=int, default=2, help=\"Number of environments\")\n",
    "\n",
    "    #arbitrary mutation rates\n",
    "    #we could also make these rates evolve themselves\n",
    "    parser.add_argument('-dn_rate', type=float, default=0.005, help=\"De novo Mutation rate\")\n",
    "    parser.add_argument('-dup_rate', type=float, default=0.005, help=\"Dup Mutation rate\")\n",
    "    parser.add_argument('-del_rate', type=float, default=0.01, help=\"Del Mutation rate\")\n",
    "    parser.add_argument('-edge_rate', type=float, default=0.8, help=\"Edge Mutation rate\")\n",
    "    \n",
    "    parser.add_argument('-node_cost', type=float, default=0.01, help=\"Cost of having a node\")\n",
    "\n",
    "    parser.add_argument('-pop_size', type=int, default=100, help=\"Population size\")\n",
    "    parser.add_argument('-gens', type=int, default=1000, help=\"Number of generations\")\n",
    "    parser.add_argument('-season_length', type=int, default=10000, help=\"Number of generations in an env\")\n",
    "    parser.add_argument('-exp_type', type=str, default=\"ANONYMUS\", help=\"Name your experiment for grouping\")\n",
    "    parser.add_argument('-rep', type=str, default=\"1\", help=\"ID of replicate\")\n",
    "\n",
    "    args = parser.parse_args(\"\")\n",
    "\n",
    "    tag = conf2tag(vars(args))\n",
    "    wandb.init(project=\"test-project-11132020\", group=args.exp_type+tag)\n",
    "\n",
    "    ### Important variables to set\n",
    "\n",
    "    args.default_nodes = np.linspace(0,args.E,args.E+1)\n",
    "    args.default_nodes = [int(i) for i in args.default_nodes] #maternal factor and E effector genes, can't be duplicated or removed\n",
    "    args.effectors = np.delete(args.default_nodes, 0) #effector genes don't have outgoing edges, only incoming\n",
    "    args.name_of_file = args.exp_type + tag + \"_\" + args.rep\n",
    "    print(args.name_of_file)\n",
    "\n",
    "\n",
    "    ### RUN CODE\n",
    "    print(\"running code\")\n",
    "    pop, average_fitness, ave_grnsize, exp_rob, fit_rob, ben_mut, del_mut, best_agent, high,low,spec,gen = evolve(args)"
   ]
  },
  {
   "cell_type": "code",
   "execution_count": 77,
   "metadata": {},
   "outputs": [
    {
     "data": {
      "text/plain": [
       "Text(0.5, 0, 'Generations')"
      ]
     },
     "execution_count": 77,
     "metadata": {},
     "output_type": "execute_result"
    },
    {
     "data": {
      "image/png": "[encoded data removed]",
      "text/plain": [
       "<Figure size 432x288 with 1 Axes>"
      ]
     },
     "metadata": {
      "needs_background": "light"
     },
     "output_type": "display_data"
    }
   ],
   "source": [
    "plt.plot(average_fitness)\n",
    "plt.ylabel(\"Average fitness\")\n",
    "plt.xlabel(\"Generations\")\n",
    "#plt.savefig('ave_fit_wcost_f3.png')"
   ]
  },
  {
   "cell_type": "code",
   "execution_count": 78,
   "metadata": {},
   "outputs": [
    {
     "data": {
      "text/plain": [
       "Text(0.5, 0, 'Generations')"
      ]
     },
     "execution_count": 78,
     "metadata": {},
     "output_type": "execute_result"
    },
    {
     "data": {
      "image/png": "[encoded data removed]",
      "text/plain": [
       "<Figure size 432x288 with 1 Axes>"
      ]
     },
     "metadata": {
      "needs_background": "light"
     },
     "output_type": "display_data"
    }
   ],
   "source": [
    "plt.plot(ave_grnsize)\n",
    "plt.ylabel(\"Average number of nodes in the network\")\n",
    "plt.xlabel(\"Generations\")\n",
    "#plt.savefig('ave_size_wcost_f3.png')"
   ]
  },
  {
   "cell_type": "code",
   "execution_count": 79,
   "metadata": {},
   "outputs": [
    {
     "data": {
      "text/plain": [
       "[<matplotlib.lines.Line2D at 0x1a278d5748>]"
      ]
     },
     "execution_count": 79,
     "metadata": {},
     "output_type": "execute_result"
    },
    {
     "data": {
      "image/png": "[encoded data removed]",
      "text/plain": [
       "<Figure size 432x288 with 1 Axes>"
      ]
     },
     "metadata": {
      "needs_background": "light"
     },
     "output_type": "display_data"
    }
   ],
   "source": [
    "plt.plot(del_mut)\n",
    "plt.plot(ben_mut)"
   ]
  },
  {
   "cell_type": "code",
   "execution_count": 80,
   "metadata": {},
   "outputs": [
    {
     "data": {
      "text/plain": [
       "[<matplotlib.lines.Line2D at 0x1a27ccbda0>]"
      ]
     },
     "execution_count": 80,
     "metadata": {},
     "output_type": "execute_result"
    },
    {
     "data": {
      "image/png": "[encoded data removed]",
      "text/plain": [
       "<Figure size 432x288 with 1 Axes>"
      ]
     },
     "metadata": {
      "needs_background": "light"
     },
     "output_type": "display_data"
    }
   ],
   "source": [
    "plt.plot(spec)"
   ]
  },
  {
   "cell_type": "code",
   "execution_count": null,
   "metadata": {},
   "outputs": [],
   "source": []
  }
 ],
 "metadata": {
  "kernelspec": {
   "display_name": "Python 3",
   "language": "python",
   "name": "python3"
  },
  "language_info": {
   "codemirror_mode": {
    "name": "ipython",
    "version": 3
   },
   "file_extension": ".py",
   "mimetype": "text/x-python",
   "name": "python",
   "nbconvert_exporter": "python",
   "pygments_lexer": "ipython3",
   "version": "3.7.2"
  }
 },
 "nbformat": 4,
 "nbformat_minor": 2
}
