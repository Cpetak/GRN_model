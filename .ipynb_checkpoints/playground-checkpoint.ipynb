{
 "cells": [
  {
   "cell_type": "code",
   "execution_count": 1,
   "metadata": {},
   "outputs": [],
   "source": [
    "import numpy as np\n",
    "import random\n",
    "import matplotlib.pyplot as plt\n",
    "from copy import deepcopy\n",
    "from tqdm import trange\n",
    "from math import e\n",
    "from scipy.stats import beta\n",
    "from scipy.spatial import distance"
   ]
  },
  {
   "cell_type": "code",
   "execution_count": 2,
   "metadata": {},
   "outputs": [],
   "source": [
    "#Important variables\n",
    "\n",
    "E = 5 #number of effector genes, IMPORTANT VARIABLE\n",
    "default_nodes = np.linspace(0,E,E+1)\n",
    "default_nodes = [int(i) for i in default_nodes] #maternal factor and E effector genes, can't be duplicated or removed\n",
    "effectors = np.delete(default_nodes, 0) #effector genes don't have outgoing edges, only incoming"
   ]
  },
  {
   "cell_type": "code",
   "execution_count": 3,
   "metadata": {},
   "outputs": [
    {
     "data": {
      "text/plain": [
       "[0, 1, 2, 3, 4, 5]"
      ]
     },
     "execution_count": 3,
     "metadata": {},
     "output_type": "execute_result"
    }
   ],
   "source": [
    "default_nodes"
   ]
  },
  {
   "cell_type": "code",
   "execution_count": 4,
   "metadata": {},
   "outputs": [
    {
     "data": {
      "text/plain": [
       "array([1, 2, 3, 4, 5])"
      ]
     },
     "execution_count": 4,
     "metadata": {},
     "output_type": "execute_result"
    }
   ],
   "source": [
    "effectors"
   ]
  },
  {
   "cell_type": "code",
   "execution_count": 5,
   "metadata": {},
   "outputs": [],
   "source": [
    "#arbitrary mutation rates\n",
    "#we could also make these rates evolve themselves\n",
    "dn_rate = 0.005\n",
    "dup_rate = 0.005\n",
    "del_rate = 0.01\n",
    "edge_rate = 0.8"
   ]
  },
  {
   "cell_type": "code",
   "execution_count": 6,
   "metadata": {},
   "outputs": [],
   "source": [
    "#Make perfect gene expression states for each environment\n",
    "nenvs = 2 #number of environments that fluctuate, IMPORTANT VARIABLE\n",
    "envs = [] #for keeping track of the environment\n",
    "def generate_optimum(nenvs, neffect):\n",
    "    if nenvs == 2:\n",
    "        x = np.linspace(0,1,100)\n",
    "        a, b = 2, 7\n",
    "        y = beta.pdf(x, a, b)\n",
    "        y /= y.max()\n",
    "        e=[]\n",
    "        for i in range(neffect):\n",
    "            t = y[int((100/neffect)*i)]\n",
    "            t = np.around(t,2)\n",
    "            e.append(t)\n",
    "        envs.append(np.asarray(e))\n",
    "        envs.append(np.asarray(e[::-1]))\n",
    "    else:\n",
    "        for env in range(nenvs):\n",
    "            x = np.linspace(0,1,100)\n",
    "            a, b = np.random.randint(low=1,high=30,size=1), np.random.randint(low=2,high=30,size=1)\n",
    "            y = beta.pdf(x, a, b)\n",
    "            y /= y.max()\n",
    "            e=[]\n",
    "            for i in range(neffect):\n",
    "                t = y[int((100/neffect)*i)]\n",
    "                t = np.around(t,2)\n",
    "                e.append(t)                                \n",
    "            envs.append(np.asarray(e))"
   ]
  },
  {
   "cell_type": "code",
   "execution_count": 7,
   "metadata": {},
   "outputs": [],
   "source": [
    "generate_optimum(2,E)"
   ]
  },
  {
   "cell_type": "code",
   "execution_count": 8,
   "metadata": {},
   "outputs": [
    {
     "data": {
      "text/plain": [
       "[array([0.  , 0.92, 0.32, 0.04, 0.  ]), array([0.  , 0.04, 0.32, 0.92, 0.  ])]"
      ]
     },
     "execution_count": 8,
     "metadata": {},
     "output_type": "execute_result"
    }
   ],
   "source": [
    "envs"
   ]
  },
  {
   "cell_type": "code",
   "execution_count": 9,
   "metadata": {},
   "outputs": [
    {
     "data": {
      "image/png": "[encoded data removed]",
      "text/plain": [
       "<Figure size 432x288 with 1 Axes>"
      ]
     },
     "metadata": {
      "needs_background": "light"
     },
     "output_type": "display_data"
    }
   ],
   "source": [
    "for env in range(len(envs)):\n",
    "    plt.plot(envs[env])\n",
    "plt.show()"
   ]
  },
  {
   "cell_type": "code",
   "execution_count": 21,
   "metadata": {},
   "outputs": [],
   "source": [
    "#Agents have special attributes and the following functions:\n",
    "#4 different kinds of mutations, a sigmoid function for \"binding affinity\", a grn output function (!) and a fitness function\n",
    "\n",
    "class Agent:\n",
    "    def __init__(self, E):\n",
    "        \"\"\"\n",
    "        Initialization of an individual.\n",
    "        Parameters:\n",
    "            :int N:         Number of nodes in the GRN.\n",
    "        Returns:\n",
    "            None. Constructor method.\n",
    "        \"\"\"\n",
    "        \n",
    "        #BUILDING INITIAL GRN\n",
    "        N = E+1\n",
    "        self.N = N #number of initial nodes, maternal + effectors\n",
    "        self.nodes = list(np.arange(N))\n",
    "        self.adjM = np.zeros((N, N))\n",
    "        self.adjM[0,1:] = 0.1 \n",
    "        #initiate with maternal connected to effector genes \n",
    "        self.adjM[0,0] = 1\n",
    "        #and maternal positive feedbackloop (otherwise it turns itself down immediately and so the rest is also repressed)\n",
    "        \n",
    "        #OTHER PARAMETERS\n",
    "        self.alpha = 10 #for sigmoid function - could be mutated later, now constant\n",
    "        self.blacklist = [] #set of deleted genes\n",
    "        self.fitness = 0\n",
    "    \n",
    "    def mutate(self, dn_rate = dn_rate, dup_rate = dup_rate, del_rate = del_rate, edge_rate = edge_rate):\n",
    "        \n",
    "        if random.uniform(0, 1) < dn_rate:\n",
    "            self.add_dn_node()\n",
    "            \n",
    "        if random.uniform(0, 1) < dup_rate:\n",
    "            self.add_dup_node()\n",
    "            \n",
    "        if random.uniform(0, 1) < del_rate:\n",
    "            self.del_node()\n",
    "            \n",
    "        if random.uniform(0, 1) < edge_rate:\n",
    "            self.mut_edge()\n",
    "    \n",
    "    def add_dn_node(self): \n",
    "        #de novo gene, no interactions when initiated\n",
    "        self.nodes.append(self.N)\n",
    "\n",
    "        #Make adj matrix bigger\n",
    "        column_to_be_added = np.zeros(self.N)\n",
    "        self.adjM = np.column_stack((self.adjM, column_to_be_added)) \n",
    "        self.N += 1\n",
    "        \n",
    "        if self.N > 50:\n",
    "            print(\"Number of nodes greater than 50!\")\n",
    "        \n",
    "        row_to_be_added = np.zeros(self.N)\n",
    "        self.adjM = np.vstack((self.adjM, row_to_be_added))\n",
    "        \n",
    "    def add_dup_node(self):\n",
    "        #duplicate a node with all of its connections\n",
    "        avail = list(set(self.nodes) - set(self.blacklist) - set(default_nodes))\n",
    "        \n",
    "        if len(avail) > 0:\n",
    "            dup_node = np.random.choice(avail)\n",
    "\n",
    "            column_to_be_added = self.adjM[:,dup_node] #duplicate column\n",
    "            self.adjM = np.column_stack((self.adjM, column_to_be_added)) \n",
    "\n",
    "            row_to_be_added = self.adjM[dup_node,:] #duplicate row\n",
    "            self.adjM = np.vstack((self.adjM, row_to_be_added))\n",
    "\n",
    "            self.nodes.append(self.N)\n",
    "            self.N += 1\n",
    "            \n",
    "            if self.N > 50:\n",
    "                print(\"Number of nodes greater than 50!\")\n",
    "        \n",
    "    def del_node(self):\n",
    "        #delete an existing node with is not an effector or maternal gene\n",
    "        #rows/columns in adj matrix are not deleted, all interactions are set to 0 instead\n",
    "        #self.N incudes deleted nodes!\n",
    "        avail = list(set(self.nodes) - set(self.blacklist) - set(default_nodes))\n",
    "        \n",
    "        if len(avail) > 0:\n",
    "        \n",
    "            deleted_node = np.random.choice(avail)\n",
    "\n",
    "            self.adjM[deleted_node,:] = np.zeros(self.N)\n",
    "            self.adjM[:,deleted_node] = np.zeros(self.N)\n",
    "\n",
    "            self.blacklist.append(deleted_node)\n",
    "        \n",
    "    def mut_edge(self):\n",
    "        #mutate the weight of an edge\n",
    "        avail = list(set(self.nodes) - set(self.blacklist))\n",
    "        \n",
    "        mod_avail_from = list(set(avail) - set(effectors)) #effectors can't regulate\n",
    "        from_nodes = np.random.choice(mod_avail_from)\n",
    "        \n",
    "        avail.remove(0) #maternal can't be regulated\n",
    "        \n",
    "        if from_nodes != 0: #otherwise I would remove 0 twice\n",
    "            avail.remove(from_nodes) #self loops are not allowed\n",
    "        \n",
    "        to_nodes = np.random.choice(avail)\n",
    "        \n",
    "        self.adjM[from_nodes,to_nodes] = np.around(np.random.normal(0, 1, 1), 2)\n",
    "        \n",
    "    \n",
    "    def sigm(self,sum_input):\n",
    "    #adapted from wang 2014\n",
    "        sum_input = sum_input-0.5\n",
    "        x = sum_input * -self.alpha\n",
    "        output = 1/(1 + np.exp(x))\n",
    "        return output\n",
    "    \n",
    "    def grn_output(self, debug=False):\n",
    "    #explained further later    \n",
    "        a = self.adjM\n",
    "        if debug:\n",
    "            print(a)\n",
    "\n",
    "        #thresh = np.vectorize(lambda x : -1 if x < 0 else (1 if x > 0 else 0)) #sign function for regulatory genes\n",
    "        step = lambda a,s: self.sigm(s.dot(a)) #a step is matrix multiplication followed by checking on sigmodial function\n",
    "        s = np.zeros(self.N)\n",
    "        s[0] = 1 #starts with only maternal factor on\n",
    "        e=0 #counter for state stability\n",
    "        i=0 #counter for number of GRN updates\n",
    "        ss=[] #stores GRN state for comparision to updated state\n",
    "  \n",
    "        while e < 2 and i < 3*(self.N-len(self.blacklist)):\n",
    "            if debug:\n",
    "                print(s) #print expression state\n",
    "            ss.append(s) #only maternal ON at first\n",
    "            s=step(a,s)\n",
    "            s=np.around(s,2)\n",
    "            s[s <=0.01] =0 #otherwise as sigm(0) is 0.01 deleted nodes wouldn't really be deleted\n",
    "            s[s ==0.99] =1 #otherwise maternat impact is not constant but reducing\n",
    "            if np.array_equal(ss[i], s):\n",
    "                if i != 0:\n",
    "                    e+=1\n",
    "            i+=1\n",
    "\n",
    "        if e > 1:\n",
    "            conc_of_effectors = s[1:E+1]\n",
    "\n",
    "        else:\n",
    "            conc_of_effectors = np.linspace(0,0,E)\n",
    "            conc_of_effectors = [int(i) for i in conc_of_effectors]\n",
    "        return(conc_of_effectors)\n",
    "    \n",
    "def fitness_function(grn_out, state):\n",
    "    #distance of GRN output to perfect expression in specific environmental state\n",
    "    if np.sum(grn_out) != 0:\n",
    "        grn_out = np.asarray(grn_out)\n",
    "\n",
    "        diff = np.abs(grn_out - envs[state]).sum()\n",
    "        f = 1-diff/E\n",
    "    else:\n",
    "        #print('not stable')\n",
    "        f = 0\n",
    "\n",
    "    return(f**3)"
   ]
  },
  {
   "cell_type": "code",
   "execution_count": 11,
   "metadata": {},
   "outputs": [],
   "source": [
    "a = Agent(5)"
   ]
  },
  {
   "cell_type": "code",
   "execution_count": 12,
   "metadata": {},
   "outputs": [
    {
     "name": "stdout",
     "output_type": "stream",
     "text": [
      "6\n",
      "[0, 1, 2, 3, 4, 5]\n",
      "[[1.  0.1 0.1 0.1 0.1 0.1]\n",
      " [0.  0.  0.  0.  0.  0. ]\n",
      " [0.  0.  0.  0.  0.  0. ]\n",
      " [0.  0.  0.  0.  0.  0. ]\n",
      " [0.  0.  0.  0.  0.  0. ]\n",
      " [0.  0.  0.  0.  0.  0. ]]\n"
     ]
    }
   ],
   "source": [
    "print(a.N)\n",
    "print(a.nodes)\n",
    "print(a.adjM)"
   ]
  },
  {
   "cell_type": "code",
   "execution_count": 13,
   "metadata": {},
   "outputs": [
    {
     "name": "stdout",
     "output_type": "stream",
     "text": [
      "[[1.  0.1 0.1 0.1 0.1 0.1 0. ]\n",
      " [0.  0.  0.  0.  0.  0.  0. ]\n",
      " [0.  0.  0.  0.  0.  0.  0. ]\n",
      " [0.  0.  0.  0.  0.  0.  0. ]\n",
      " [0.  0.  0.  0.  0.  0.  0. ]\n",
      " [0.  0.  0.  0.  0.  0.  0. ]\n",
      " [0.  0.  0.  0.  0.  0.  0. ]]\n"
     ]
    }
   ],
   "source": [
    "a.add_dn_node()\n",
    "print(a.adjM)"
   ]
  },
  {
   "cell_type": "code",
   "execution_count": 14,
   "metadata": {},
   "outputs": [
    {
     "name": "stdout",
     "output_type": "stream",
     "text": [
      "[[ 1.    0.67  0.08 -0.27 -0.11 -0.27 -2.67]\n",
      " [ 0.    0.    0.    0.    0.    0.    0.  ]\n",
      " [ 0.    0.    0.    0.    0.    0.    0.  ]\n",
      " [ 0.    0.    0.    0.    0.    0.    0.  ]\n",
      " [ 0.    0.    0.    0.    0.    0.    0.  ]\n",
      " [ 0.    0.    0.    0.    0.    0.    0.  ]\n",
      " [ 0.   -1.49 -0.53  0.7  -0.47  0.02  0.  ]]\n"
     ]
    }
   ],
   "source": [
    "for i in range(100):\n",
    "    a.mut_edge() \n",
    "print(a.adjM)"
   ]
  },
  {
   "cell_type": "code",
   "execution_count": 15,
   "metadata": {},
   "outputs": [
    {
     "name": "stdout",
     "output_type": "stream",
     "text": [
      "[[ 1.    0.67  0.08 -0.27 -0.11 -0.27 -2.67]\n",
      " [ 0.    0.    0.    0.    0.    0.    0.  ]\n",
      " [ 0.    0.    0.    0.    0.    0.    0.  ]\n",
      " [ 0.    0.    0.    0.    0.    0.    0.  ]\n",
      " [ 0.    0.    0.    0.    0.    0.    0.  ]\n",
      " [ 0.    0.    0.    0.    0.    0.    0.  ]\n",
      " [ 0.   -1.49 -0.53  0.7  -0.47  0.02  0.  ]]\n",
      "[1. 0. 0. 0. 0. 0. 0.]\n",
      "[1.   0.85 0.   0.   0.   0.   0.  ]\n",
      "[1.   0.85 0.   0.   0.   0.   0.  ]\n"
     ]
    }
   ],
   "source": [
    "conc_of_effectors = a.grn_output(debug=True)"
   ]
  },
  {
   "cell_type": "code",
   "execution_count": 16,
   "metadata": {},
   "outputs": [
    {
     "name": "stdout",
     "output_type": "stream",
     "text": [
      "[0.   0.04 0.32 0.92 0.  ]\n",
      "1\n",
      "[0.85 0.   0.   0.   0.  ]\n",
      "1\n",
      "[1.   0.96 0.68 0.08 1.  ]\n",
      "1\n"
     ]
    },
    {
     "data": {
      "image/png": "[encoded data removed]",
      "text/plain": [
       "<Figure size 432x288 with 1 Axes>"
      ]
     },
     "metadata": {
      "needs_background": "light"
     },
     "output_type": "display_data"
    }
   ],
   "source": [
    "perf_fitness = fitness_function(envs[1],1)\n",
    "plt.plot(envs[1],label=f\"perfect: {perf_fitness:.2f}\")\n",
    "\n",
    "#now if we compare this to the pattern we get above\n",
    "our_fitness = fitness_function(conc_of_effectors,1)\n",
    "plt.plot(conc_of_effectors, label=f'our_grn: {our_fitness:.2f}')\n",
    "\n",
    "#which is much lower than for the perfect but still higher than for\n",
    "bad_fitness = fitness_function((1-envs[1]),1)\n",
    "plt.plot(1-envs[1], label=f\"bad: {bad_fitness:.2f}\")\n",
    "plt.legend()\n",
    "plt.show()"
   ]
  },
  {
   "cell_type": "code",
   "execution_count": 17,
   "metadata": {},
   "outputs": [],
   "source": [
    "def create_pop(pop_size,E):\n",
    "    pop = []\n",
    "    \n",
    "    for i in range(pop_size):\n",
    "        t = Agent(E)\n",
    "        pop.append(t)\n",
    "        \n",
    "    return(pop)  "
   ]
  },
  {
   "cell_type": "code",
   "execution_count": 22,
   "metadata": {},
   "outputs": [],
   "source": [
    "def evolve(pop_size, gens, season_length, E):\n",
    "    #gens = number of generations\n",
    "    #season_length = number of generations before environment switches\n",
    "    pop = create_pop(pop_size, E)\n",
    "    state = 0 # we start with environment 0\n",
    "    \n",
    "    \n",
    "    for i in trange(gens):\n",
    "        #every generation\n",
    "        #check fitness and generate new population\n",
    "        \n",
    "        \n",
    "        for idx, ind in enumerate(pop): #mutate \n",
    "            ind.mutate()\n",
    "                                \n",
    "        for p in pop:\n",
    "            grn_out = p.grn_output()\n",
    "            p.fitness = fitness_function(grn_out,state) #will depend on env\n",
    "                 \n",
    "        pop_fitness = [x.fitness for x in pop]  \n",
    "        tot_fitness = np.sum(pop_fitness)\n",
    "        average_fitness.append(np.mean(pop_fitness))\n",
    "        \n",
    "\n",
    "        pop_prob = [f/tot_fitness for f in pop_fitness]\n",
    "        new_pop = np.random.choice(pop, pop_size, p=pop_prob, replace = True) #same individual can be selected over and over again\n",
    "        pop = [deepcopy(agent) for agent in new_pop]\n",
    "        \n",
    "        rd = (i+1) % season_length\n",
    "        \n",
    "        if rd == 0:\n",
    "            #print(\"after this changed state\")\n",
    "            if state == 0:\n",
    "                state = 1 #np.random.choice(nenvs)\n",
    "            else:\n",
    "                state = 0\n",
    "                \n",
    "    \n",
    "    best_agent = max([{\"fitness\" : x.fitness, \"Agent\" : x} for x in pop], key=lambda x : x[\"fitness\"])[\"Agent\"]\n",
    "    print(best_agent.adjM)\n",
    "    print(best_agent.fitness)\n",
    "    print(best_agent.grn_output())\n",
    "    \n",
    "    return(pop)"
   ]
  },
  {
   "cell_type": "code",
   "execution_count": 29,
   "metadata": {},
   "outputs": [],
   "source": [
    "average_fitness = []"
   ]
  },
  {
   "cell_type": "code",
   "execution_count": 30,
   "metadata": {},
   "outputs": [
    {
     "name": "stderr",
     "output_type": "stream",
     "text": [
      "100%|██████████| 100/100 [00:33<00:00,  2.95it/s]"
     ]
    },
    {
     "name": "stdout",
     "output_type": "stream",
     "text": [
      "[[ 1.   -0.03  0.73  0.44  0.18 -0.41 -1.16  0.    0.   -0.1 ]\n",
      " [ 0.    0.    0.    0.    0.    0.    0.    0.    0.    0.  ]\n",
      " [ 0.    0.    0.    0.    0.    0.    0.    0.    0.    0.  ]\n",
      " [ 0.    0.    0.    0.    0.    0.    0.    0.    0.    0.  ]\n",
      " [ 0.    0.    0.    0.    0.    0.    0.    0.    0.    0.  ]\n",
      " [ 0.    0.    0.    0.    0.    0.    0.    0.    0.    0.  ]\n",
      " [ 0.   -2.    0.82 -0.81 -0.15  2.01  0.   -0.4  -0.29  1.22]\n",
      " [ 0.   -1.41 -0.34  1.89 -0.25  0.22  0.    0.    1.15 -0.26]\n",
      " [ 0.    0.   -1.23 -0.76 -0.59  2.05  0.48  0.07  0.    2.51]\n",
      " [ 0.   -0.57  0.73  0.5   0.    1.5  -1.21  0.    0.    0.  ]]\n",
      "0.976191488\n",
      "[0.   0.91 0.35 0.04 0.  ]\n"
     ]
    },
    {
     "name": "stderr",
     "output_type": "stream",
     "text": [
      "\n"
     ]
    }
   ],
   "source": [
    "population = evolve(pop_size = 1000, gens = 100, season_length = 1000, E=5)"
   ]
  },
  {
   "cell_type": "code",
   "execution_count": 31,
   "metadata": {},
   "outputs": [
    {
     "data": {
      "text/plain": [
       "[<matplotlib.lines.Line2D at 0x1a15a73898>]"
      ]
     },
     "execution_count": 31,
     "metadata": {},
     "output_type": "execute_result"
    },
    {
     "data": {
      "image/png": "[encoded data removed]",
      "text/plain": [
       "<Figure size 432x288 with 1 Axes>"
      ]
     },
     "metadata": {
      "needs_background": "light"
     },
     "output_type": "display_data"
    }
   ],
   "source": [
    "plt.plot(average_fitness)"
   ]
  },
  {
   "cell_type": "code",
   "execution_count": 1,
   "metadata": {},
   "outputs": [],
   "source": [
    "pop=[1,2,3,4,5]"
   ]
  },
  {
   "cell_type": "code",
   "execution_count": 18,
   "metadata": {},
   "outputs": [
    {
     "data": {
      "text/plain": [
       "3.0"
      ]
     },
     "execution_count": 18,
     "metadata": {},
     "output_type": "execute_result"
    }
   ],
   "source": [
    "np.average(pop)"
   ]
  },
  {
   "cell_type": "code",
   "execution_count": 17,
   "metadata": {},
   "outputs": [
    {
     "name": "stdout",
     "output_type": "stream",
     "text": [
      "[2 1 4 5]\n",
      "[2 1 4 3]\n",
      "[2 5 3 4]\n",
      "[5 2 4 3]\n",
      "[2 1 3 5]\n",
      "[5 4 2 3]\n",
      "[3 5 4 2]\n",
      "[5 1 2 3]\n",
      "[3 2 1 5]\n",
      "[4 2 5 3]\n",
      "[5 4 2 1]\n",
      "[2 4 3 1]\n",
      "[2 5 1 3]\n",
      "[1 5 4 3]\n",
      "[5 4 3 1]\n",
      "[4 2 3 5]\n",
      "[2 3 4 5]\n",
      "[1 4 3 2]\n",
      "[1 2 3 5]\n",
      "[4 3 1 2]\n",
      "[2 5 4 1]\n",
      "[1 4 2 3]\n",
      "[3 1 4 5]\n",
      "[3 4 2 1]\n",
      "[1 5 4 2]\n",
      "[3 5 4 1]\n",
      "[1 4 3 5]\n",
      "[2 5 1 4]\n",
      "[1 3 2 5]\n",
      "[1 5 3 4]\n",
      "[3 4 5 2]\n",
      "[1 4 3 5]\n",
      "[4 5 3 1]\n",
      "[2 3 5 1]\n",
      "[2 1 3 4]\n",
      "[5 3 1 4]\n",
      "[3 4 1 5]\n",
      "[5 3 4 1]\n",
      "[3 1 2 4]\n",
      "[4 5 2 3]\n",
      "[4 1 2 3]\n",
      "[4 5 2 3]\n",
      "[4 2 3 5]\n",
      "[3 2 1 4]\n",
      "[2 1 3 5]\n",
      "[3 1 2 5]\n",
      "[5 3 4 2]\n",
      "[4 3 5 1]\n",
      "[3 4 1 2]\n",
      "[3 1 5 2]\n",
      "[1 5 4 3]\n",
      "[1 3 4 5]\n",
      "[3 4 2 5]\n",
      "[3 2 4 5]\n",
      "[5 4 2 3]\n",
      "[2 3 1 4]\n",
      "[1 5 3 4]\n",
      "[2 4 1 5]\n",
      "[3 2 5 4]\n",
      "[5 3 4 2]\n",
      "[3 1 2 4]\n",
      "[2 4 1 5]\n",
      "[3 2 5 1]\n",
      "[5 3 2 4]\n",
      "[4 5 2 1]\n",
      "[1 5 2 4]\n",
      "[2 4 3 5]\n",
      "[5 2 1 3]\n",
      "[5 4 1 2]\n",
      "[4 1 3 5]\n",
      "[3 1 5 4]\n",
      "[2 5 4 3]\n",
      "[3 2 4 5]\n",
      "[2 5 1 4]\n",
      "[2 5 4 1]\n",
      "[2 1 4 3]\n",
      "[1 3 5 2]\n",
      "[4 5 2 1]\n",
      "[5 1 2 4]\n",
      "[3 5 2 4]\n",
      "[2 4 1 5]\n",
      "[5 1 4 2]\n",
      "[1 4 2 3]\n",
      "[2 3 1 5]\n",
      "[4 3 5 1]\n",
      "[4 5 3 2]\n",
      "[4 5 2 3]\n",
      "[4 5 2 1]\n",
      "[1 3 4 2]\n",
      "[1 2 4 5]\n",
      "[5 1 2 4]\n",
      "[3 2 5 4]\n",
      "[3 4 2 5]\n",
      "[5 4 1 3]\n",
      "[4 3 1 2]\n",
      "[5 4 1 2]\n",
      "[3 1 2 5]\n",
      "[4 5 1 2]\n",
      "[5 2 1 4]\n",
      "[2 3 5 4]\n"
     ]
    }
   ],
   "source": [
    "for i in range(100):\n",
    "    sample = np.random.choice(pop, 4, replace=False)\n",
    "    print(sample)\n",
    "    if sample[0]==sample[1]:\n",
    "        print(\"SAME\")"
   ]
  },
  {
   "cell_type": "code",
   "execution_count": 11,
   "metadata": {},
   "outputs": [
    {
     "data": {
      "text/plain": [
       "array([2, 4])"
      ]
     },
     "execution_count": 11,
     "metadata": {},
     "output_type": "execute_result"
    }
   ],
   "source": [
    "sample"
   ]
  },
  {
   "cell_type": "code",
   "execution_count": null,
   "metadata": {},
   "outputs": [],
   "source": []
  }
 ],
 "metadata": {
  "kernelspec": {
   "display_name": "Python 3",
   "language": "python",
   "name": "python3"
  },
  "language_info": {
   "codemirror_mode": {
    "name": "ipython",
    "version": 3
   },
   "file_extension": ".py",
   "mimetype": "text/x-python",
   "name": "python",
   "nbconvert_exporter": "python",
   "pygments_lexer": "ipython3",
   "version": "3.7.2"
  }
 },
 "nbformat": 4,
 "nbformat_minor": 2
}
